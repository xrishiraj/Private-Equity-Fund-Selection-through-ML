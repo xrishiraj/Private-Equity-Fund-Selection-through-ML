{
 "cells": [
  {
   "cell_type": "code",
   "execution_count": 1,
   "metadata": {
    "cell_id": "00000-22e14e28-688e-423b-956c-1d90cf7d0db6",
    "deepnote_cell_type": "code",
    "deepnote_to_be_reexecuted": false,
    "execution_millis": 1073,
    "execution_start": 1619549756883,
    "source_hash": "66f6c83f",
    "tags": []
   },
   "outputs": [],
   "source": [
    "import pandas as pd\n",
    "import numpy as np\n",
    "import datetime as dt\n",
    "import matplotlib.pyplot as plt\n",
    "import seaborn as sns\n",
    "import random"
   ]
  },
  {
   "cell_type": "code",
   "execution_count": 2,
   "metadata": {
    "cell_id": "00001-aef8357e-57ed-4925-9df9-c15588a3ae5d",
    "deepnote_cell_type": "code",
    "deepnote_to_be_reexecuted": false,
    "execution_millis": 84,
    "execution_start": 1619549757959,
    "source_hash": "3eefe2e2",
    "tags": []
   },
   "outputs": [
    {
     "data": {
      "text/plain": [
       "(111815, 9)"
      ]
     },
     "execution_count": 2,
     "metadata": {},
     "output_type": "execute_result"
    }
   ],
   "source": [
    "# Reading the csv file. I have uploaded the csv file in the same folder.\n",
    "df = pd.read_csv(\"FUNDHISTORICPERFORMANCE (1).csv\")\n",
    "df.shape"
   ]
  },
  {
   "cell_type": "code",
   "execution_count": 3,
   "metadata": {
    "cell_id": "00002-961dfe70-1584-4b00-93b2-ed0667962d17",
    "deepnote_cell_type": "code",
    "deepnote_to_be_reexecuted": false,
    "execution_millis": 5,
    "execution_start": 1619549758040,
    "source_hash": "8ce1cdbd",
    "tags": []
   },
   "outputs": [],
   "source": [
    "df['Date_Reported'] = pd.to_datetime(df['Date_Reported'], format='%Y%m%d')"
   ]
  },
  {
   "cell_type": "code",
   "execution_count": 4,
   "metadata": {
    "cell_id": "00003-6e8bfa25-48df-41a0-9d40-334b20d21614",
    "deepnote_cell_type": "code",
    "deepnote_to_be_reexecuted": false,
    "execution_millis": 33,
    "execution_start": 1619549758053,
    "source_hash": "ac40d5d2",
    "tags": []
   },
   "outputs": [
    {
     "data": {
      "text/plain": [
       "(2553, 9)"
      ]
     },
     "execution_count": 4,
     "metadata": {},
     "output_type": "execute_result"
    }
   ],
   "source": [
    "df_na = df.dropna() # dropping Nan rows \n",
    "group_na = df_na.groupby(as_index=False, by = \"Fund_Id\")[\"Date_Reported\"].max() # Grouping by max\n",
    "df_hist_na = df_na.merge(group_na, how=\"inner\", on=[\"Fund_Id\", \"Date_Reported\"]) # merging back to have max date_reported values\n",
    "df_hist_na.shape"
   ]
  },
  {
   "cell_type": "code",
   "execution_count": 5,
   "metadata": {
    "cell_id": "00004-cb784c9a-7682-4e3f-ac43-b3b8eaabfecd",
    "deepnote_cell_type": "code",
    "deepnote_to_be_reexecuted": false,
    "execution_millis": 151,
    "execution_start": 1619549758084,
    "source_hash": "f350cc2",
    "tags": []
   },
   "outputs": [
    {
     "data": {
      "text/plain": [
       "(30213, 31)"
      ]
     },
     "execution_count": 5,
     "metadata": {},
     "output_type": "execute_result"
    }
   ],
   "source": [
    "df_detail =pd.read_csv(\"FUNDDETAILS (2).csv\")\n",
    "df_detail.shape\n",
    "# Loading the next table that is Fund Details"
   ]
  },
  {
   "cell_type": "code",
   "execution_count": 6,
   "metadata": {
    "cell_id": "00005-6bd1f444-e792-4fc6-87d3-d196f11ba73f",
    "deepnote_cell_type": "code",
    "deepnote_to_be_reexecuted": false,
    "execution_millis": 12,
    "execution_start": 1619549758279,
    "source_hash": "5cbbed33",
    "tags": []
   },
   "outputs": [
    {
     "data": {
      "text/plain": [
       "(2553, 38)"
      ]
     },
     "execution_count": 6,
     "metadata": {},
     "output_type": "execute_result"
    }
   ],
   "source": [
    "df_merge_hist = df_detail.merge(df_hist_na, how=\"inner\", on=[\"Fund_Id\", \"Vintage\"]) #  merging fund details with Fund hist\n",
    "df_merge_hist.shape"
   ]
  },
  {
   "cell_type": "code",
   "execution_count": 7,
   "metadata": {
    "cell_id": "00006-d2a40f68-419f-4431-9ad0-40549bf6a379",
    "deepnote_cell_type": "code",
    "deepnote_to_be_reexecuted": false,
    "execution_millis": 214,
    "execution_start": 1619549758280,
    "source_hash": "a207bd69",
    "tags": []
   },
   "outputs": [
    {
     "data": {
      "text/plain": [
       "(20724, 35)"
      ]
     },
     "execution_count": 7,
     "metadata": {},
     "output_type": "execute_result"
    }
   ],
   "source": [
    "df_mng = pd.read_csv(\"MANAGERDETAILS (1).csv\") # Loading the manager details\n",
    "df_mng.shape"
   ]
  },
  {
   "cell_type": "code",
   "execution_count": 8,
   "metadata": {
    "cell_id": "00007-8b41c81e-9976-477d-8471-ea28de09584a",
    "deepnote_cell_type": "code",
    "deepnote_to_be_reexecuted": false,
    "execution_millis": 33,
    "execution_start": 1619549758491,
    "source_hash": "92f4bec4",
    "tags": []
   },
   "outputs": [
    {
     "data": {
      "text/plain": [
       "(2546, 72)"
      ]
     },
     "execution_count": 8,
     "metadata": {},
     "output_type": "execute_result"
    }
   ],
   "source": [
    "df_hist_mng = df_merge_hist.merge(df_mng, how=\"inner\", on=\"Firm_Id\") # merging the manager table also\n",
    "df_hist_mng.shape"
   ]
  },
  {
   "cell_type": "code",
   "execution_count": 9,
   "metadata": {
    "cell_id": "00008-a1de73d7-6c6f-496f-8d8e-b43c3dc610b2",
    "deepnote_cell_type": "code",
    "deepnote_to_be_reexecuted": false,
    "execution_millis": 7,
    "execution_start": 1619549758539,
    "source_hash": "5559baaf",
    "tags": []
   },
   "outputs": [
    {
     "data": {
      "text/plain": [
       "Index(['Fund_Id', 'Firm_Id', 'Fund_Name', 'Firm_Name', 'Vintage', 'Fund_Type',\n",
       "       'Fundraising_Launch_Date', 'Local_Currency', 'Target_Size_LC',\n",
       "       'Target_Size_USD', 'Target_Size_EUR', 'Final_Size_LC', 'Final_Size_USD',\n",
       "       'Final_Size_EUR', 'Latest_Interim_Close_Size_LC',\n",
       "       'Latest_Interim_Close_Size_USD', 'Latest_Interim_Close_Size_EUR',\n",
       "       'Latest_Interim_Close_Date', 'Fund_Status', 'Final_Close_Date',\n",
       "       'Fund_Focus', 'Fund_Number_Overall', 'Fund_Number_Series',\n",
       "       'Fund_Structure', 'Geographic_Scope', 'Region', 'Industry',\n",
       "       'Placement_Agents', 'Law_Firm', 'Administrator', 'Auditor',\n",
       "       'Benchmark_ID', 'Date_Reported', 'Called_Pcent', 'Distr_DPI_Pcent',\n",
       "       'Value_RVPI_Pcent', 'Multiple', 'Net_IRR_Pcent', 'FirmName', 'FirmType',\n",
       "       'LastUpdated', 'Status', 'SourceOfCapital', 'MainFirmStrategy',\n",
       "       'FirmAddress1', 'FirmAddress2', 'FirmCity', 'FirmState', 'FirmZipCode',\n",
       "       'FirmCountry', 'About', 'Established', 'StaffCountTotal',\n",
       "       'StaffCountManagement', 'StaffCountInvestment', 'FirmTrait',\n",
       "       'ProfileCurrency', 'TotalFundsRaised10YearsMn',\n",
       "       'InvestorCoInvestmentRights', 'TotalNumOfPortfolioCompanies',\n",
       "       'CurrentNumOfPortfolioCompanies', 'AverageTransactionsPerAnnumMin',\n",
       "       'AverageTransactionsPerAnnumMax', 'WelcomeBusinessPlan',\n",
       "       'BusinessPlanLocation', 'GeoFocus', 'CountryFocus', 'IndustryFocus',\n",
       "       'isMinorityOwned', 'isWomenOwned', 'Listed_Firm', 'FirmEthos'],\n",
       "      dtype='object')"
      ]
     },
     "execution_count": 9,
     "metadata": {},
     "output_type": "execute_result"
    }
   ],
   "source": [
    "df_hist_mng.columns"
   ]
  },
  {
   "cell_type": "code",
   "execution_count": 10,
   "metadata": {
    "cell_id": "00009-ec108e3b-6499-4358-8bb3-2846fabd5f7f",
    "deepnote_cell_type": "code",
    "deepnote_to_be_reexecuted": false,
    "execution_millis": 7,
    "execution_start": 1619549758539,
    "source_hash": "ca562ec2",
    "tags": []
   },
   "outputs": [
    {
     "data": {
      "text/plain": [
       "(2546, 34)"
      ]
     },
     "execution_count": 10,
     "metadata": {},
     "output_type": "execute_result"
    }
   ],
   "source": [
    "df_data = df_hist_mng.drop(labels=[\"Latest_Interim_Close_Size_LC\", \"Latest_Interim_Close_Size_USD\",\n",
    "\"Latest_Interim_Close_Size_EUR\", \"Latest_Interim_Close_Date\",\"Fund_Structure\",\"MainFirmStrategy\",\n",
    "\"Region\", \"Placement_Agents\", \"Law_Firm\",\"Final_Size_LC\", \"Final_Size_EUR\",'TotalNumOfPortfolioCompanies',\n",
    "'CurrentNumOfPortfolioCompanies',\"Administrator\", \"Auditor\", \"Target_Size_LC\", \"Date_Reported\",'SourceOfCapital','ProfileCurrency',\n",
    "\"Target_Size_USD\",\"Target_Size_EUR\", \"Fundraising_Launch_Date\", \"Status\", \"FirmAddress1\", 'GeoFocus',\"IndustryFocus\",\n",
    "\"FirmAddress2\",\"FirmZipCode\",'FirmTrait' ,\"FirmCity\",\"FirmState\", 'FirmType',\"TotalFundsRaised10YearsMn\",\n",
    "\"About\", \"StaffCountTotal\", \"StaffCountInvestment\", \"WelcomeBusinessPlan\", \"CountryFocus\"], axis=1) # dropping variables\n",
    "df_data.shape"
   ]
  },
  {
   "cell_type": "code",
   "execution_count": 11,
   "metadata": {
    "cell_id": "00012-8c2ce89a-2dad-42f2-a2d9-81367b52b61b",
    "deepnote_cell_type": "code",
    "deepnote_to_be_reexecuted": false,
    "execution_millis": 11,
    "execution_start": 1619549758542,
    "source_hash": "57fe032d",
    "tags": []
   },
   "outputs": [
    {
     "data": {
      "text/plain": [
       "Fund_Id                              0\n",
       "Firm_Id                              0\n",
       "Fund_Name                            0\n",
       "Firm_Name                            0\n",
       "Vintage                              0\n",
       "Fund_Type                            0\n",
       "Local_Currency                       1\n",
       "Final_Size_USD                     104\n",
       "Fund_Status                          0\n",
       "Final_Close_Date                     9\n",
       "Fund_Focus                           0\n",
       "Fund_Number_Overall                  0\n",
       "Fund_Number_Series                   0\n",
       "Geographic_Scope                    27\n",
       "Industry                             7\n",
       "Benchmark_ID                         0\n",
       "Called_Pcent                         0\n",
       "Distr_DPI_Pcent                      0\n",
       "Value_RVPI_Pcent                     0\n",
       "Multiple                             0\n",
       "Net_IRR_Pcent                        0\n",
       "FirmName                             0\n",
       "LastUpdated                          0\n",
       "FirmCountry                          0\n",
       "Established                         50\n",
       "StaffCountManagement               845\n",
       "InvestorCoInvestmentRights        1800\n",
       "AverageTransactionsPerAnnumMin    2410\n",
       "AverageTransactionsPerAnnumMax    2464\n",
       "BusinessPlanLocation              1962\n",
       "isMinorityOwned                   2480\n",
       "isWomenOwned                      2473\n",
       "Listed_Firm                       2431\n",
       "FirmEthos                         1781\n",
       "dtype: int64"
      ]
     },
     "execution_count": 11,
     "metadata": {},
     "output_type": "execute_result"
    }
   ],
   "source": [
    "df_data.isna().sum()"
   ]
  },
  {
   "cell_type": "code",
   "execution_count": 12,
   "metadata": {
    "cell_id": "00011-bbca01d6-f2c9-4bcf-b3a0-75a59dbc61dc",
    "deepnote_cell_type": "code",
    "deepnote_to_be_reexecuted": false,
    "execution_millis": 23,
    "execution_start": 1619549758577,
    "source_hash": "580c0e24",
    "tags": []
   },
   "outputs": [
    {
     "data": {
      "text/plain": [
       "(2546, 25)"
      ]
     },
     "execution_count": 12,
     "metadata": {},
     "output_type": "execute_result"
    }
   ],
   "source": [
    "# removing those columns that have more than 500 naN values\n",
    "na_values = []\n",
    "for col in df_data.columns:\n",
    "  if df_data[col].isna().sum() > 500:\n",
    "    na_values.append(col)\n",
    "df_data = df_data.drop(labels=na_values, axis=1)\n",
    "df_data.shape"
   ]
  },
  {
   "cell_type": "code",
   "execution_count": 13,
   "metadata": {
    "cell_id": "00024-29b5aee2-5bbf-415b-abb7-d3f96f100f2a",
    "deepnote_cell_type": "code",
    "deepnote_to_be_reexecuted": false,
    "execution_millis": 0,
    "execution_start": 1619549758578,
    "source_hash": "9aea51b7",
    "tags": []
   },
   "outputs": [],
   "source": [
    "df_data = df_data.dropna()"
   ]
  },
  {
   "cell_type": "code",
   "execution_count": 14,
   "metadata": {
    "cell_id": "00025-75c8c5f8-bf5e-43f3-bb61-3d5b7b6f227a",
    "deepnote_cell_type": "code",
    "deepnote_to_be_reexecuted": false,
    "execution_millis": 21,
    "execution_start": 1619549758579,
    "source_hash": "e30d0465",
    "tags": []
   },
   "outputs": [
    {
     "data": {
      "text/plain": [
       "Index(['Fund_Id', 'Firm_Id', 'Fund_Name', 'Firm_Name', 'Vintage', 'Fund_Type',\n",
       "       'Local_Currency', 'Final_Size_USD', 'Fund_Status', 'Final_Close_Date',\n",
       "       'Fund_Focus', 'Fund_Number_Overall', 'Fund_Number_Series',\n",
       "       'Geographic_Scope', 'Industry', 'Benchmark_ID', 'Called_Pcent',\n",
       "       'Distr_DPI_Pcent', 'Value_RVPI_Pcent', 'Multiple', 'Net_IRR_Pcent',\n",
       "       'FirmName', 'LastUpdated', 'FirmCountry', 'Established'],\n",
       "      dtype='object')"
      ]
     },
     "execution_count": 14,
     "metadata": {},
     "output_type": "execute_result"
    }
   ],
   "source": [
    "df_data.columns"
   ]
  },
  {
   "cell_type": "code",
   "execution_count": 15,
   "metadata": {
    "cell_id": "00026-b39b334b-cff5-401a-aca5-a3f1b3d84167",
    "deepnote_cell_type": "code",
    "deepnote_to_be_reexecuted": false,
    "execution_millis": 2,
    "execution_start": 1619549758580,
    "source_hash": "7aaef5ef",
    "tags": []
   },
   "outputs": [],
   "source": [
    "# Dropping those funds that have 0 in either fund_number_overall and Fund_number_series\n",
    "# df_data = df_data[df_data.Fund_Number_Series == 0]"
   ]
  },
  {
   "cell_type": "code",
   "execution_count": 16,
   "metadata": {
    "cell_id": "00031-30cc25de-58d0-49e1-8e0f-81e21f11b371",
    "deepnote_cell_type": "code",
    "deepnote_to_be_reexecuted": false,
    "execution_millis": 9,
    "execution_start": 1619549758583,
    "source_hash": "4c5ba69a",
    "tags": []
   },
   "outputs": [],
   "source": [
    "df_data = df_data[df_data.Fund_Number_Series != 0]"
   ]
  },
  {
   "cell_type": "code",
   "execution_count": 17,
   "metadata": {
    "cell_id": "00033-097fef51-aa9f-4193-a08f-6bc01e214f9e",
    "deepnote_cell_type": "code",
    "deepnote_to_be_reexecuted": false,
    "execution_millis": 1,
    "execution_start": 1619549758593,
    "source_hash": "9aea51b7",
    "tags": []
   },
   "outputs": [],
   "source": [
    "df_data = df_data.dropna()"
   ]
  },
  {
   "cell_type": "code",
   "execution_count": 18,
   "metadata": {
    "cell_id": "00034-1c0cb92b-5372-4c53-8e04-3198757e8d66",
    "deepnote_cell_type": "code",
    "deepnote_to_be_reexecuted": false,
    "execution_millis": 19,
    "execution_start": 1619549758597,
    "source_hash": "897740e3",
    "tags": []
   },
   "outputs": [
    {
     "data": {
      "text/plain": [
       "Buyout                         943\n",
       "Venture (General)              391\n",
       "Fund of Funds                  319\n",
       "Early Stage                    177\n",
       "Growth                         158\n",
       "Secondaries                     95\n",
       "Balanced                        56\n",
       "Expansion / Late Stage          55\n",
       "Early Stage: Start-up           23\n",
       "Early Stage: Seed               22\n",
       "Direct Secondaries              13\n",
       "Turnaround                       9\n",
       "Co-Investment Multi-Manager      3\n",
       "Name: Fund_Type, dtype: int64"
      ]
     },
     "execution_count": 18,
     "metadata": {},
     "output_type": "execute_result"
    }
   ],
   "source": [
    "df_data.Fund_Type.value_counts()"
   ]
  },
  {
   "cell_type": "code",
   "execution_count": 20,
   "metadata": {
    "cell_id": "00036-0971ea3b-db76-4486-8e44-f879110f389d",
    "deepnote_cell_type": "code",
    "deepnote_to_be_reexecuted": false,
    "execution_millis": 0,
    "execution_start": 1619549758637,
    "source_hash": "16ab476a",
    "tags": []
   },
   "outputs": [],
   "source": [
    "df_data = df_data.replace({'Fund_Type': \n",
    "    {\"Turnaround\":\"Buyout\",\n",
    "    \"Direct Secondaries\":\"Buyout\",\n",
    "    \"Secondaries\": \"Buyout\",\n",
    "    \"Early Stage\":\"Venture_Cap\", \n",
    "    \"Early Stage: Seed\":\"Venture_Cap\", \n",
    "    \"Venture (General)\":\"Venture_Cap\",\n",
    "    \"Expansion / Late Stage\":\"Venture_Cap\", \n",
    "    \"Early Stage: Start-up\":\"Venture_Cap\",\n",
    "    \"Co-Investment Multi-Manager\":\"Fund of Funds\"}\n",
    "    })"
   ]
  },
  {
   "cell_type": "code",
   "execution_count": 21,
   "metadata": {
    "cell_id": "00020-bc4c8257-20b1-44f0-b8ff-5c33c3d70832",
    "deepnote_cell_type": "code",
    "deepnote_to_be_reexecuted": false,
    "execution_millis": 0,
    "execution_start": 1619549758638,
    "source_hash": "c6e282c0",
    "tags": []
   },
   "outputs": [],
   "source": [
    "# Dropping Balanced, Fund of Funds and Growth\n",
    "df_data = df_data[df_data.Fund_Type != \"Balanced\"]\n",
    "df_data = df_data[df_data.Fund_Type != \"Fund of Funds\"]\n",
    "df_data = df_data[df_data.Fund_Type !=  \"Growth\"]"
   ]
  },
  {
   "cell_type": "code",
   "execution_count": 22,
   "metadata": {
    "cell_id": "00020-cd70cf31-458d-4a6e-ac61-dbefffe3ec2d",
    "deepnote_cell_type": "code",
    "deepnote_to_be_reexecuted": false,
    "execution_millis": 20,
    "execution_start": 1619549758638,
    "source_hash": "897740e3",
    "tags": []
   },
   "outputs": [
    {
     "data": {
      "text/plain": [
       "Buyout         1060\n",
       "Venture_Cap     668\n",
       "Name: Fund_Type, dtype: int64"
      ]
     },
     "execution_count": 22,
     "metadata": {},
     "output_type": "execute_result"
    }
   ],
   "source": [
    "df_data.Fund_Type.value_counts()"
   ]
  },
  {
   "cell_type": "code",
   "execution_count": 23,
   "metadata": {
    "cell_id": "00036-76dde792-ff0b-4d62-a7ab-75b776d52eaf",
    "deepnote_cell_type": "code",
    "deepnote_to_be_reexecuted": false,
    "execution_millis": 7,
    "execution_start": 1619549758641,
    "source_hash": "5b6d6590",
    "tags": []
   },
   "outputs": [],
   "source": [
    "# removing funds below 10 million\n",
    "df_data = df_data[df_data['Final_Size_USD'] > 10]"
   ]
  },
  {
   "cell_type": "code",
   "execution_count": 24,
   "metadata": {
    "cell_id": "00032-00796ef6-d009-42b6-9697-c57f0bf240a2",
    "deepnote_cell_type": "code",
    "deepnote_to_be_reexecuted": false,
    "execution_millis": 71,
    "execution_start": 1619549758651,
    "source_hash": "efc10483",
    "tags": []
   },
   "outputs": [],
   "source": [
    "df_data.to_csv(\"Latest_Data_VC_BO.csv\", index=False)"
   ]
  },
  {
   "cell_type": "code",
   "execution_count": 25,
   "metadata": {
    "cell_id": "00023-18de7343-7504-4ef3-ab57-a7ce67fb2b2d",
    "deepnote_cell_type": "code",
    "deepnote_to_be_reexecuted": false,
    "execution_millis": 9,
    "execution_start": 1619549758723,
    "source_hash": "98105db9",
    "tags": []
   },
   "outputs": [
    {
     "data": {
      "text/plain": [
       "(1723, 25)"
      ]
     },
     "execution_count": 25,
     "metadata": {},
     "output_type": "execute_result"
    }
   ],
   "source": [
    "df_data.shape"
   ]
  },
  {
   "cell_type": "code",
   "execution_count": 26,
   "metadata": {
    "cell_id": "00035-c3991fb9-d153-44df-a554-b7645d392c9c",
    "deepnote_cell_type": "code",
    "deepnote_to_be_reexecuted": false,
    "execution_millis": 9,
    "execution_start": 1619549758723,
    "source_hash": "cc293372",
    "tags": []
   },
   "outputs": [
    {
     "data": {
      "text/plain": [
       "Fund_Id                0\n",
       "Firm_Id                0\n",
       "Fund_Name              0\n",
       "Firm_Name              0\n",
       "Vintage                0\n",
       "Fund_Type              0\n",
       "Local_Currency         0\n",
       "Final_Size_USD         0\n",
       "Fund_Status            0\n",
       "Final_Close_Date       0\n",
       "Fund_Focus             0\n",
       "Fund_Number_Overall    0\n",
       "Fund_Number_Series     0\n",
       "Geographic_Scope       0\n",
       "Industry               0\n",
       "Benchmark_ID           0\n",
       "Called_Pcent           0\n",
       "Distr_DPI_Pcent        0\n",
       "Value_RVPI_Pcent       0\n",
       "Multiple               0\n",
       "Net_IRR_Pcent          0\n",
       "FirmName               0\n",
       "LastUpdated            0\n",
       "FirmCountry            0\n",
       "Established            0\n",
       "dtype: int64"
      ]
     },
     "execution_count": 26,
     "metadata": {},
     "output_type": "execute_result"
    }
   ],
   "source": [
    "df_data[(df_data.Fund_Number_Overall == 0) & (df_data.Fund_Number_Series == 0)].count()"
   ]
  }
 ],
 "metadata": {
  "deepnote": {
   "is_reactive": false
  },
  "deepnote_execution_queue": [],
  "deepnote_notebook_id": "98e360d2-ff77-489b-936a-cd2cb3cfb531",
  "kernelspec": {
   "display_name": "Thesis",
   "language": "python",
   "name": "juplab"
  },
  "language_info": {
   "codemirror_mode": {
    "name": "ipython",
    "version": 3
   },
   "file_extension": ".py",
   "mimetype": "text/x-python",
   "name": "python",
   "nbconvert_exporter": "python",
   "pygments_lexer": "ipython3",
   "version": "3.9.2"
  }
 },
 "nbformat": 4,
 "nbformat_minor": 4
}
