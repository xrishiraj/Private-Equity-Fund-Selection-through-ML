{
 "cells": [
  {
   "cell_type": "code",
   "execution_count": 35,
   "id": "5f774745",
   "metadata": {
    "cell_id": "00000-ec3ddc1a-284b-46d6-814f-d32df0ecad31",
    "deepnote_cell_type": "code",
    "deepnote_to_be_reexecuted": false,
    "execution_millis": 2204,
    "execution_start": 1619550136643,
    "source_hash": "940d52f2"
   },
   "outputs": [],
   "source": [
    "import numpy as np\n",
    "import pandas as pd \n",
    "import statsmodels.api as sm\n",
    "import seaborn as sns\n",
    "import matplotlib.pyplot as plt\n",
    "from sklearn.preprocessing import scale, StandardScaler\n",
    "from sklearn.model_selection import train_test_split, GridSearchCV, cross_val_score\n",
    "from sklearn.metrics import confusion_matrix, accuracy_score, mean_squared_error, r2_score, roc_auc_score, roc_curve, classification_report\n",
    "from sklearn.linear_model import LogisticRegression\n",
    "from sklearn.neighbors import KNeighborsClassifier\n",
    "from sklearn.svm import SVC\n",
    "from sklearn.neural_network import MLPClassifier\n",
    "from sklearn.tree import DecisionTreeClassifier\n",
    "from sklearn.ensemble import RandomForestClassifier\n",
    "from sklearn.ensemble import GradientBoostingClassifier\n",
    "%matplotlib inline"
   ]
  },
  {
   "cell_type": "code",
   "execution_count": 36,
   "id": "5a763841",
   "metadata": {
    "cell_id": "00001-44874e5c-9ecb-4fee-9266-c0bba51aeb29",
    "deepnote_cell_type": "code",
    "deepnote_to_be_reexecuted": false,
    "execution_millis": 7,
    "execution_start": 1619550138849,
    "source_hash": "93bde797"
   },
   "outputs": [],
   "source": [
    "import warnings\n",
    "warnings.filterwarnings(\"ignore\", category=DeprecationWarning) \n",
    "warnings.filterwarnings(\"ignore\", category=FutureWarning) "
   ]
  },
  {
   "cell_type": "code",
   "execution_count": 37,
   "id": "1a9f4524",
   "metadata": {
    "cell_id": "00002-c016141d-f871-43c1-ada6-e00041d3fffe",
    "deepnote_cell_type": "code",
    "deepnote_to_be_reexecuted": false,
    "execution_millis": 20,
    "execution_start": 1619550138856,
    "source_hash": "3991def9",
    "tags": []
   },
   "outputs": [
    {
     "data": {
      "text/plain": [
       "(1720, 2)"
      ]
     },
     "execution_count": 37,
     "metadata": {},
     "output_type": "execute_result"
    }
   ],
   "source": [
    "# Loading PME data \n",
    "df_pme = pd.read_csv('pme.csv')\n",
    "df_pme = df_pme.drop(['Unnamed: 0'], axis =1)\n",
    "df_pme.shape"
   ]
  },
  {
   "cell_type": "code",
   "execution_count": 38,
   "id": "1e247350",
   "metadata": {
    "cell_id": "00004-3feee6aa-a633-4eb9-bd16-0c1aed4a6470",
    "deepnote_cell_type": "code",
    "deepnote_to_be_reexecuted": false,
    "execution_millis": 121,
    "execution_start": 1619550138886,
    "source_hash": "ab0c8470",
    "tags": []
   },
   "outputs": [
    {
     "data": {
      "text/html": [
       "<div>\n",
       "<style scoped>\n",
       "    .dataframe tbody tr th:only-of-type {\n",
       "        vertical-align: middle;\n",
       "    }\n",
       "\n",
       "    .dataframe tbody tr th {\n",
       "        vertical-align: top;\n",
       "    }\n",
       "\n",
       "    .dataframe thead th {\n",
       "        text-align: right;\n",
       "    }\n",
       "</style>\n",
       "<table border=\"1\" class=\"dataframe\">\n",
       "  <thead>\n",
       "    <tr style=\"text-align: right;\">\n",
       "      <th></th>\n",
       "      <th>Fund_Id</th>\n",
       "      <th>Fund_Name</th>\n",
       "      <th>Firm_Name</th>\n",
       "      <th>Fund_Type</th>\n",
       "      <th>Fund_Size</th>\n",
       "      <th>Fund_Number_Overall</th>\n",
       "      <th>Fund_Number_Series</th>\n",
       "      <th>Called_Pcent</th>\n",
       "      <th>Distr_DPI_Pcent</th>\n",
       "      <th>Value_RVPI_Pcent</th>\n",
       "      <th>...</th>\n",
       "      <th>Fund_Type_Venture_Cap</th>\n",
       "      <th>Local_Currency_USD</th>\n",
       "      <th>Local_Currency_EUR</th>\n",
       "      <th>Fund_Status_Closed</th>\n",
       "      <th>Fund_Status_Liquidated</th>\n",
       "      <th>Fund_Focus_US</th>\n",
       "      <th>Fund_Focus_Europe</th>\n",
       "      <th>Fund_Focus_Asia</th>\n",
       "      <th>Geographic_Scope_Diversified</th>\n",
       "      <th>Industry_Diversified</th>\n",
       "    </tr>\n",
       "  </thead>\n",
       "  <tbody>\n",
       "    <tr>\n",
       "      <th>0</th>\n",
       "      <td>3</td>\n",
       "      <td>1818 Fund II</td>\n",
       "      <td>Brown Brothers Harriman</td>\n",
       "      <td>Buyout</td>\n",
       "      <td>475.0</td>\n",
       "      <td>2</td>\n",
       "      <td>2</td>\n",
       "      <td>88.5</td>\n",
       "      <td>180.74</td>\n",
       "      <td>0.0</td>\n",
       "      <td>...</td>\n",
       "      <td>0</td>\n",
       "      <td>1</td>\n",
       "      <td>0</td>\n",
       "      <td>0</td>\n",
       "      <td>1</td>\n",
       "      <td>1</td>\n",
       "      <td>0</td>\n",
       "      <td>0</td>\n",
       "      <td>0</td>\n",
       "      <td>0</td>\n",
       "    </tr>\n",
       "    <tr>\n",
       "      <th>1</th>\n",
       "      <td>9</td>\n",
       "      <td>Riverside Capital Appreciation Fund 2000</td>\n",
       "      <td>Riverside Company</td>\n",
       "      <td>Buyout</td>\n",
       "      <td>412.8</td>\n",
       "      <td>4</td>\n",
       "      <td>3</td>\n",
       "      <td>91.5</td>\n",
       "      <td>175.80</td>\n",
       "      <td>0.0</td>\n",
       "      <td>...</td>\n",
       "      <td>0</td>\n",
       "      <td>1</td>\n",
       "      <td>0</td>\n",
       "      <td>0</td>\n",
       "      <td>1</td>\n",
       "      <td>1</td>\n",
       "      <td>0</td>\n",
       "      <td>0</td>\n",
       "      <td>0</td>\n",
       "      <td>0</td>\n",
       "    </tr>\n",
       "  </tbody>\n",
       "</table>\n",
       "<p>2 rows × 29 columns</p>\n",
       "</div>"
      ],
      "text/plain": [
       "   Fund_Id                                 Fund_Name                Firm_Name  \\\n",
       "0        3                              1818 Fund II  Brown Brothers Harriman   \n",
       "1        9  Riverside Capital Appreciation Fund 2000        Riverside Company   \n",
       "\n",
       "  Fund_Type  Fund_Size  Fund_Number_Overall  Fund_Number_Series  Called_Pcent  \\\n",
       "0    Buyout      475.0                    2                   2          88.5   \n",
       "1    Buyout      412.8                    4                   3          91.5   \n",
       "\n",
       "   Distr_DPI_Pcent  Value_RVPI_Pcent  ...  Fund_Type_Venture_Cap  \\\n",
       "0           180.74               0.0  ...                      0   \n",
       "1           175.80               0.0  ...                      0   \n",
       "\n",
       "   Local_Currency_USD  Local_Currency_EUR  Fund_Status_Closed  \\\n",
       "0                   1                   0                   0   \n",
       "1                   1                   0                   0   \n",
       "\n",
       "   Fund_Status_Liquidated  Fund_Focus_US  Fund_Focus_Europe  Fund_Focus_Asia  \\\n",
       "0                       1              1                  0                0   \n",
       "1                       1              1                  0                0   \n",
       "\n",
       "   Geographic_Scope_Diversified  Industry_Diversified  \n",
       "0                             0                     0  \n",
       "1                             0                     0  \n",
       "\n",
       "[2 rows x 29 columns]"
      ]
     },
     "execution_count": 38,
     "metadata": {},
     "output_type": "execute_result"
    }
   ],
   "source": [
    "df = pd.read_csv(\"FinalDataSet_VC_BO.csv\")\n",
    "df.head(2)"
   ]
  },
  {
   "cell_type": "code",
   "execution_count": 39,
   "id": "c9e28df2",
   "metadata": {
    "cell_id": "00005-6da1e4ac-1aff-451a-bd28-f0727086c5f6",
    "deepnote_cell_type": "code",
    "deepnote_to_be_reexecuted": false,
    "execution_millis": 35,
    "execution_start": 1619550138972,
    "source_hash": "14f60b8f",
    "tags": []
   },
   "outputs": [
    {
     "data": {
      "text/plain": [
       "(1719, 29)"
      ]
     },
     "execution_count": 39,
     "metadata": {},
     "output_type": "execute_result"
    }
   ],
   "source": [
    "df.shape"
   ]
  },
  {
   "cell_type": "code",
   "execution_count": 40,
   "id": "2cf6a107",
   "metadata": {
    "cell_id": "00008-97aa350f-43c4-4072-9bdd-300fa4c0299f",
    "deepnote_cell_type": "code",
    "deepnote_to_be_reexecuted": false,
    "execution_millis": 13,
    "execution_start": 1619550138975,
    "source_hash": "1a661e4d",
    "tags": []
   },
   "outputs": [],
   "source": [
    "df = df.merge(df_pme, how=\"inner\", on=[\"Fund_Id\"])"
   ]
  },
  {
   "cell_type": "code",
   "execution_count": 41,
   "id": "d4ebe326",
   "metadata": {
    "cell_id": "00009-165b4187-c596-42c1-8212-8a48b92ed685",
    "deepnote_cell_type": "code",
    "deepnote_to_be_reexecuted": false,
    "execution_millis": 87,
    "execution_start": 1619550138994,
    "source_hash": "6cd8acfd",
    "tags": []
   },
   "outputs": [
    {
     "data": {
      "text/html": [
       "<div>\n",
       "<style scoped>\n",
       "    .dataframe tbody tr th:only-of-type {\n",
       "        vertical-align: middle;\n",
       "    }\n",
       "\n",
       "    .dataframe tbody tr th {\n",
       "        vertical-align: top;\n",
       "    }\n",
       "\n",
       "    .dataframe thead th {\n",
       "        text-align: right;\n",
       "    }\n",
       "</style>\n",
       "<table border=\"1\" class=\"dataframe\">\n",
       "  <thead>\n",
       "    <tr style=\"text-align: right;\">\n",
       "      <th></th>\n",
       "      <th>Fund_Id</th>\n",
       "      <th>Fund_Name</th>\n",
       "      <th>Firm_Name</th>\n",
       "      <th>Fund_Type</th>\n",
       "      <th>Fund_Size</th>\n",
       "      <th>Fund_Number_Overall</th>\n",
       "      <th>Fund_Number_Series</th>\n",
       "      <th>Called_Pcent</th>\n",
       "      <th>Distr_DPI_Pcent</th>\n",
       "      <th>Value_RVPI_Pcent</th>\n",
       "      <th>...</th>\n",
       "      <th>Local_Currency_USD</th>\n",
       "      <th>Local_Currency_EUR</th>\n",
       "      <th>Fund_Status_Closed</th>\n",
       "      <th>Fund_Status_Liquidated</th>\n",
       "      <th>Fund_Focus_US</th>\n",
       "      <th>Fund_Focus_Europe</th>\n",
       "      <th>Fund_Focus_Asia</th>\n",
       "      <th>Geographic_Scope_Diversified</th>\n",
       "      <th>Industry_Diversified</th>\n",
       "      <th>PME</th>\n",
       "    </tr>\n",
       "  </thead>\n",
       "  <tbody>\n",
       "    <tr>\n",
       "      <th>0</th>\n",
       "      <td>3</td>\n",
       "      <td>1818 Fund II</td>\n",
       "      <td>Brown Brothers Harriman</td>\n",
       "      <td>Buyout</td>\n",
       "      <td>475.0</td>\n",
       "      <td>2</td>\n",
       "      <td>2</td>\n",
       "      <td>88.5</td>\n",
       "      <td>180.74</td>\n",
       "      <td>0.0</td>\n",
       "      <td>...</td>\n",
       "      <td>1</td>\n",
       "      <td>0</td>\n",
       "      <td>0</td>\n",
       "      <td>1</td>\n",
       "      <td>1</td>\n",
       "      <td>0</td>\n",
       "      <td>0</td>\n",
       "      <td>0</td>\n",
       "      <td>0</td>\n",
       "      <td>0.914287</td>\n",
       "    </tr>\n",
       "    <tr>\n",
       "      <th>1</th>\n",
       "      <td>9</td>\n",
       "      <td>Riverside Capital Appreciation Fund 2000</td>\n",
       "      <td>Riverside Company</td>\n",
       "      <td>Buyout</td>\n",
       "      <td>412.8</td>\n",
       "      <td>4</td>\n",
       "      <td>3</td>\n",
       "      <td>91.5</td>\n",
       "      <td>175.80</td>\n",
       "      <td>0.0</td>\n",
       "      <td>...</td>\n",
       "      <td>1</td>\n",
       "      <td>0</td>\n",
       "      <td>0</td>\n",
       "      <td>1</td>\n",
       "      <td>1</td>\n",
       "      <td>0</td>\n",
       "      <td>0</td>\n",
       "      <td>0</td>\n",
       "      <td>0</td>\n",
       "      <td>1.463056</td>\n",
       "    </tr>\n",
       "  </tbody>\n",
       "</table>\n",
       "<p>2 rows × 30 columns</p>\n",
       "</div>"
      ],
      "text/plain": [
       "   Fund_Id                                 Fund_Name                Firm_Name  \\\n",
       "0        3                              1818 Fund II  Brown Brothers Harriman   \n",
       "1        9  Riverside Capital Appreciation Fund 2000        Riverside Company   \n",
       "\n",
       "  Fund_Type  Fund_Size  Fund_Number_Overall  Fund_Number_Series  Called_Pcent  \\\n",
       "0    Buyout      475.0                    2                   2          88.5   \n",
       "1    Buyout      412.8                    4                   3          91.5   \n",
       "\n",
       "   Distr_DPI_Pcent  Value_RVPI_Pcent  ...  Local_Currency_USD  \\\n",
       "0           180.74               0.0  ...                   1   \n",
       "1           175.80               0.0  ...                   1   \n",
       "\n",
       "   Local_Currency_EUR  Fund_Status_Closed  Fund_Status_Liquidated  \\\n",
       "0                   0                   0                       1   \n",
       "1                   0                   0                       1   \n",
       "\n",
       "   Fund_Focus_US  Fund_Focus_Europe  Fund_Focus_Asia  \\\n",
       "0              1                  0                0   \n",
       "1              1                  0                0   \n",
       "\n",
       "   Geographic_Scope_Diversified  Industry_Diversified       PME  \n",
       "0                             0                     0  0.914287  \n",
       "1                             0                     0  1.463056  \n",
       "\n",
       "[2 rows x 30 columns]"
      ]
     },
     "execution_count": 41,
     "metadata": {},
     "output_type": "execute_result"
    }
   ],
   "source": [
    "df.head(2)"
   ]
  },
  {
   "cell_type": "code",
   "execution_count": 42,
   "id": "96667803",
   "metadata": {
    "cell_id": "00010-831189ee-f755-4ecd-882f-3f017a042167",
    "deepnote_cell_type": "code",
    "deepnote_to_be_reexecuted": false,
    "execution_millis": 20,
    "execution_start": 1619550139061,
    "source_hash": "14f60b8f",
    "tags": []
   },
   "outputs": [
    {
     "data": {
      "text/plain": [
       "(1719, 30)"
      ]
     },
     "execution_count": 42,
     "metadata": {},
     "output_type": "execute_result"
    }
   ],
   "source": [
    "df.shape"
   ]
  },
  {
   "cell_type": "code",
   "execution_count": 43,
   "id": "7030f2ac",
   "metadata": {
    "cell_id": "00005-ed3f6d27-3e0c-4db1-9ffb-ae9e60351bb4",
    "deepnote_cell_type": "code",
    "deepnote_to_be_reexecuted": false,
    "execution_millis": 21,
    "execution_start": 1619550139065,
    "source_hash": "166db596",
    "tags": []
   },
   "outputs": [
    {
     "data": {
      "text/plain": [
       "0"
      ]
     },
     "execution_count": 43,
     "metadata": {},
     "output_type": "execute_result"
    }
   ],
   "source": [
    "df.PME.isna().sum()"
   ]
  },
  {
   "cell_type": "code",
   "execution_count": 44,
   "id": "498962e2",
   "metadata": {
    "cell_id": "00003-3fb67b7f-16f1-44a4-9859-b23303e0da30",
    "deepnote_cell_type": "code",
    "deepnote_to_be_reexecuted": false,
    "execution_millis": 7,
    "execution_start": 1619550139075,
    "source_hash": "4314666a",
    "tags": []
   },
   "outputs": [],
   "source": [
    "df = df.dropna()"
   ]
  },
  {
   "cell_type": "code",
   "execution_count": 45,
   "id": "f954696e",
   "metadata": {
    "cell_id": "00011-87ed2d03-1ae1-419c-a6f7-98cffb819e22",
    "deepnote_cell_type": "code",
    "deepnote_to_be_reexecuted": false,
    "execution_millis": 26,
    "execution_start": 1619550139084,
    "source_hash": "f09363b5",
    "tags": []
   },
   "outputs": [],
   "source": [
    "df.to_csv(\"Data_for_modeling_VC_BO.csv\", index = False)"
   ]
  },
  {
   "cell_type": "code",
   "execution_count": 46,
   "id": "a13bf79d",
   "metadata": {
    "cell_id": "00004-f2ffcf0d-401b-4b1f-9bf8-48ab95cc4c00",
    "deepnote_cell_type": "code",
    "deepnote_to_be_reexecuted": false,
    "execution_millis": 470,
    "execution_start": 1619550139156,
    "source_hash": "1933a366",
    "tags": []
   },
   "outputs": [
    {
     "data": {
      "image/png": "[encoded data removed]",
      "text/plain": [
       "<Figure size 1152x720 with 1 Axes>"
      ]
     },
     "metadata": {
      "needs_background": "light"
     },
     "output_type": "display_data"
    }
   ],
   "source": [
    "df.isna().sum().plot(kind=\"bar\", figsize=(16,10));"
   ]
  },
  {
   "cell_type": "markdown",
   "id": "cb9dd51b",
   "metadata": {
    "cell_id": "00004-08d19b3a-63df-4738-bd38-682452dadb42",
    "deepnote_cell_type": "markdown",
    "tags": []
   },
   "source": [
    "# Dropping Columns "
   ]
  },
  {
   "cell_type": "code",
   "execution_count": 47,
   "id": "fe84af59",
   "metadata": {
    "cell_id": "00005-1605eea9-907e-4098-911a-a4858f6dd02d",
    "deepnote_cell_type": "code",
    "deepnote_to_be_reexecuted": false,
    "execution_millis": 0,
    "execution_start": 1619550139606,
    "source_hash": "9ee1ff22",
    "tags": []
   },
   "outputs": [],
   "source": [
    "# Dropping columns \n",
    "df.drop([\"Fund_Id\",\"Fund_Type\", \"Fund_Name\",\"Firm_Name\", \"Net_IRR_Pcent\", \n",
    "\"Called_Pcent\", \"Distr_DPI_Pcent\", \"Value_RVPI_Pcent\", \"Multiple\", \n",
    "          \"Fund_Status_Closed\", \"Fund_Status_Liquidated\" ], axis=1, inplace=True)"
   ]
  },
  {
   "cell_type": "code",
   "execution_count": 48,
   "id": "748d5a1f",
   "metadata": {
    "cell_id": "00014-eaed7bd6-1939-48ff-8c55-769c4dc7a43b",
    "deepnote_cell_type": "code",
    "deepnote_to_be_reexecuted": false,
    "execution_millis": 22,
    "execution_start": 1619550139607,
    "source_hash": "c3891fdf",
    "tags": []
   },
   "outputs": [
    {
     "data": {
      "text/plain": [
       "Fund_Size                         1058\n",
       "Fund_Number_Overall               1058\n",
       "Fund_Number_Series                1058\n",
       "GDP_yoy                           1058\n",
       "TR_10yrs                          1058\n",
       "yoy_MSCI                          1058\n",
       "Firm_Age                          1058\n",
       "Funds_Raised_Last_Year            1058\n",
       "Pcent_Increase_Funds_Last_Year    1058\n",
       "Fund_Type_Buyout                  1058\n",
       "Fund_Type_Venture_Cap             1058\n",
       "Local_Currency_USD                1058\n",
       "Local_Currency_EUR                1058\n",
       "Fund_Focus_US                     1058\n",
       "Fund_Focus_Europe                 1058\n",
       "Fund_Focus_Asia                   1058\n",
       "Geographic_Scope_Diversified      1058\n",
       "Industry_Diversified              1058\n",
       "PME                               1058\n",
       "dtype: int64"
      ]
     },
     "execution_count": 48,
     "metadata": {},
     "output_type": "execute_result"
    }
   ],
   "source": [
    "df[df.Fund_Type_Buyout == 1].count()"
   ]
  },
  {
   "cell_type": "markdown",
   "id": "90cf8b36",
   "metadata": {
    "cell_id": "00010-154a0084-7993-4b00-a0e8-98061871cc68",
    "deepnote_cell_type": "markdown",
    "tags": []
   },
   "source": [
    "# Division of data set into two as per Buyout and venture capital"
   ]
  },
  {
   "cell_type": "code",
   "execution_count": 49,
   "id": "7f603f74",
   "metadata": {
    "cell_id": "00010-e702d521-9f2f-4d2e-8c18-5e49a51fbd3f",
    "deepnote_cell_type": "code",
    "deepnote_to_be_reexecuted": false,
    "execution_millis": 0,
    "execution_start": 1619550139636,
    "source_hash": "465e4bd9",
    "tags": []
   },
   "outputs": [],
   "source": [
    "df = df[df.Fund_Type_Buyout == 1]"
   ]
  },
  {
   "cell_type": "markdown",
   "id": "1e5226ba",
   "metadata": {
    "cell_id": "00006-e460bc12-7381-4696-83bc-dbe0c95e4ea6",
    "deepnote_cell_type": "markdown",
    "tags": []
   },
   "source": [
    "# Target Variable"
   ]
  },
  {
   "cell_type": "code",
   "execution_count": 50,
   "id": "ec29bdb3",
   "metadata": {
    "cell_id": "00007-8c3b3623-a60e-426d-9819-d2d9a3eb7ae2",
    "deepnote_cell_type": "code",
    "deepnote_to_be_reexecuted": false,
    "execution_millis": 5,
    "execution_start": 1619550139637,
    "source_hash": "429aeb59",
    "tags": []
   },
   "outputs": [
    {
     "data": {
      "text/plain": [
       "count    1058.000000\n",
       "mean        1.203947\n",
       "std         0.452146\n",
       "min         0.000000\n",
       "25%         0.948332\n",
       "50%         1.144871\n",
       "75%         1.378527\n",
       "max         3.949609\n",
       "Name: PME, dtype: float64"
      ]
     },
     "execution_count": 50,
     "metadata": {},
     "output_type": "execute_result"
    }
   ],
   "source": [
    "df['PME'].describe()"
   ]
  },
  {
   "cell_type": "code",
   "execution_count": 51,
   "id": "1b63c6ee",
   "metadata": {
    "cell_id": "00008-8c70f3af-ba56-461b-8e51-1025a23cb852",
    "deepnote_cell_type": "code",
    "deepnote_to_be_reexecuted": false,
    "execution_millis": 149,
    "execution_start": 1619550139654,
    "source_hash": "ca6ea7b8",
    "tags": []
   },
   "outputs": [
    {
     "data": {
      "text/plain": [
       "<AxesSubplot:>"
      ]
     },
     "execution_count": 51,
     "metadata": {},
     "output_type": "execute_result"
    },
    {
     "data": {
      "image/png": "[encoded data removed]",
      "text/plain": [
       "<Figure size 432x288 with 1 Axes>"
      ]
     },
     "metadata": {
      "needs_background": "light"
     },
     "output_type": "display_data"
    }
   ],
   "source": [
    "df[\"PME\"].plot()"
   ]
  },
  {
   "cell_type": "code",
   "execution_count": 52,
   "id": "43e15de3",
   "metadata": {
    "cell_id": "00009-f9b1ee49-4bb5-4899-8e9b-c7c4269e293c",
    "deepnote_cell_type": "code",
    "deepnote_to_be_reexecuted": false,
    "execution_millis": 1,
    "execution_start": 1619550139797,
    "source_hash": "d4142568",
    "tags": []
   },
   "outputs": [],
   "source": [
    "df[\"PME\"]=   df[\"PME\"].apply(lambda x: float(int(1) if x >= 1 else int(0)))"
   ]
  },
  {
   "cell_type": "code",
   "execution_count": 53,
   "id": "7522a777",
   "metadata": {
    "cell_id": "00010-4cee5fde-9c05-4510-927d-b067fb5c939b",
    "deepnote_cell_type": "code",
    "deepnote_to_be_reexecuted": false,
    "execution_millis": 60,
    "execution_start": 1619550139803,
    "source_hash": "6cd8acfd"
   },
   "outputs": [
    {
     "data": {
      "text/html": [
       "<div>\n",
       "<style scoped>\n",
       "    .dataframe tbody tr th:only-of-type {\n",
       "        vertical-align: middle;\n",
       "    }\n",
       "\n",
       "    .dataframe tbody tr th {\n",
       "        vertical-align: top;\n",
       "    }\n",
       "\n",
       "    .dataframe thead th {\n",
       "        text-align: right;\n",
       "    }\n",
       "</style>\n",
       "<table border=\"1\" class=\"dataframe\">\n",
       "  <thead>\n",
       "    <tr style=\"text-align: right;\">\n",
       "      <th></th>\n",
       "      <th>Fund_Size</th>\n",
       "      <th>Fund_Number_Overall</th>\n",
       "      <th>Fund_Number_Series</th>\n",
       "      <th>GDP_yoy</th>\n",
       "      <th>TR_10yrs</th>\n",
       "      <th>yoy_MSCI</th>\n",
       "      <th>Firm_Age</th>\n",
       "      <th>Funds_Raised_Last_Year</th>\n",
       "      <th>Pcent_Increase_Funds_Last_Year</th>\n",
       "      <th>Fund_Type_Buyout</th>\n",
       "      <th>Fund_Type_Venture_Cap</th>\n",
       "      <th>Local_Currency_USD</th>\n",
       "      <th>Local_Currency_EUR</th>\n",
       "      <th>Fund_Focus_US</th>\n",
       "      <th>Fund_Focus_Europe</th>\n",
       "      <th>Fund_Focus_Asia</th>\n",
       "      <th>Geographic_Scope_Diversified</th>\n",
       "      <th>Industry_Diversified</th>\n",
       "      <th>PME</th>\n",
       "    </tr>\n",
       "  </thead>\n",
       "  <tbody>\n",
       "    <tr>\n",
       "      <th>0</th>\n",
       "      <td>475.0</td>\n",
       "      <td>2</td>\n",
       "      <td>2</td>\n",
       "      <td>5.88</td>\n",
       "      <td>7.008845</td>\n",
       "      <td>-7.141309</td>\n",
       "      <td>4</td>\n",
       "      <td>101</td>\n",
       "      <td>0.905660</td>\n",
       "      <td>1</td>\n",
       "      <td>0</td>\n",
       "      <td>1</td>\n",
       "      <td>0</td>\n",
       "      <td>1</td>\n",
       "      <td>0</td>\n",
       "      <td>0</td>\n",
       "      <td>0</td>\n",
       "      <td>0</td>\n",
       "      <td>0.0</td>\n",
       "    </tr>\n",
       "    <tr>\n",
       "      <th>1</th>\n",
       "      <td>412.8</td>\n",
       "      <td>4</td>\n",
       "      <td>3</td>\n",
       "      <td>6.27</td>\n",
       "      <td>5.646135</td>\n",
       "      <td>23.560375</td>\n",
       "      <td>12</td>\n",
       "      <td>532</td>\n",
       "      <td>0.217391</td>\n",
       "      <td>1</td>\n",
       "      <td>0</td>\n",
       "      <td>1</td>\n",
       "      <td>0</td>\n",
       "      <td>1</td>\n",
       "      <td>0</td>\n",
       "      <td>0</td>\n",
       "      <td>0</td>\n",
       "      <td>0</td>\n",
       "      <td>1.0</td>\n",
       "    </tr>\n",
       "  </tbody>\n",
       "</table>\n",
       "</div>"
      ],
      "text/plain": [
       "   Fund_Size  Fund_Number_Overall  Fund_Number_Series  GDP_yoy  TR_10yrs  \\\n",
       "0      475.0                    2                   2     5.88  7.008845   \n",
       "1      412.8                    4                   3     6.27  5.646135   \n",
       "\n",
       "    yoy_MSCI  Firm_Age  Funds_Raised_Last_Year  \\\n",
       "0  -7.141309         4                     101   \n",
       "1  23.560375        12                     532   \n",
       "\n",
       "   Pcent_Increase_Funds_Last_Year  Fund_Type_Buyout  Fund_Type_Venture_Cap  \\\n",
       "0                        0.905660                 1                      0   \n",
       "1                        0.217391                 1                      0   \n",
       "\n",
       "   Local_Currency_USD  Local_Currency_EUR  Fund_Focus_US  Fund_Focus_Europe  \\\n",
       "0                   1                   0              1                  0   \n",
       "1                   1                   0              1                  0   \n",
       "\n",
       "   Fund_Focus_Asia  Geographic_Scope_Diversified  Industry_Diversified  PME  \n",
       "0                0                             0                     0  0.0  \n",
       "1                0                             0                     0  1.0  "
      ]
     },
     "execution_count": 53,
     "metadata": {},
     "output_type": "execute_result"
    }
   ],
   "source": [
    "df.head(2)"
   ]
  },
  {
   "cell_type": "code",
   "execution_count": 54,
   "id": "cb86f220",
   "metadata": {
    "cell_id": "00013-4124f1f9-1d98-45e7-a3ef-d3b80b1839cb",
    "deepnote_cell_type": "code",
    "deepnote_to_be_reexecuted": false,
    "execution_millis": 1,
    "execution_start": 1619550139858,
    "source_hash": "14dcc914",
    "tags": []
   },
   "outputs": [],
   "source": [
    "# Numerical columns\n",
    "num_cols = [\"Fund_Size\", \"GDP_yoy\", \"TR_10yrs\", \"yoy_MSCI\", \"Firm_Age\", \n",
    "\"Funds_Raised_Last_Year\", \"Pcent_Increase_Funds_Last_Year\"]"
   ]
  },
  {
   "cell_type": "code",
   "execution_count": 55,
   "id": "ebabcf9f",
   "metadata": {
    "cell_id": "00014-04e18cab-bc06-43d6-be6b-f19fe0d39de4",
    "deepnote_cell_type": "code",
    "deepnote_to_be_reexecuted": false,
    "execution_millis": 6,
    "execution_start": 1619550139863,
    "source_hash": "90a6147e"
   },
   "outputs": [],
   "source": [
    "from sklearn.preprocessing import StandardScaler\n",
    "scaler = StandardScaler()\n",
    "df[num_cols] = scaler.fit_transform(df[num_cols])"
   ]
  },
  {
   "cell_type": "code",
   "execution_count": 56,
   "id": "a05e356b",
   "metadata": {
    "cell_id": "00015-81a9293c-9bc9-42e7-9aa1-b01f4fbd8b1b",
    "deepnote_cell_type": "code",
    "deepnote_to_be_reexecuted": false,
    "execution_millis": 66,
    "execution_start": 1619550139877,
    "source_hash": "6cd8acfd"
   },
   "outputs": [
    {
     "data": {
      "text/html": [
       "<div>\n",
       "<style scoped>\n",
       "    .dataframe tbody tr th:only-of-type {\n",
       "        vertical-align: middle;\n",
       "    }\n",
       "\n",
       "    .dataframe tbody tr th {\n",
       "        vertical-align: top;\n",
       "    }\n",
       "\n",
       "    .dataframe thead th {\n",
       "        text-align: right;\n",
       "    }\n",
       "</style>\n",
       "<table border=\"1\" class=\"dataframe\">\n",
       "  <thead>\n",
       "    <tr style=\"text-align: right;\">\n",
       "      <th></th>\n",
       "      <th>Fund_Size</th>\n",
       "      <th>Fund_Number_Overall</th>\n",
       "      <th>Fund_Number_Series</th>\n",
       "      <th>GDP_yoy</th>\n",
       "      <th>TR_10yrs</th>\n",
       "      <th>yoy_MSCI</th>\n",
       "      <th>Firm_Age</th>\n",
       "      <th>Funds_Raised_Last_Year</th>\n",
       "      <th>Pcent_Increase_Funds_Last_Year</th>\n",
       "      <th>Fund_Type_Buyout</th>\n",
       "      <th>Fund_Type_Venture_Cap</th>\n",
       "      <th>Local_Currency_USD</th>\n",
       "      <th>Local_Currency_EUR</th>\n",
       "      <th>Fund_Focus_US</th>\n",
       "      <th>Fund_Focus_Europe</th>\n",
       "      <th>Fund_Focus_Asia</th>\n",
       "      <th>Geographic_Scope_Diversified</th>\n",
       "      <th>Industry_Diversified</th>\n",
       "      <th>PME</th>\n",
       "    </tr>\n",
       "  </thead>\n",
       "  <tbody>\n",
       "    <tr>\n",
       "      <th>0</th>\n",
       "      <td>-0.465584</td>\n",
       "      <td>2</td>\n",
       "      <td>2</td>\n",
       "      <td>0.648995</td>\n",
       "      <td>1.779812</td>\n",
       "      <td>-1.012005</td>\n",
       "      <td>-0.771516</td>\n",
       "      <td>-1.778528</td>\n",
       "      <td>3.197683</td>\n",
       "      <td>1</td>\n",
       "      <td>0</td>\n",
       "      <td>1</td>\n",
       "      <td>0</td>\n",
       "      <td>1</td>\n",
       "      <td>0</td>\n",
       "      <td>0</td>\n",
       "      <td>0</td>\n",
       "      <td>0</td>\n",
       "      <td>0.0</td>\n",
       "    </tr>\n",
       "    <tr>\n",
       "      <th>1</th>\n",
       "      <td>-0.489999</td>\n",
       "      <td>4</td>\n",
       "      <td>3</td>\n",
       "      <td>0.853648</td>\n",
       "      <td>0.929423</td>\n",
       "      <td>0.944443</td>\n",
       "      <td>-0.202245</td>\n",
       "      <td>-0.882312</td>\n",
       "      <td>0.176394</td>\n",
       "      <td>1</td>\n",
       "      <td>0</td>\n",
       "      <td>1</td>\n",
       "      <td>0</td>\n",
       "      <td>1</td>\n",
       "      <td>0</td>\n",
       "      <td>0</td>\n",
       "      <td>0</td>\n",
       "      <td>0</td>\n",
       "      <td>1.0</td>\n",
       "    </tr>\n",
       "  </tbody>\n",
       "</table>\n",
       "</div>"
      ],
      "text/plain": [
       "   Fund_Size  Fund_Number_Overall  Fund_Number_Series   GDP_yoy  TR_10yrs  \\\n",
       "0  -0.465584                    2                   2  0.648995  1.779812   \n",
       "1  -0.489999                    4                   3  0.853648  0.929423   \n",
       "\n",
       "   yoy_MSCI  Firm_Age  Funds_Raised_Last_Year  Pcent_Increase_Funds_Last_Year  \\\n",
       "0 -1.012005 -0.771516               -1.778528                        3.197683   \n",
       "1  0.944443 -0.202245               -0.882312                        0.176394   \n",
       "\n",
       "   Fund_Type_Buyout  Fund_Type_Venture_Cap  Local_Currency_USD  \\\n",
       "0                 1                      0                   1   \n",
       "1                 1                      0                   1   \n",
       "\n",
       "   Local_Currency_EUR  Fund_Focus_US  Fund_Focus_Europe  Fund_Focus_Asia  \\\n",
       "0                   0              1                  0                0   \n",
       "1                   0              1                  0                0   \n",
       "\n",
       "   Geographic_Scope_Diversified  Industry_Diversified  PME  \n",
       "0                             0                     0  0.0  \n",
       "1                             0                     0  1.0  "
      ]
     },
     "execution_count": 56,
     "metadata": {},
     "output_type": "execute_result"
    }
   ],
   "source": [
    "df.head(2)"
   ]
  },
  {
   "cell_type": "code",
   "execution_count": 57,
   "id": "09e4bd6b",
   "metadata": {},
   "outputs": [],
   "source": [
    "# Dropping columns \n",
    "df.drop([\"Fund_Type_Buyout\", \"Fund_Type_Venture_Cap\"], axis=1, inplace=True)"
   ]
  },
  {
   "cell_type": "code",
   "execution_count": 58,
   "id": "5cea60eb",
   "metadata": {},
   "outputs": [],
   "source": [
    "df.to_csv(\"Data_BO.csv\", index = False)"
   ]
  },
  {
   "cell_type": "code",
   "execution_count": 59,
   "id": "6da810b6",
   "metadata": {
    "cell_id": "00017-4d51e7f7-ca05-4dc1-b2b2-f537ac42d676",
    "deepnote_cell_type": "code",
    "deepnote_to_be_reexecuted": false,
    "execution_millis": 3,
    "execution_start": 1619550139932,
    "source_hash": "3ecdcd62"
   },
   "outputs": [],
   "source": [
    "feature_cols = df.columns[df.columns != \"PME\"]\n",
    "X = df[feature_cols]\n",
    "Y = df[\"PME\"]\n",
    "# X_train, X_test, y_train, y_test = train_test_split(X,y, test_size=0.25, stratify=y)"
   ]
  },
  {
   "cell_type": "code",
   "execution_count": 60,
   "id": "40d16e8e",
   "metadata": {
    "cell_id": "00018-a2258b82-c043-4241-b6dd-b7a575cc85b5",
    "deepnote_cell_type": "code",
    "deepnote_to_be_reexecuted": false,
    "execution_millis": 17,
    "execution_start": 1619550139938,
    "source_hash": "6fb8c7c4"
   },
   "outputs": [],
   "source": [
    "from sklearn import model_selection\n",
    "from sklearn.linear_model import LogisticRegression\n",
    "from sklearn.tree import DecisionTreeClassifier\n",
    "from sklearn.neighbors import KNeighborsClassifier\n",
    "from sklearn.discriminant_analysis import LinearDiscriminantAnalysis\n",
    "from sklearn.discriminant_analysis import QuadraticDiscriminantAnalysis\n",
    "from sklearn.naive_bayes import GaussianNB\n",
    "from sklearn.svm import SVC"
   ]
  },
  {
   "cell_type": "code",
   "execution_count": 61,
   "id": "2588353a",
   "metadata": {
    "cell_id": "00019-61b9a157-4f78-48d4-94a9-1256f381fada",
    "deepnote_cell_type": "code",
    "deepnote_to_be_reexecuted": false,
    "execution_millis": 2,
    "execution_start": 1619550139958,
    "source_hash": "5589bb03"
   },
   "outputs": [],
   "source": [
    "# prepare models\n",
    "models = []\n",
    "models.append(('LR', LogisticRegression()))\n",
    "models.append(('LDA', LinearDiscriminantAnalysis()))\n",
    "models.append(('KNN', KNeighborsClassifier()))\n",
    "# models.append(('CART', DecisionTreeClassifier()))\n",
    "# models.append(('NB', GaussianNB()))\n",
    "models.append(('SVM', SVC()))\n",
    "models.append(('QDA', QuadraticDiscriminantAnalysis()))"
   ]
  },
  {
   "cell_type": "markdown",
   "id": "3e8bc82e",
   "metadata": {
    "cell_id": "00020-d1cfb673-e8f7-4e7d-ba92-9f2e9a963ab4",
    "deepnote_cell_type": "markdown"
   },
   "source": [
    "# Compairing Accuracy"
   ]
  },
  {
   "cell_type": "code",
   "execution_count": 62,
   "id": "2e60cb5c",
   "metadata": {
    "cell_id": "00021-090ae49f-2e82-45fd-b8b0-55ca22ecf354",
    "deepnote_cell_type": "code",
    "deepnote_to_be_reexecuted": false,
    "execution_millis": 3774,
    "execution_start": 1619550139964,
    "source_hash": "3c6b7cf9"
   },
   "outputs": [
    {
     "name": "stdout",
     "output_type": "stream",
     "text": [
      "LR: 0.682291 (0.064245)\n",
      "LDA: 0.682300 (0.059106)\n",
      "KNN: 0.639775 (0.053651)\n",
      "SVM: 0.691779 (0.066089)\n",
      "QDA: 0.660593 (0.058344)\n"
     ]
    },
    {
     "data": {
      "image/png": "[encoded data removed]",
      "text/plain": [
       "<Figure size 432x288 with 1 Axes>"
      ]
     },
     "metadata": {
      "needs_background": "light"
     },
     "output_type": "display_data"
    }
   ],
   "source": [
    "seed = 42\n",
    "# evaluate each model in turn\n",
    "results = []\n",
    "names = []\n",
    "scoring = 'accuracy'\n",
    "for name, model in models:\n",
    "\tkfold = model_selection.KFold(n_splits=10)\n",
    "\tcv_results = model_selection.cross_val_score(model, X, Y, cv=kfold, scoring=scoring)\n",
    "\tresults.append(cv_results)\n",
    "\tnames.append(name)\n",
    "\tmsg = \"%s: %f (%f)\" % (name, cv_results.mean(), cv_results.std())\n",
    "\tprint(msg)\n",
    "# boxplot algorithm comparison\n",
    "fig = plt.figure()\n",
    "fig.suptitle('Algorithm Comparison')\n",
    "ax = fig.add_subplot(111)\n",
    "plt.boxplot(results)\n",
    "ax.set_xticklabels(names)\n",
    "plt.show()"
   ]
  },
  {
   "cell_type": "markdown",
   "id": "fbf30b8c",
   "metadata": {
    "cell_id": "00022-574c2dfb-57ba-427c-b00c-f794f8de025d",
    "deepnote_cell_type": "markdown"
   },
   "source": [
    "# compairing Precision"
   ]
  },
  {
   "cell_type": "code",
   "execution_count": 63,
   "id": "f235e58e",
   "metadata": {
    "cell_id": "00023-72f0b558-97b7-4a80-a9e7-4f1ee1977f4e",
    "deepnote_cell_type": "code",
    "deepnote_to_be_reexecuted": false,
    "execution_millis": 3951,
    "execution_start": 1619550143743,
    "source_hash": "ae27c531"
   },
   "outputs": [
    {
     "name": "stdout",
     "output_type": "stream",
     "text": [
      "LR: 0.692957 (0.067213)\n",
      "LDA: 0.694479 (0.063619)\n",
      "KNN: 0.702437 (0.067076)\n",
      "SVM: 0.691779 (0.066089)\n",
      "QDA: 0.705324 (0.053473)\n"
     ]
    },
    {
     "data": {
      "image/png": "[encoded data removed]",
      "text/plain": [
       "<Figure size 432x288 with 1 Axes>"
      ]
     },
     "metadata": {
      "needs_background": "light"
     },
     "output_type": "display_data"
    }
   ],
   "source": [
    "seed = 42\n",
    "# evaluate each model in turn\n",
    "results = []\n",
    "names = []\n",
    "scoring = 'precision'\n",
    "for name, model in models:\n",
    "\tkfold = model_selection.KFold(n_splits=10)\n",
    "\tcv_results = model_selection.cross_val_score(model, X, Y, cv=kfold, scoring=scoring)\n",
    "\tresults.append(cv_results)\n",
    "\tnames.append(name)\n",
    "\tmsg = \"%s: %f (%f)\" % (name, cv_results.mean(), cv_results.std())\n",
    "\tprint(msg)\n",
    "# boxplot algorithm comparison\n",
    "fig = plt.figure()\n",
    "fig.suptitle('Algorithm Comparison')\n",
    "ax = fig.add_subplot(111)\n",
    "plt.boxplot(results)\n",
    "ax.set_xticklabels(names)\n",
    "plt.show()"
   ]
  },
  {
   "cell_type": "markdown",
   "id": "a021c309",
   "metadata": {
    "cell_id": "00024-facdf8d6-a3ed-4051-b38a-c21bd40d646d",
    "deepnote_cell_type": "markdown"
   },
   "source": [
    "# Neural network"
   ]
  },
  {
   "cell_type": "code",
   "execution_count": 64,
   "id": "07b44a5e",
   "metadata": {
    "cell_id": "00025-b3fab518-cb4b-4080-8f72-2da7cc2a9c21",
    "deepnote_cell_type": "code",
    "deepnote_to_be_reexecuted": false,
    "execution_millis": 5,
    "execution_start": 1619550147696,
    "source_hash": "8dc37e86"
   },
   "outputs": [],
   "source": [
    "feature_cols = df.columns[df.columns != \"PME\"]\n",
    "X = df[feature_cols]\n",
    "y = df[\"PME\"]\n",
    "X_train, X_test, y_train, y_test = train_test_split(X,y, test_size=0.25, stratify=y)"
   ]
  },
  {
   "cell_type": "code",
   "execution_count": 65,
   "id": "185b5257",
   "metadata": {
    "cell_id": "00026-e6da96e8-902e-44c3-997e-8dbc045ce1d9",
    "deepnote_cell_type": "code",
    "deepnote_to_be_reexecuted": false,
    "execution_millis": 837,
    "execution_start": 1619550147705,
    "source_hash": "543e29f3"
   },
   "outputs": [
    {
     "name": "stderr",
     "output_type": "stream",
     "text": [
      "C:\\Users\\rishi\\.conda\\envs\\jupLab\\lib\\site-packages\\sklearn\\neural_network\\_multilayer_perceptron.py:614: ConvergenceWarning: Stochastic Optimizer: Maximum iterations (200) reached and the optimization hasn't converged yet.\n",
      "  warnings.warn(\n"
     ]
    }
   ],
   "source": [
    "from sklearn.neural_network import MLPClassifier\n",
    "mlp = MLPClassifier(hidden_layer_sizes=(30,30,30))\n",
    "mlp.fit(X_train, y_train)\n",
    "mlp_predictions = mlp.predict(X_test)\n"
   ]
  },
  {
   "cell_type": "code",
   "execution_count": 66,
   "id": "cc8f899a",
   "metadata": {
    "cell_id": "00027-02301327-c636-4a73-8395-de7f84a25c7e",
    "deepnote_cell_type": "code",
    "deepnote_to_be_reexecuted": false,
    "execution_millis": 24,
    "execution_start": 1619550148518,
    "source_hash": "aa07e3f1"
   },
   "outputs": [
    {
     "data": {
      "text/plain": [
       "array([[ 19,  63],\n",
       "       [ 35, 148]], dtype=int64)"
      ]
     },
     "execution_count": 66,
     "metadata": {},
     "output_type": "execute_result"
    }
   ],
   "source": [
    "confusion_matrix(y_test,mlp_predictions)"
   ]
  },
  {
   "cell_type": "code",
   "execution_count": 67,
   "id": "3cb4c494",
   "metadata": {
    "cell_id": "00028-77242303-96ac-487e-a500-0192c6199bc3",
    "deepnote_cell_type": "code",
    "deepnote_to_be_reexecuted": false,
    "execution_millis": 23,
    "execution_start": 1619550148523,
    "source_hash": "79580c4a"
   },
   "outputs": [
    {
     "name": "stdout",
     "output_type": "stream",
     "text": [
      "              precision    recall  f1-score   support\n",
      "\n",
      "         0.0       0.35      0.23      0.28        82\n",
      "         1.0       0.70      0.81      0.75       183\n",
      "\n",
      "    accuracy                           0.63       265\n",
      "   macro avg       0.53      0.52      0.52       265\n",
      "weighted avg       0.59      0.63      0.61       265\n",
      "\n"
     ]
    }
   ],
   "source": [
    "print(classification_report(y_test, mlp_predictions))"
   ]
  }
 ],
 "metadata": {
  "deepnote": {},
  "deepnote_execution_queue": [],
  "deepnote_notebook_id": "07e8e139-9029-466a-94f2-a9d13a9707d5",
  "kernelspec": {
   "display_name": "Python 3",
   "language": "python",
   "name": "python3"
  },
  "language_info": {
   "codemirror_mode": {
    "name": "ipython",
    "version": 3
   },
   "file_extension": ".py",
   "mimetype": "text/x-python",
   "name": "python",
   "nbconvert_exporter": "python",
   "pygments_lexer": "ipython3",
   "version": "3.9.2"
  }
 },
 "nbformat": 4,
 "nbformat_minor": 5
}
