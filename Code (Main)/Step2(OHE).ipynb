{
 "cells": [
  {
   "cell_type": "code",
   "execution_count": 6,
   "id": "8601b58f",
   "metadata": {
    "cell_id": "00000-96107ae8-82ae-4adb-8433-8656dead7914",
    "deepnote_cell_type": "code",
    "deepnote_to_be_reexecuted": false,
    "execution_millis": 571,
    "execution_start": 1619549771738,
    "source_hash": "d7e376ef"
   },
   "outputs": [],
   "source": [
    "import pandas as pd\n",
    "import numpy as np\n",
    "from datetime import datetime, timedelta\n",
    "import matplotlib.pyplot as plt\n",
    "import seaborn as sns\n",
    "import random"
   ]
  },
  {
   "cell_type": "code",
   "execution_count": 7,
   "id": "00c417df",
   "metadata": {
    "cell_id": "00001-3566444a-f043-4d66-bae5-518af1f26397",
    "deepnote_cell_type": "code",
    "deepnote_to_be_reexecuted": false,
    "execution_millis": 16,
    "execution_start": 1619549772311,
    "source_hash": "7230f1fe"
   },
   "outputs": [],
   "source": [
    "df = pd.read_csv(\"Latest_Data_VC_BO.csv\")"
   ]
  },
  {
   "cell_type": "code",
   "execution_count": 8,
   "id": "adaf83ea",
   "metadata": {
    "cell_id": "00002-fb1e2623-378f-41e2-8615-60d4f18657d8",
    "deepnote_cell_type": "code",
    "deepnote_to_be_reexecuted": false,
    "execution_millis": 51,
    "execution_start": 1619549772368,
    "source_hash": "6cd8acfd",
    "tags": []
   },
   "outputs": [
    {
     "data": {
      "text/html": [
       "<div>\n",
       "<style scoped>\n",
       "    .dataframe tbody tr th:only-of-type {\n",
       "        vertical-align: middle;\n",
       "    }\n",
       "\n",
       "    .dataframe tbody tr th {\n",
       "        vertical-align: top;\n",
       "    }\n",
       "\n",
       "    .dataframe thead th {\n",
       "        text-align: right;\n",
       "    }\n",
       "</style>\n",
       "<table border=\"1\" class=\"dataframe\">\n",
       "  <thead>\n",
       "    <tr style=\"text-align: right;\">\n",
       "      <th></th>\n",
       "      <th>Fund_Id</th>\n",
       "      <th>Firm_Id</th>\n",
       "      <th>Fund_Name</th>\n",
       "      <th>Firm_Name</th>\n",
       "      <th>Vintage</th>\n",
       "      <th>Fund_Type</th>\n",
       "      <th>Local_Currency</th>\n",
       "      <th>Fund_Size</th>\n",
       "      <th>Fund_Status</th>\n",
       "      <th>Final_Close_Date</th>\n",
       "      <th>...</th>\n",
       "      <th>Benchmark_ID</th>\n",
       "      <th>Called_Pcent</th>\n",
       "      <th>Distr_DPI_Pcent</th>\n",
       "      <th>Value_RVPI_Pcent</th>\n",
       "      <th>Multiple</th>\n",
       "      <th>Net_IRR_Pcent</th>\n",
       "      <th>FirmName</th>\n",
       "      <th>LastUpdated</th>\n",
       "      <th>FirmCountry</th>\n",
       "      <th>Established</th>\n",
       "    </tr>\n",
       "  </thead>\n",
       "  <tbody>\n",
       "    <tr>\n",
       "      <th>0</th>\n",
       "      <td>3</td>\n",
       "      <td>152327</td>\n",
       "      <td>1818 Fund II</td>\n",
       "      <td>Brown Brothers Harriman</td>\n",
       "      <td>1993.0</td>\n",
       "      <td>Buyout</td>\n",
       "      <td>USD</td>\n",
       "      <td>475.0</td>\n",
       "      <td>Liquidated</td>\n",
       "      <td>19930630.0</td>\n",
       "      <td>...</td>\n",
       "      <td>18</td>\n",
       "      <td>88.5</td>\n",
       "      <td>180.74</td>\n",
       "      <td>0.0</td>\n",
       "      <td>1.8074</td>\n",
       "      <td>11.4</td>\n",
       "      <td>Brown Brothers Harriman</td>\n",
       "      <td>20190514.0</td>\n",
       "      <td>US</td>\n",
       "      <td>1989.0</td>\n",
       "    </tr>\n",
       "    <tr>\n",
       "      <th>1</th>\n",
       "      <td>9</td>\n",
       "      <td>741</td>\n",
       "      <td>Riverside Capital Appreciation Fund 2000</td>\n",
       "      <td>Riverside Company</td>\n",
       "      <td>2000.0</td>\n",
       "      <td>Buyout</td>\n",
       "      <td>USD</td>\n",
       "      <td>412.8</td>\n",
       "      <td>Liquidated</td>\n",
       "      <td>20000630.0</td>\n",
       "      <td>...</td>\n",
       "      <td>18</td>\n",
       "      <td>91.5</td>\n",
       "      <td>175.80</td>\n",
       "      <td>0.0</td>\n",
       "      <td>1.7580</td>\n",
       "      <td>18.4</td>\n",
       "      <td>Riverside Company</td>\n",
       "      <td>20190718.0</td>\n",
       "      <td>US</td>\n",
       "      <td>1988.0</td>\n",
       "    </tr>\n",
       "  </tbody>\n",
       "</table>\n",
       "<p>2 rows × 25 columns</p>\n",
       "</div>"
      ],
      "text/plain": [
       "   Fund_Id  Firm_Id                                 Fund_Name  \\\n",
       "0        3   152327                              1818 Fund II   \n",
       "1        9      741  Riverside Capital Appreciation Fund 2000   \n",
       "\n",
       "                 Firm_Name  Vintage Fund_Type Local_Currency  Fund_Size  \\\n",
       "0  Brown Brothers Harriman   1993.0    Buyout            USD      475.0   \n",
       "1        Riverside Company   2000.0    Buyout            USD      412.8   \n",
       "\n",
       "  Fund_Status  Final_Close_Date  ... Benchmark_ID  Called_Pcent  \\\n",
       "0  Liquidated        19930630.0  ...           18          88.5   \n",
       "1  Liquidated        20000630.0  ...           18          91.5   \n",
       "\n",
       "   Distr_DPI_Pcent Value_RVPI_Pcent Multiple  Net_IRR_Pcent  \\\n",
       "0           180.74              0.0   1.8074           11.4   \n",
       "1           175.80              0.0   1.7580           18.4   \n",
       "\n",
       "                  FirmName  LastUpdated  FirmCountry  Established  \n",
       "0  Brown Brothers Harriman   20190514.0           US       1989.0  \n",
       "1        Riverside Company   20190718.0           US       1988.0  \n",
       "\n",
       "[2 rows x 25 columns]"
      ]
     },
     "execution_count": 8,
     "metadata": {},
     "output_type": "execute_result"
    }
   ],
   "source": [
    "df.head(2)"
   ]
  },
  {
   "cell_type": "code",
   "execution_count": 9,
   "id": "d998fa07",
   "metadata": {
    "cell_id": "00004-0693ad3d-8a77-4969-aa21-4664b7bcc855",
    "deepnote_cell_type": "code",
    "deepnote_to_be_reexecuted": false,
    "execution_millis": 9,
    "execution_start": 1619549772410,
    "source_hash": "14f60b8f",
    "tags": []
   },
   "outputs": [
    {
     "data": {
      "text/plain": [
       "(1723, 25)"
      ]
     },
     "execution_count": 9,
     "metadata": {},
     "output_type": "execute_result"
    }
   ],
   "source": [
    "df.shape"
   ]
  },
  {
   "cell_type": "code",
   "execution_count": 10,
   "id": "fee6a8d7",
   "metadata": {},
   "outputs": [],
   "source": [
    "df = df.drop([\"Firm_Id\", \"LastUpdated\",\"Benchmark_ID\",\"FirmName\",\n",
    "             \"Vintage\",\"Final_Close_Date\",\"Established\"], axis=1)\n",
    "# dropping variables as not clear how to fit as into feature engineering"
   ]
  },
  {
   "cell_type": "markdown",
   "id": "dcb8fae0",
   "metadata": {},
   "source": [
    "# Adding GDP year on year + Treaury rate"
   ]
  },
  {
   "cell_type": "code",
   "execution_count": 11,
   "id": "83728e65",
   "metadata": {},
   "outputs": [
    {
     "data": {
      "text/html": [
       "<div>\n",
       "<style scoped>\n",
       "    .dataframe tbody tr th:only-of-type {\n",
       "        vertical-align: middle;\n",
       "    }\n",
       "\n",
       "    .dataframe tbody tr th {\n",
       "        vertical-align: top;\n",
       "    }\n",
       "\n",
       "    .dataframe thead th {\n",
       "        text-align: right;\n",
       "    }\n",
       "</style>\n",
       "<table border=\"1\" class=\"dataframe\">\n",
       "  <thead>\n",
       "    <tr style=\"text-align: right;\">\n",
       "      <th></th>\n",
       "      <th>Fund_Id</th>\n",
       "      <th>GDP_yoy</th>\n",
       "      <th>TR_10yrs</th>\n",
       "    </tr>\n",
       "  </thead>\n",
       "  <tbody>\n",
       "    <tr>\n",
       "      <th>0</th>\n",
       "      <td>3</td>\n",
       "      <td>5.88</td>\n",
       "      <td>7.008845</td>\n",
       "    </tr>\n",
       "    <tr>\n",
       "      <th>1</th>\n",
       "      <td>9</td>\n",
       "      <td>6.27</td>\n",
       "      <td>5.646135</td>\n",
       "    </tr>\n",
       "  </tbody>\n",
       "</table>\n",
       "</div>"
      ],
      "text/plain": [
       "   Fund_Id  GDP_yoy  TR_10yrs\n",
       "0        3     5.88  7.008845\n",
       "1        9     6.27  5.646135"
      ]
     },
     "execution_count": 11,
     "metadata": {},
     "output_type": "execute_result"
    }
   ],
   "source": [
    "df_gdp_trsy = pd.read_csv(\"gdp_trsry.csv\")\n",
    "df_gdp_trsy.head(2)"
   ]
  },
  {
   "cell_type": "code",
   "execution_count": 12,
   "id": "e0e7e436",
   "metadata": {},
   "outputs": [],
   "source": [
    "df = df.merge(df_gdp_trsy, how=\"inner\", on=[\"Fund_Id\"])"
   ]
  },
  {
   "cell_type": "code",
   "execution_count": 13,
   "id": "937a6f4a",
   "metadata": {},
   "outputs": [
    {
     "data": {
      "text/html": [
       "<div>\n",
       "<style scoped>\n",
       "    .dataframe tbody tr th:only-of-type {\n",
       "        vertical-align: middle;\n",
       "    }\n",
       "\n",
       "    .dataframe tbody tr th {\n",
       "        vertical-align: top;\n",
       "    }\n",
       "\n",
       "    .dataframe thead th {\n",
       "        text-align: right;\n",
       "    }\n",
       "</style>\n",
       "<table border=\"1\" class=\"dataframe\">\n",
       "  <thead>\n",
       "    <tr style=\"text-align: right;\">\n",
       "      <th></th>\n",
       "      <th>Fund_Id</th>\n",
       "      <th>Fund_Name</th>\n",
       "      <th>Firm_Name</th>\n",
       "      <th>Fund_Type</th>\n",
       "      <th>Local_Currency</th>\n",
       "      <th>Fund_Size</th>\n",
       "      <th>Fund_Status</th>\n",
       "      <th>Fund_Focus</th>\n",
       "      <th>Fund_Number_Overall</th>\n",
       "      <th>Fund_Number_Series</th>\n",
       "      <th>Geographic_Scope</th>\n",
       "      <th>Industry</th>\n",
       "      <th>Called_Pcent</th>\n",
       "      <th>Distr_DPI_Pcent</th>\n",
       "      <th>Value_RVPI_Pcent</th>\n",
       "      <th>Multiple</th>\n",
       "      <th>Net_IRR_Pcent</th>\n",
       "      <th>FirmCountry</th>\n",
       "      <th>GDP_yoy</th>\n",
       "      <th>TR_10yrs</th>\n",
       "    </tr>\n",
       "  </thead>\n",
       "  <tbody>\n",
       "    <tr>\n",
       "      <th>0</th>\n",
       "      <td>3</td>\n",
       "      <td>1818 Fund II</td>\n",
       "      <td>Brown Brothers Harriman</td>\n",
       "      <td>Buyout</td>\n",
       "      <td>USD</td>\n",
       "      <td>475.0</td>\n",
       "      <td>Liquidated</td>\n",
       "      <td>US</td>\n",
       "      <td>2</td>\n",
       "      <td>2</td>\n",
       "      <td>Country-Specific</td>\n",
       "      <td>Telecoms, Healthcare, Media, Financial Service...</td>\n",
       "      <td>88.5</td>\n",
       "      <td>180.74</td>\n",
       "      <td>0.0</td>\n",
       "      <td>1.8074</td>\n",
       "      <td>11.4</td>\n",
       "      <td>US</td>\n",
       "      <td>5.88</td>\n",
       "      <td>7.008845</td>\n",
       "    </tr>\n",
       "    <tr>\n",
       "      <th>1</th>\n",
       "      <td>9</td>\n",
       "      <td>Riverside Capital Appreciation Fund 2000</td>\n",
       "      <td>Riverside Company</td>\n",
       "      <td>Buyout</td>\n",
       "      <td>USD</td>\n",
       "      <td>412.8</td>\n",
       "      <td>Liquidated</td>\n",
       "      <td>US</td>\n",
       "      <td>4</td>\n",
       "      <td>3</td>\n",
       "      <td>Country-Specific</td>\n",
       "      <td>Healthcare, Consumer Services, Manufacturing, ...</td>\n",
       "      <td>91.5</td>\n",
       "      <td>175.80</td>\n",
       "      <td>0.0</td>\n",
       "      <td>1.7580</td>\n",
       "      <td>18.4</td>\n",
       "      <td>US</td>\n",
       "      <td>6.27</td>\n",
       "      <td>5.646135</td>\n",
       "    </tr>\n",
       "  </tbody>\n",
       "</table>\n",
       "</div>"
      ],
      "text/plain": [
       "   Fund_Id                                 Fund_Name                Firm_Name  \\\n",
       "0        3                              1818 Fund II  Brown Brothers Harriman   \n",
       "1        9  Riverside Capital Appreciation Fund 2000        Riverside Company   \n",
       "\n",
       "  Fund_Type Local_Currency  Fund_Size Fund_Status Fund_Focus  \\\n",
       "0    Buyout            USD      475.0  Liquidated         US   \n",
       "1    Buyout            USD      412.8  Liquidated         US   \n",
       "\n",
       "   Fund_Number_Overall  Fund_Number_Series  Geographic_Scope  \\\n",
       "0                    2                   2  Country-Specific   \n",
       "1                    4                   3  Country-Specific   \n",
       "\n",
       "                                            Industry  Called_Pcent  \\\n",
       "0  Telecoms, Healthcare, Media, Financial Service...          88.5   \n",
       "1  Healthcare, Consumer Services, Manufacturing, ...          91.5   \n",
       "\n",
       "   Distr_DPI_Pcent  Value_RVPI_Pcent  Multiple  Net_IRR_Pcent FirmCountry  \\\n",
       "0           180.74               0.0    1.8074           11.4          US   \n",
       "1           175.80               0.0    1.7580           18.4          US   \n",
       "\n",
       "   GDP_yoy  TR_10yrs  \n",
       "0     5.88  7.008845  \n",
       "1     6.27  5.646135  "
      ]
     },
     "execution_count": 13,
     "metadata": {},
     "output_type": "execute_result"
    }
   ],
   "source": [
    "df.head(2)"
   ]
  },
  {
   "cell_type": "markdown",
   "id": "f7117194",
   "metadata": {},
   "source": [
    "# Adding year on MSCI world index"
   ]
  },
  {
   "cell_type": "code",
   "execution_count": 14,
   "id": "f55b15a8",
   "metadata": {},
   "outputs": [
    {
     "data": {
      "text/html": [
       "<div>\n",
       "<style scoped>\n",
       "    .dataframe tbody tr th:only-of-type {\n",
       "        vertical-align: middle;\n",
       "    }\n",
       "\n",
       "    .dataframe tbody tr th {\n",
       "        vertical-align: top;\n",
       "    }\n",
       "\n",
       "    .dataframe thead th {\n",
       "        text-align: right;\n",
       "    }\n",
       "</style>\n",
       "<table border=\"1\" class=\"dataframe\">\n",
       "  <thead>\n",
       "    <tr style=\"text-align: right;\">\n",
       "      <th></th>\n",
       "      <th>Fund_Id</th>\n",
       "      <th>yoy_MSCI</th>\n",
       "    </tr>\n",
       "  </thead>\n",
       "  <tbody>\n",
       "    <tr>\n",
       "      <th>0</th>\n",
       "      <td>3</td>\n",
       "      <td>-7.141309</td>\n",
       "    </tr>\n",
       "    <tr>\n",
       "      <th>1</th>\n",
       "      <td>9</td>\n",
       "      <td>23.560375</td>\n",
       "    </tr>\n",
       "  </tbody>\n",
       "</table>\n",
       "</div>"
      ],
      "text/plain": [
       "   Fund_Id   yoy_MSCI\n",
       "0        3  -7.141309\n",
       "1        9  23.560375"
      ]
     },
     "execution_count": 14,
     "metadata": {},
     "output_type": "execute_result"
    }
   ],
   "source": [
    "df_msci = pd.read_csv(\"msci_yoy.csv\")\n",
    "df_msci.head(2)"
   ]
  },
  {
   "cell_type": "code",
   "execution_count": 15,
   "id": "707f58ef",
   "metadata": {},
   "outputs": [],
   "source": [
    "df = df.merge(df_msci, how=\"inner\", on=[\"Fund_Id\"])"
   ]
  },
  {
   "cell_type": "code",
   "execution_count": 16,
   "id": "c5d75737",
   "metadata": {},
   "outputs": [
    {
     "data": {
      "text/html": [
       "<div>\n",
       "<style scoped>\n",
       "    .dataframe tbody tr th:only-of-type {\n",
       "        vertical-align: middle;\n",
       "    }\n",
       "\n",
       "    .dataframe tbody tr th {\n",
       "        vertical-align: top;\n",
       "    }\n",
       "\n",
       "    .dataframe thead th {\n",
       "        text-align: right;\n",
       "    }\n",
       "</style>\n",
       "<table border=\"1\" class=\"dataframe\">\n",
       "  <thead>\n",
       "    <tr style=\"text-align: right;\">\n",
       "      <th></th>\n",
       "      <th>Fund_Id</th>\n",
       "      <th>Fund_Name</th>\n",
       "      <th>Firm_Name</th>\n",
       "      <th>Fund_Type</th>\n",
       "      <th>Local_Currency</th>\n",
       "      <th>Fund_Size</th>\n",
       "      <th>Fund_Status</th>\n",
       "      <th>Fund_Focus</th>\n",
       "      <th>Fund_Number_Overall</th>\n",
       "      <th>Fund_Number_Series</th>\n",
       "      <th>...</th>\n",
       "      <th>Industry</th>\n",
       "      <th>Called_Pcent</th>\n",
       "      <th>Distr_DPI_Pcent</th>\n",
       "      <th>Value_RVPI_Pcent</th>\n",
       "      <th>Multiple</th>\n",
       "      <th>Net_IRR_Pcent</th>\n",
       "      <th>FirmCountry</th>\n",
       "      <th>GDP_yoy</th>\n",
       "      <th>TR_10yrs</th>\n",
       "      <th>yoy_MSCI</th>\n",
       "    </tr>\n",
       "  </thead>\n",
       "  <tbody>\n",
       "    <tr>\n",
       "      <th>0</th>\n",
       "      <td>3</td>\n",
       "      <td>1818 Fund II</td>\n",
       "      <td>Brown Brothers Harriman</td>\n",
       "      <td>Buyout</td>\n",
       "      <td>USD</td>\n",
       "      <td>475.0</td>\n",
       "      <td>Liquidated</td>\n",
       "      <td>US</td>\n",
       "      <td>2</td>\n",
       "      <td>2</td>\n",
       "      <td>...</td>\n",
       "      <td>Telecoms, Healthcare, Media, Financial Service...</td>\n",
       "      <td>88.5</td>\n",
       "      <td>180.74</td>\n",
       "      <td>0.0</td>\n",
       "      <td>1.8074</td>\n",
       "      <td>11.4</td>\n",
       "      <td>US</td>\n",
       "      <td>5.88</td>\n",
       "      <td>7.008845</td>\n",
       "      <td>-7.141309</td>\n",
       "    </tr>\n",
       "    <tr>\n",
       "      <th>1</th>\n",
       "      <td>9</td>\n",
       "      <td>Riverside Capital Appreciation Fund 2000</td>\n",
       "      <td>Riverside Company</td>\n",
       "      <td>Buyout</td>\n",
       "      <td>USD</td>\n",
       "      <td>412.8</td>\n",
       "      <td>Liquidated</td>\n",
       "      <td>US</td>\n",
       "      <td>4</td>\n",
       "      <td>3</td>\n",
       "      <td>...</td>\n",
       "      <td>Healthcare, Consumer Services, Manufacturing, ...</td>\n",
       "      <td>91.5</td>\n",
       "      <td>175.80</td>\n",
       "      <td>0.0</td>\n",
       "      <td>1.7580</td>\n",
       "      <td>18.4</td>\n",
       "      <td>US</td>\n",
       "      <td>6.27</td>\n",
       "      <td>5.646135</td>\n",
       "      <td>23.560375</td>\n",
       "    </tr>\n",
       "  </tbody>\n",
       "</table>\n",
       "<p>2 rows × 21 columns</p>\n",
       "</div>"
      ],
      "text/plain": [
       "   Fund_Id                                 Fund_Name                Firm_Name  \\\n",
       "0        3                              1818 Fund II  Brown Brothers Harriman   \n",
       "1        9  Riverside Capital Appreciation Fund 2000        Riverside Company   \n",
       "\n",
       "  Fund_Type Local_Currency  Fund_Size Fund_Status Fund_Focus  \\\n",
       "0    Buyout            USD      475.0  Liquidated         US   \n",
       "1    Buyout            USD      412.8  Liquidated         US   \n",
       "\n",
       "   Fund_Number_Overall  Fund_Number_Series  ...  \\\n",
       "0                    2                   2  ...   \n",
       "1                    4                   3  ...   \n",
       "\n",
       "                                            Industry Called_Pcent  \\\n",
       "0  Telecoms, Healthcare, Media, Financial Service...         88.5   \n",
       "1  Healthcare, Consumer Services, Manufacturing, ...         91.5   \n",
       "\n",
       "   Distr_DPI_Pcent  Value_RVPI_Pcent  Multiple  Net_IRR_Pcent  FirmCountry  \\\n",
       "0           180.74               0.0    1.8074           11.4           US   \n",
       "1           175.80               0.0    1.7580           18.4           US   \n",
       "\n",
       "  GDP_yoy  TR_10yrs   yoy_MSCI  \n",
       "0    5.88  7.008845  -7.141309  \n",
       "1    6.27  5.646135  23.560375  \n",
       "\n",
       "[2 rows x 21 columns]"
      ]
     },
     "execution_count": 16,
     "metadata": {},
     "output_type": "execute_result"
    }
   ],
   "source": [
    "df.head(2)"
   ]
  },
  {
   "cell_type": "markdown",
   "id": "1818ca7d",
   "metadata": {},
   "source": [
    "# Adding new variables\n"
   ]
  },
  {
   "cell_type": "code",
   "execution_count": 17,
   "id": "4af9833f",
   "metadata": {},
   "outputs": [
    {
     "data": {
      "text/plain": [
       "(1719, 4)"
      ]
     },
     "execution_count": 17,
     "metadata": {},
     "output_type": "execute_result"
    }
   ],
   "source": [
    "df_nv = pd.read_csv(\"New_Variables.csv\")\n",
    "df_nv = df_nv.drop(['Unnamed: 0'], axis =1)\n",
    "df_nv.shape"
   ]
  },
  {
   "cell_type": "code",
   "execution_count": 18,
   "id": "e7a1fd10",
   "metadata": {},
   "outputs": [],
   "source": [
    "df = df.merge(df_nv, how=\"inner\", on=[\"Fund_Id\"])"
   ]
  },
  {
   "cell_type": "code",
   "execution_count": 19,
   "id": "2fd51c40",
   "metadata": {},
   "outputs": [
    {
     "data": {
      "text/html": [
       "<div>\n",
       "<style scoped>\n",
       "    .dataframe tbody tr th:only-of-type {\n",
       "        vertical-align: middle;\n",
       "    }\n",
       "\n",
       "    .dataframe tbody tr th {\n",
       "        vertical-align: top;\n",
       "    }\n",
       "\n",
       "    .dataframe thead th {\n",
       "        text-align: right;\n",
       "    }\n",
       "</style>\n",
       "<table border=\"1\" class=\"dataframe\">\n",
       "  <thead>\n",
       "    <tr style=\"text-align: right;\">\n",
       "      <th></th>\n",
       "      <th>Fund_Id</th>\n",
       "      <th>Fund_Name</th>\n",
       "      <th>Firm_Name</th>\n",
       "      <th>Fund_Type</th>\n",
       "      <th>Local_Currency</th>\n",
       "      <th>Fund_Size</th>\n",
       "      <th>Fund_Status</th>\n",
       "      <th>Fund_Focus</th>\n",
       "      <th>Fund_Number_Overall</th>\n",
       "      <th>Fund_Number_Series</th>\n",
       "      <th>...</th>\n",
       "      <th>Value_RVPI_Pcent</th>\n",
       "      <th>Multiple</th>\n",
       "      <th>Net_IRR_Pcent</th>\n",
       "      <th>FirmCountry</th>\n",
       "      <th>GDP_yoy</th>\n",
       "      <th>TR_10yrs</th>\n",
       "      <th>yoy_MSCI</th>\n",
       "      <th>Firm_Age</th>\n",
       "      <th>Funds_Raised_Last_Year</th>\n",
       "      <th>Pcent_Increase_Funds_Last_Year</th>\n",
       "    </tr>\n",
       "  </thead>\n",
       "  <tbody>\n",
       "    <tr>\n",
       "      <th>0</th>\n",
       "      <td>3</td>\n",
       "      <td>1818 Fund II</td>\n",
       "      <td>Brown Brothers Harriman</td>\n",
       "      <td>Buyout</td>\n",
       "      <td>USD</td>\n",
       "      <td>475.0</td>\n",
       "      <td>Liquidated</td>\n",
       "      <td>US</td>\n",
       "      <td>2</td>\n",
       "      <td>2</td>\n",
       "      <td>...</td>\n",
       "      <td>0.0</td>\n",
       "      <td>1.8074</td>\n",
       "      <td>11.4</td>\n",
       "      <td>US</td>\n",
       "      <td>5.88</td>\n",
       "      <td>7.008845</td>\n",
       "      <td>-7.141309</td>\n",
       "      <td>4</td>\n",
       "      <td>101</td>\n",
       "      <td>0.905660</td>\n",
       "    </tr>\n",
       "    <tr>\n",
       "      <th>1</th>\n",
       "      <td>9</td>\n",
       "      <td>Riverside Capital Appreciation Fund 2000</td>\n",
       "      <td>Riverside Company</td>\n",
       "      <td>Buyout</td>\n",
       "      <td>USD</td>\n",
       "      <td>412.8</td>\n",
       "      <td>Liquidated</td>\n",
       "      <td>US</td>\n",
       "      <td>4</td>\n",
       "      <td>3</td>\n",
       "      <td>...</td>\n",
       "      <td>0.0</td>\n",
       "      <td>1.7580</td>\n",
       "      <td>18.4</td>\n",
       "      <td>US</td>\n",
       "      <td>6.27</td>\n",
       "      <td>5.646135</td>\n",
       "      <td>23.560375</td>\n",
       "      <td>12</td>\n",
       "      <td>532</td>\n",
       "      <td>0.217391</td>\n",
       "    </tr>\n",
       "  </tbody>\n",
       "</table>\n",
       "<p>2 rows × 24 columns</p>\n",
       "</div>"
      ],
      "text/plain": [
       "   Fund_Id                                 Fund_Name                Firm_Name  \\\n",
       "0        3                              1818 Fund II  Brown Brothers Harriman   \n",
       "1        9  Riverside Capital Appreciation Fund 2000        Riverside Company   \n",
       "\n",
       "  Fund_Type Local_Currency  Fund_Size Fund_Status Fund_Focus  \\\n",
       "0    Buyout            USD      475.0  Liquidated         US   \n",
       "1    Buyout            USD      412.8  Liquidated         US   \n",
       "\n",
       "   Fund_Number_Overall  Fund_Number_Series  ... Value_RVPI_Pcent Multiple  \\\n",
       "0                    2                   2  ...              0.0   1.8074   \n",
       "1                    4                   3  ...              0.0   1.7580   \n",
       "\n",
       "   Net_IRR_Pcent  FirmCountry  GDP_yoy  TR_10yrs   yoy_MSCI Firm_Age  \\\n",
       "0           11.4           US     5.88  7.008845  -7.141309        4   \n",
       "1           18.4           US     6.27  5.646135  23.560375       12   \n",
       "\n",
       "   Funds_Raised_Last_Year  Pcent_Increase_Funds_Last_Year  \n",
       "0                     101                        0.905660  \n",
       "1                     532                        0.217391  \n",
       "\n",
       "[2 rows x 24 columns]"
      ]
     },
     "execution_count": 19,
     "metadata": {},
     "output_type": "execute_result"
    }
   ],
   "source": [
    "df.head(2)"
   ]
  },
  {
   "cell_type": "code",
   "execution_count": 20,
   "id": "6ed80517",
   "metadata": {
    "cell_id": "00008-0704012d-1eaf-49d1-ac5b-36084b8b2229",
    "deepnote_cell_type": "code",
    "deepnote_to_be_reexecuted": false,
    "execution_millis": 2,
    "execution_start": 1619549772460,
    "source_hash": "5f069592"
   },
   "outputs": [],
   "source": [
    "# defining function for one hot encoding of variables\n",
    "def one_hot(df, variable, top_x_labels):\n",
    "    \"\"\"\n",
    "    df: Will take data frame as a data\n",
    "    variable: column name (feature name or Variable)\n",
    "    top_x_labels: top 'x' nbr. of labels for which one wants to hot encode, keeping rest as others\n",
    "    return: will add \"x + 1\" new columns into the data frame\n",
    "    \"\"\"\n",
    "    for label in top_x_labels:\n",
    "        df[variable + '_' + label] = np.where(df[variable]==label,1,0)\n",
    "    df[variable + '_' + 'other'] = np.where(~df[variable].isin(top_x_labels),1,0)"
   ]
  },
  {
   "cell_type": "code",
   "execution_count": 21,
   "id": "831d6e3d",
   "metadata": {
    "cell_id": "00009-3c10153a-b07f-4d37-a67f-1f7e4976a69f",
    "deepnote_cell_type": "code",
    "deepnote_to_be_reexecuted": false,
    "execution_millis": 2,
    "execution_start": 1619549772464,
    "source_hash": "2ab702b8"
   },
   "outputs": [],
   "source": [
    "# one hot where we don't want other colum\n",
    "def one_hot_code(df, variable, top_x_labels):\n",
    "    \"\"\"\n",
    "    df: Will take data frame as a data\n",
    "    variable: column name (feature name or Variable)\n",
    "    top_x_labels: top 'x' nbr. of labels for which one wants to hot encode, not keeping rest as others\n",
    "    return: will add \"x\" new columns into the data frame\n",
    "    \"\"\"\n",
    "    for label in top_x_labels:\n",
    "        df[variable + '_' + label] = np.where(df[variable]==label,1,0)"
   ]
  },
  {
   "cell_type": "markdown",
   "id": "81568323",
   "metadata": {
    "cell_id": "00012-b3c6659e-7add-4d1c-b320-26825e6f8951",
    "deepnote_cell_type": "markdown",
    "tags": []
   },
   "source": [
    "# Fund Number Series / Overall\n",
    "Will this be a categorical or continuous variable? Because, will the difference between say overall number 3 and 4 is same as the difference between 6-7. In present representation, we treat them as equal as we consider them continuous. Refer to the end of this document for more exploratory analysis."
   ]
  },
  {
   "cell_type": "code",
   "execution_count": 22,
   "id": "3076d61e",
   "metadata": {
    "cell_id": "00012-3873ccfd-89d1-40c2-82f1-c46730e5ae72",
    "deepnote_cell_type": "code",
    "deepnote_to_be_reexecuted": false,
    "execution_millis": 29,
    "execution_start": 1619549772468,
    "source_hash": "4255a237",
    "tags": []
   },
   "outputs": [
    {
     "data": {
      "text/plain": [
       "2     291\n",
       "3     287\n",
       "4     235\n",
       "1     199\n",
       "10    182\n",
       "5     174\n",
       "6     136\n",
       "7      94\n",
       "8      77\n",
       "9      44\n",
       "Name: Fund_Number_Overall, dtype: int64"
      ]
     },
     "execution_count": 22,
     "metadata": {},
     "output_type": "execute_result"
    }
   ],
   "source": [
    "df.Fund_Number_Overall.value_counts().sort_values(ascending=False)"
   ]
  },
  {
   "cell_type": "markdown",
   "id": "8f01d79f",
   "metadata": {
    "cell_id": "00010-036337bf-9556-4be1-bfda-b22c87def9b2",
    "deepnote_cell_type": "markdown"
   },
   "source": [
    "# Fund_Type\n",
    "1. Finding number of distinct labels, and if there are blanks then to fill it with rest randomly <br>\n",
    "2. To hot encode into labels"
   ]
  },
  {
   "cell_type": "code",
   "execution_count": 23,
   "id": "0da58b5e",
   "metadata": {
    "cell_id": "00011-f05b48e8-8712-4781-b54d-df40e13a4c48",
    "deepnote_cell_type": "code",
    "deepnote_to_be_reexecuted": false,
    "execution_millis": 19,
    "execution_start": 1619549772478,
    "source_hash": "4cdc19db"
   },
   "outputs": [
    {
     "data": {
      "text/plain": [
       "Buyout         1058\n",
       "Venture_Cap     661\n",
       "Name: Fund_Type, dtype: int64"
      ]
     },
     "execution_count": 23,
     "metadata": {},
     "output_type": "execute_result"
    }
   ],
   "source": [
    "df.Fund_Type.value_counts().sort_values(ascending=False)"
   ]
  },
  {
   "cell_type": "code",
   "execution_count": 24,
   "id": "6a656469",
   "metadata": {
    "cell_id": "00012-dd8df455-3297-4d01-9cbd-b96ef05ea92a",
    "deepnote_cell_type": "code",
    "deepnote_to_be_reexecuted": false,
    "execution_millis": 4,
    "execution_start": 1619549772493,
    "source_hash": "3d1def2f"
   },
   "outputs": [],
   "source": [
    "# Since,first five labels dominate, I choose to hot encode them\n",
    "list_fund_type = list(df.Fund_Type.value_counts().sort_values(ascending=False).index)\n",
    "one_hot_code(df, \"Fund_Type\", list_fund_type)"
   ]
  },
  {
   "cell_type": "markdown",
   "id": "9b4e9e3b",
   "metadata": {
    "cell_id": "00014-cb703a9a-8759-441b-bc53-51908f9c996b",
    "deepnote_cell_type": "markdown"
   },
   "source": [
    "# Local_Currency"
   ]
  },
  {
   "cell_type": "code",
   "execution_count": 25,
   "id": "ca264fda",
   "metadata": {
    "cell_id": "00015-d98e7d35-8142-4c93-a48f-a87e2201e2b1",
    "deepnote_cell_type": "code",
    "deepnote_to_be_reexecuted": false,
    "execution_millis": 7,
    "execution_start": 1619549772586,
    "source_hash": "5115c8ba"
   },
   "outputs": [
    {
     "data": {
      "text/plain": [
       "USD    1451\n",
       "EUR     174\n",
       "GBP      57\n",
       "CAD      12\n",
       "AUD      11\n",
       "SEK       6\n",
       "ZAR       3\n",
       "NZD       2\n",
       "DKK       2\n",
       "NOK       1\n",
       "Name: Local_Currency, dtype: int64"
      ]
     },
     "execution_count": 25,
     "metadata": {},
     "output_type": "execute_result"
    }
   ],
   "source": [
    "df.Local_Currency.value_counts().sort_values(ascending=False)"
   ]
  },
  {
   "cell_type": "code",
   "execution_count": 26,
   "id": "f853c80b",
   "metadata": {
    "cell_id": "00016-0cc39177-aefe-4d0d-ab79-56f366754c8d",
    "deepnote_cell_type": "code",
    "deepnote_to_be_reexecuted": false,
    "execution_millis": 1,
    "execution_start": 1619549772587,
    "source_hash": "a008b42e"
   },
   "outputs": [],
   "source": [
    "# I will here segregate into three labels - USD, EUR, Others\n",
    "list_loc_cur = list(df.Local_Currency.value_counts().sort_values(ascending=False).head(2).index)\n",
    "one_hot(df, \"Local_Currency\", list_loc_cur)"
   ]
  },
  {
   "cell_type": "markdown",
   "id": "c04f9e97",
   "metadata": {
    "cell_id": "00017-49432af3-ec85-4dec-b3ad-7ffd9e90a479",
    "deepnote_cell_type": "markdown"
   },
   "source": [
    "# Fund_Status "
   ]
  },
  {
   "cell_type": "code",
   "execution_count": 27,
   "id": "000db29a",
   "metadata": {
    "cell_id": "00018-437faa41-d973-4396-9542-d9a3f93425d6",
    "deepnote_cell_type": "code",
    "deepnote_to_be_reexecuted": false,
    "execution_millis": 5,
    "execution_start": 1619549772588,
    "source_hash": "e5ccfa1b"
   },
   "outputs": [
    {
     "data": {
      "text/plain": [
       "Closed        1221\n",
       "Liquidated     498\n",
       "Name: Fund_Status, dtype: int64"
      ]
     },
     "execution_count": 27,
     "metadata": {},
     "output_type": "execute_result"
    }
   ],
   "source": [
    "df.Fund_Status.value_counts().sort_values(ascending=False)"
   ]
  },
  {
   "cell_type": "code",
   "execution_count": 28,
   "id": "3700941c",
   "metadata": {
    "cell_id": "00019-d96202d1-53a2-4653-9054-f0c971aaf3e8",
    "deepnote_cell_type": "code",
    "deepnote_to_be_reexecuted": false,
    "execution_millis": 5,
    "execution_start": 1619549772590,
    "source_hash": "1774a024"
   },
   "outputs": [],
   "source": [
    "list_fund_status = list(df.Fund_Status.value_counts().sort_values(ascending=False).head().index)\n",
    "one_hot_code(df, \"Fund_Status\", list_fund_status)"
   ]
  },
  {
   "cell_type": "markdown",
   "id": "5af8a206",
   "metadata": {
    "cell_id": "00020-94452b47-ce93-422e-bb0d-0b7687a25aa3",
    "deepnote_cell_type": "markdown"
   },
   "source": [
    "# Fund_Focus"
   ]
  },
  {
   "cell_type": "code",
   "execution_count": 29,
   "id": "d9da225d",
   "metadata": {
    "cell_id": "00021-d1f73113-8bc5-4f97-9fde-8caa93c1138a",
    "deepnote_cell_type": "code",
    "deepnote_to_be_reexecuted": false,
    "execution_millis": 7,
    "execution_start": 1619549772598,
    "source_hash": "7b5d869f"
   },
   "outputs": [
    {
     "data": {
      "text/plain": [
       "US                      1316\n",
       "Europe                   286\n",
       "Asia                      59\n",
       "Middle East & Israel      20\n",
       "Americas                  19\n",
       "Australasia               14\n",
       "Africa                     3\n",
       "Diversified Multi-Re       2\n",
       "Name: Fund_Focus, dtype: int64"
      ]
     },
     "execution_count": 29,
     "metadata": {},
     "output_type": "execute_result"
    }
   ],
   "source": [
    "df.Fund_Focus.value_counts().sort_values(ascending=False)"
   ]
  },
  {
   "cell_type": "code",
   "execution_count": 30,
   "id": "e76513fa",
   "metadata": {
    "cell_id": "00022-f645ec29-64ba-453b-89e9-e38e69609c8c",
    "deepnote_cell_type": "code",
    "deepnote_to_be_reexecuted": false,
    "execution_millis": 3,
    "execution_start": 1619549772607,
    "source_hash": "c663ce92"
   },
   "outputs": [],
   "source": [
    "# I will segregate it into four labels US, Europe, Asia, Others\n",
    "list_fund_focus = list(df.Fund_Focus.value_counts().sort_values(ascending=False).head(3).index)\n",
    "one_hot(df, \"Fund_Focus\", list_fund_focus)"
   ]
  },
  {
   "cell_type": "markdown",
   "id": "2a70b8f5",
   "metadata": {
    "cell_id": "00023-4120b906-c94e-4fd5-bc86-8084ae84c474",
    "deepnote_cell_type": "markdown"
   },
   "source": [
    "# Geographic_Scope"
   ]
  },
  {
   "cell_type": "code",
   "execution_count": 31,
   "id": "e40eba43",
   "metadata": {
    "cell_id": "00024-fcf868ae-1f92-4ee4-8461-2d232f74d317",
    "deepnote_cell_type": "code",
    "deepnote_to_be_reexecuted": false,
    "execution_millis": 6,
    "execution_start": 1619549772613,
    "source_hash": "d8933c1d"
   },
   "outputs": [
    {
     "data": {
      "text/plain": [
       "Country-Specific     774\n",
       "Multi-Continental    381\n",
       "Continental          368\n",
       "Regional             156\n",
       "US Regional           40\n",
       "Name: Geographic_Scope, dtype: int64"
      ]
     },
     "execution_count": 31,
     "metadata": {},
     "output_type": "execute_result"
    }
   ],
   "source": [
    "df.Geographic_Scope.value_counts().sort_values(ascending=False)"
   ]
  },
  {
   "cell_type": "code",
   "execution_count": 32,
   "id": "8fc51053",
   "metadata": {},
   "outputs": [],
   "source": [
    "df = df.replace({\"Geographic_Scope\":\n",
    "{\"Multi-Continental\":\"Diversified\",\n",
    "\"Continental\": \"Diversified\",\n",
    "\"Country-Specific\":\"Others\",\n",
    "\"Regional\":\"Others\",\n",
    "\"US Regional\": \"Others\"}\n",
    "})"
   ]
  },
  {
   "cell_type": "code",
   "execution_count": 33,
   "id": "9215c3fb",
   "metadata": {
    "cell_id": "00025-587ebf4a-7706-4942-a75d-5d78a1ac6189",
    "deepnote_cell_type": "code",
    "deepnote_to_be_reexecuted": false,
    "execution_millis": 7,
    "execution_start": 1619549772623,
    "source_hash": "9f4c1509"
   },
   "outputs": [],
   "source": [
    "# One hot encoding with top 3 and rest as others\n",
    "list_geo_scope = list(df.Geographic_Scope.value_counts().sort_values(ascending=False).head(3).index)\n",
    "one_hot_code(df, \"Geographic_Scope\", list_geo_scope)"
   ]
  },
  {
   "cell_type": "markdown",
   "id": "0e1bd801",
   "metadata": {
    "cell_id": "00026-dc76a02a-8003-4fd9-9607-72118dcfb2ff",
    "deepnote_cell_type": "markdown"
   },
   "source": [
    "# Industry\n",
    "1. Industry has in total 1052 labels so to hot encode would create 1000+ new features,a procedure that will add lot of noise. <br>\n",
    "2. So, it becomes relevant to choose top 5 or top 10 as per the distribution of count"
   ]
  },
  {
   "cell_type": "code",
   "execution_count": 34,
   "id": "47fdb569",
   "metadata": {
    "cell_id": "00027-b1c8e5c2-ffc6-4709-b560-a9ec0786b975",
    "deepnote_cell_type": "code",
    "deepnote_to_be_reexecuted": false,
    "execution_millis": 10,
    "execution_start": 1619549772630,
    "source_hash": "dee14f17"
   },
   "outputs": [
    {
     "data": {
      "text/plain": [
       "Diversified                                       326\n",
       "Technology                                         42\n",
       "Distribution, Consumer Services, Manufacturing     22\n",
       "IT, Life Sciences                                  16\n",
       "Healthcare                                         15\n",
       "Financial Services                                 14\n",
       "Life Sciences                                      13\n",
       "Communications, Media                              11\n",
       "Technology, Software                               11\n",
       "Software                                           10\n",
       "Name: Industry, dtype: int64"
      ]
     },
     "execution_count": 34,
     "metadata": {},
     "output_type": "execute_result"
    }
   ],
   "source": [
    "df.Industry.value_counts().sort_values(ascending=False).head(10)"
   ]
  },
  {
   "cell_type": "code",
   "execution_count": 35,
   "id": "e3e6164c",
   "metadata": {
    "cell_id": "00028-bd39013b-1432-419c-86f3-58c6f28c8785",
    "deepnote_cell_type": "code",
    "deepnote_to_be_reexecuted": false,
    "execution_millis": 0,
    "execution_start": 1619549772656,
    "source_hash": "95092b6f"
   },
   "outputs": [],
   "source": [
    "# As it can be observed that Diversified leads the chart, with the rest more or less equal. So it would be better to\n",
    "# segregate it into binary variables Diversified and Non-Diversified. FUnd is focuessed or otherwise since the foucs also changes as per the year. For instance,\n",
    "# 2020 was the year of SPAC\n",
    "list_industry = list(df.Industry.value_counts().sort_values(ascending=False).head(1).index)\n",
    "one_hot(df, \"Industry\", list_industry)"
   ]
  },
  {
   "cell_type": "markdown",
   "id": "979df50d",
   "metadata": {
    "cell_id": "00032-a0472fa4-b803-47c9-bde3-df2d96d350a3",
    "deepnote_cell_type": "markdown"
   },
   "source": [
    "# FirmCountry "
   ]
  },
  {
   "cell_type": "code",
   "execution_count": 36,
   "id": "ccaf95ad",
   "metadata": {
    "cell_id": "00033-de77250d-d11a-4061-bce0-b3fd8eda74c9",
    "deepnote_cell_type": "code",
    "deepnote_to_be_reexecuted": false,
    "execution_millis": 15,
    "execution_start": 1619549772658,
    "source_hash": "8c564539"
   },
   "outputs": [
    {
     "data": {
      "text/plain": [
       "US             1329\n",
       "UK              142\n",
       "Canada           23\n",
       "France           21\n",
       "Switzerland      20\n",
       "Name: FirmCountry, dtype: int64"
      ]
     },
     "execution_count": 36,
     "metadata": {},
     "output_type": "execute_result"
    }
   ],
   "source": [
    "df.FirmCountry.value_counts().sort_values(ascending=False).head(5)"
   ]
  },
  {
   "cell_type": "code",
   "execution_count": 37,
   "id": "a721bd5a",
   "metadata": {
    "cell_id": "00034-56959430-2d09-41e7-8443-1ab3de6b2b66",
    "deepnote_cell_type": "code",
    "deepnote_to_be_reexecuted": false,
    "execution_millis": 1,
    "execution_start": 1619549772665,
    "source_hash": "26e0f599"
   },
   "outputs": [],
   "source": [
    "# Firm_Country has 44 labels, so it would be better if we can segregate countries into regions such as US, Eur or Others\n",
    "# However, such approach will require mapping of US, and European countries. To do later. For now, I will segregate into\n",
    "# US,Non-US(Others)\n",
    "list_firm_country = list(df.FirmCountry.value_counts().sort_values(ascending=False).head(1).index)\n",
    "one_hot(df, \"FirmCountry\", list_firm_country)"
   ]
  },
  {
   "cell_type": "markdown",
   "id": "8c0cc094",
   "metadata": {
    "cell_id": "00038-1f0045b6-5e72-4d59-ad3d-95cab2684697",
    "deepnote_cell_type": "markdown",
    "tags": []
   },
   "source": [
    "# Fund_Number_Series"
   ]
  },
  {
   "cell_type": "code",
   "execution_count": 38,
   "id": "92a0ae88",
   "metadata": {
    "cell_id": "00039-273e188e-3cae-4280-92ff-aaf82838fb9c",
    "deepnote_cell_type": "code",
    "deepnote_to_be_reexecuted": false,
    "execution_millis": 10,
    "execution_start": 1619549772690,
    "source_hash": "5a1d328f",
    "tags": []
   },
   "outputs": [
    {
     "data": {
      "text/plain": [
       "2     343\n",
       "3     318\n",
       "1     286\n",
       "4     243\n",
       "5     172\n",
       "6     121\n",
       "7      86\n",
       "8      62\n",
       "10     56\n",
       "9      32\n",
       "Name: Fund_Number_Series, dtype: int64"
      ]
     },
     "execution_count": 38,
     "metadata": {},
     "output_type": "execute_result"
    }
   ],
   "source": [
    "df.Fund_Number_Series.value_counts(sort=True)"
   ]
  },
  {
   "cell_type": "markdown",
   "id": "d3220f44",
   "metadata": {
    "cell_id": "00040-ce30b6e1-31f8-4699-a11a-6e83c1592d61",
    "deepnote_cell_type": "markdown",
    "tags": []
   },
   "source": [
    "This is a proxy for management experience as it shows the the number of funds launched till date."
   ]
  },
  {
   "cell_type": "markdown",
   "id": "16e64f9b",
   "metadata": {
    "cell_id": "00042-5b7d0f4f-4b83-4de5-8fbc-784c91856ac6",
    "deepnote_cell_type": "markdown",
    "tags": []
   },
   "source": [
    "# Dropping main variables\n",
    "this is to drop main variables as they are already hot encoded"
   ]
  },
  {
   "cell_type": "code",
   "execution_count": 39,
   "id": "ca00d469",
   "metadata": {
    "cell_id": "00044-36d19e9c-e84b-421c-b644-86f7b41e9fea",
    "deepnote_cell_type": "code",
    "deepnote_to_be_reexecuted": false,
    "execution_millis": 11,
    "execution_start": 1619549772694,
    "source_hash": "15308c5e"
   },
   "outputs": [],
   "source": [
    "df = df.drop([\"Local_Currency\", \"Fund_Status\", \"Fund_Focus\", \"Geographic_Scope\",\"Industry\", \n",
    "\"FirmCountry\", \"Local_Currency_other\", \"Fund_Focus_other\", \"Geographic_Scope_Others\",\n",
    "\"Industry_other\",\"FirmCountry_other\",\"FirmCountry_US\"], axis=1)"
   ]
  },
  {
   "cell_type": "code",
   "execution_count": 40,
   "id": "da2c2805",
   "metadata": {
    "cell_id": "00046-7e915edf-b297-4e4a-bfba-510f31f1621b",
    "deepnote_cell_type": "code",
    "deepnote_to_be_reexecuted": false,
    "execution_millis": 0,
    "execution_start": 1619549772731,
    "source_hash": "4314666a"
   },
   "outputs": [],
   "source": [
    "df = df.dropna()"
   ]
  },
  {
   "cell_type": "code",
   "execution_count": 41,
   "id": "66ee7fd4",
   "metadata": {
    "cell_id": "00047-a545095e-8813-47a9-a1a7-f996d03da7c0",
    "deepnote_cell_type": "code",
    "deepnote_to_be_reexecuted": false,
    "execution_millis": 25,
    "execution_start": 1619549772731,
    "source_hash": "ac94abf5"
   },
   "outputs": [],
   "source": [
    "df.to_csv(\"FinalDataSet_VC_BO.csv\", index=False)"
   ]
  },
  {
   "cell_type": "code",
   "execution_count": 42,
   "id": "2e4107f6",
   "metadata": {
    "cell_id": "00048-97a760aa-0aed-40f5-b4be-99ab423335af",
    "deepnote_cell_type": "code",
    "deepnote_to_be_reexecuted": false,
    "execution_millis": 8,
    "execution_start": 1619549772759,
    "source_hash": "14f60b8f",
    "tags": []
   },
   "outputs": [
    {
     "data": {
      "text/plain": [
       "(1719, 29)"
      ]
     },
     "execution_count": 42,
     "metadata": {},
     "output_type": "execute_result"
    }
   ],
   "source": [
    "df.shape"
   ]
  }
 ],
 "metadata": {
  "deepnote": {
   "is_reactive": false
  },
  "deepnote_execution_queue": [],
  "deepnote_notebook_id": "b6dd1dac-7c34-4c88-947f-bd288d086673",
  "kernelspec": {
   "display_name": "Python 3",
   "language": "python",
   "name": "python3"
  },
  "language_info": {
   "codemirror_mode": {
    "name": "ipython",
    "version": 3
   },
   "file_extension": ".py",
   "mimetype": "text/x-python",
   "name": "python",
   "nbconvert_exporter": "python",
   "pygments_lexer": "ipython3",
   "version": "3.9.2"
  }
 },
 "nbformat": 4,
 "nbformat_minor": 5
}
