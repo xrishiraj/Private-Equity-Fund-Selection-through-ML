{
 "cells": [
  {
   "cell_type": "code",
   "execution_count": 25,
   "id": "c8d70691",
   "metadata": {
    "cell_id": "00000-65e10348-557a-4699-9b6f-d4c309f16fd6",
    "deepnote_cell_type": "code",
    "deepnote_to_be_reexecuted": false,
    "execution_millis": 2164,
    "execution_start": 1619550507600,
    "source_hash": "940d52f2"
   },
   "outputs": [],
   "source": [
    "import numpy as np\n",
    "import pandas as pd \n",
    "import statsmodels.api as sm\n",
    "import seaborn as sns\n",
    "import matplotlib.pyplot as plt\n",
    "from sklearn.preprocessing import scale, StandardScaler\n",
    "from sklearn.model_selection import train_test_split, GridSearchCV, cross_val_score\n",
    "from sklearn.metrics import confusion_matrix, accuracy_score, mean_squared_error, r2_score, roc_auc_score, roc_curve, classification_report\n",
    "from sklearn.linear_model import LogisticRegression\n",
    "from sklearn.neighbors import KNeighborsClassifier\n",
    "from sklearn.svm import SVC\n",
    "from sklearn.neural_network import MLPClassifier\n",
    "from sklearn.tree import DecisionTreeClassifier\n",
    "from sklearn.ensemble import RandomForestClassifier\n",
    "from sklearn.ensemble import GradientBoostingClassifier\n",
    "%matplotlib inline"
   ]
  },
  {
   "cell_type": "code",
   "execution_count": 26,
   "id": "ff7b63e7",
   "metadata": {
    "cell_id": "00001-dfc1410b-d62c-40c5-9f98-85a74327ca8f",
    "deepnote_cell_type": "code",
    "deepnote_to_be_reexecuted": false,
    "execution_millis": 3,
    "execution_start": 1619550509766,
    "source_hash": "93bde797"
   },
   "outputs": [],
   "source": [
    "import warnings\n",
    "warnings.filterwarnings(\"ignore\", category=DeprecationWarning) \n",
    "warnings.filterwarnings(\"ignore\", category=FutureWarning) "
   ]
  },
  {
   "cell_type": "code",
   "execution_count": 27,
   "id": "fbca981e",
   "metadata": {
    "cell_id": "00004-c7f6a629-01ac-4306-9daf-003183f15e46",
    "deepnote_cell_type": "code",
    "deepnote_to_be_reexecuted": false,
    "execution_millis": 105,
    "execution_start": 1619550509773,
    "source_hash": "4ff95487",
    "tags": []
   },
   "outputs": [
    {
     "data": {
      "text/html": [
       "<div>\n",
       "<style scoped>\n",
       "    .dataframe tbody tr th:only-of-type {\n",
       "        vertical-align: middle;\n",
       "    }\n",
       "\n",
       "    .dataframe tbody tr th {\n",
       "        vertical-align: top;\n",
       "    }\n",
       "\n",
       "    .dataframe thead th {\n",
       "        text-align: right;\n",
       "    }\n",
       "</style>\n",
       "<table border=\"1\" class=\"dataframe\">\n",
       "  <thead>\n",
       "    <tr style=\"text-align: right;\">\n",
       "      <th></th>\n",
       "      <th>Fund_Id</th>\n",
       "      <th>Fund_Name</th>\n",
       "      <th>Firm_Name</th>\n",
       "      <th>Fund_Type</th>\n",
       "      <th>Fund_Size</th>\n",
       "      <th>Fund_Number_Overall</th>\n",
       "      <th>Fund_Number_Series</th>\n",
       "      <th>Called_Pcent</th>\n",
       "      <th>Distr_DPI_Pcent</th>\n",
       "      <th>Value_RVPI_Pcent</th>\n",
       "      <th>...</th>\n",
       "      <th>Local_Currency_USD</th>\n",
       "      <th>Local_Currency_EUR</th>\n",
       "      <th>Fund_Status_Closed</th>\n",
       "      <th>Fund_Status_Liquidated</th>\n",
       "      <th>Fund_Focus_US</th>\n",
       "      <th>Fund_Focus_Europe</th>\n",
       "      <th>Fund_Focus_Asia</th>\n",
       "      <th>Geographic_Scope_Diversified</th>\n",
       "      <th>Industry_Diversified</th>\n",
       "      <th>PME</th>\n",
       "    </tr>\n",
       "  </thead>\n",
       "  <tbody>\n",
       "    <tr>\n",
       "      <th>0</th>\n",
       "      <td>3</td>\n",
       "      <td>1818 Fund II</td>\n",
       "      <td>Brown Brothers Harriman</td>\n",
       "      <td>Buyout</td>\n",
       "      <td>475.0</td>\n",
       "      <td>2</td>\n",
       "      <td>2</td>\n",
       "      <td>88.5</td>\n",
       "      <td>180.74</td>\n",
       "      <td>0.0</td>\n",
       "      <td>...</td>\n",
       "      <td>1</td>\n",
       "      <td>0</td>\n",
       "      <td>0</td>\n",
       "      <td>1</td>\n",
       "      <td>1</td>\n",
       "      <td>0</td>\n",
       "      <td>0</td>\n",
       "      <td>0</td>\n",
       "      <td>0</td>\n",
       "      <td>0.914287</td>\n",
       "    </tr>\n",
       "    <tr>\n",
       "      <th>1</th>\n",
       "      <td>9</td>\n",
       "      <td>Riverside Capital Appreciation Fund 2000</td>\n",
       "      <td>Riverside Company</td>\n",
       "      <td>Buyout</td>\n",
       "      <td>412.8</td>\n",
       "      <td>4</td>\n",
       "      <td>3</td>\n",
       "      <td>91.5</td>\n",
       "      <td>175.80</td>\n",
       "      <td>0.0</td>\n",
       "      <td>...</td>\n",
       "      <td>1</td>\n",
       "      <td>0</td>\n",
       "      <td>0</td>\n",
       "      <td>1</td>\n",
       "      <td>1</td>\n",
       "      <td>0</td>\n",
       "      <td>0</td>\n",
       "      <td>0</td>\n",
       "      <td>0</td>\n",
       "      <td>1.463056</td>\n",
       "    </tr>\n",
       "    <tr>\n",
       "      <th>2</th>\n",
       "      <td>4004</td>\n",
       "      <td>Riverside Capital Appreciation Fund 2003</td>\n",
       "      <td>Riverside Company</td>\n",
       "      <td>Buyout</td>\n",
       "      <td>750.0</td>\n",
       "      <td>5</td>\n",
       "      <td>4</td>\n",
       "      <td>98.2</td>\n",
       "      <td>203.90</td>\n",
       "      <td>0.0</td>\n",
       "      <td>...</td>\n",
       "      <td>1</td>\n",
       "      <td>0</td>\n",
       "      <td>0</td>\n",
       "      <td>1</td>\n",
       "      <td>1</td>\n",
       "      <td>0</td>\n",
       "      <td>0</td>\n",
       "      <td>0</td>\n",
       "      <td>0</td>\n",
       "      <td>1.819914</td>\n",
       "    </tr>\n",
       "    <tr>\n",
       "      <th>3</th>\n",
       "      <td>12736</td>\n",
       "      <td>Riverside Capital Appreciation Fund V</td>\n",
       "      <td>Riverside Company</td>\n",
       "      <td>Buyout</td>\n",
       "      <td>1170.0</td>\n",
       "      <td>10</td>\n",
       "      <td>5</td>\n",
       "      <td>94.9</td>\n",
       "      <td>123.80</td>\n",
       "      <td>19.1</td>\n",
       "      <td>...</td>\n",
       "      <td>1</td>\n",
       "      <td>0</td>\n",
       "      <td>1</td>\n",
       "      <td>0</td>\n",
       "      <td>1</td>\n",
       "      <td>0</td>\n",
       "      <td>0</td>\n",
       "      <td>0</td>\n",
       "      <td>1</td>\n",
       "      <td>0.917017</td>\n",
       "    </tr>\n",
       "    <tr>\n",
       "      <th>4</th>\n",
       "      <td>12737</td>\n",
       "      <td>Riverside Micro-Cap Fund II</td>\n",
       "      <td>Riverside Company</td>\n",
       "      <td>Buyout</td>\n",
       "      <td>137.0</td>\n",
       "      <td>9</td>\n",
       "      <td>2</td>\n",
       "      <td>123.5</td>\n",
       "      <td>377.20</td>\n",
       "      <td>125.3</td>\n",
       "      <td>...</td>\n",
       "      <td>1</td>\n",
       "      <td>0</td>\n",
       "      <td>1</td>\n",
       "      <td>0</td>\n",
       "      <td>1</td>\n",
       "      <td>0</td>\n",
       "      <td>0</td>\n",
       "      <td>0</td>\n",
       "      <td>1</td>\n",
       "      <td>3.149979</td>\n",
       "    </tr>\n",
       "  </tbody>\n",
       "</table>\n",
       "<p>5 rows × 30 columns</p>\n",
       "</div>"
      ],
      "text/plain": [
       "   Fund_Id                                 Fund_Name                Firm_Name  \\\n",
       "0        3                              1818 Fund II  Brown Brothers Harriman   \n",
       "1        9  Riverside Capital Appreciation Fund 2000        Riverside Company   \n",
       "2     4004  Riverside Capital Appreciation Fund 2003        Riverside Company   \n",
       "3    12736     Riverside Capital Appreciation Fund V        Riverside Company   \n",
       "4    12737               Riverside Micro-Cap Fund II        Riverside Company   \n",
       "\n",
       "  Fund_Type  Fund_Size  Fund_Number_Overall  Fund_Number_Series  Called_Pcent  \\\n",
       "0    Buyout      475.0                    2                   2          88.5   \n",
       "1    Buyout      412.8                    4                   3          91.5   \n",
       "2    Buyout      750.0                    5                   4          98.2   \n",
       "3    Buyout     1170.0                   10                   5          94.9   \n",
       "4    Buyout      137.0                    9                   2         123.5   \n",
       "\n",
       "   Distr_DPI_Pcent  Value_RVPI_Pcent  ...  Local_Currency_USD  \\\n",
       "0           180.74               0.0  ...                   1   \n",
       "1           175.80               0.0  ...                   1   \n",
       "2           203.90               0.0  ...                   1   \n",
       "3           123.80              19.1  ...                   1   \n",
       "4           377.20             125.3  ...                   1   \n",
       "\n",
       "   Local_Currency_EUR  Fund_Status_Closed  Fund_Status_Liquidated  \\\n",
       "0                   0                   0                       1   \n",
       "1                   0                   0                       1   \n",
       "2                   0                   0                       1   \n",
       "3                   0                   1                       0   \n",
       "4                   0                   1                       0   \n",
       "\n",
       "   Fund_Focus_US  Fund_Focus_Europe  Fund_Focus_Asia  \\\n",
       "0              1                  0                0   \n",
       "1              1                  0                0   \n",
       "2              1                  0                0   \n",
       "3              1                  0                0   \n",
       "4              1                  0                0   \n",
       "\n",
       "   Geographic_Scope_Diversified  Industry_Diversified       PME  \n",
       "0                             0                     0  0.914287  \n",
       "1                             0                     0  1.463056  \n",
       "2                             0                     0  1.819914  \n",
       "3                             0                     1  0.917017  \n",
       "4                             0                     1  3.149979  \n",
       "\n",
       "[5 rows x 30 columns]"
      ]
     },
     "execution_count": 27,
     "metadata": {},
     "output_type": "execute_result"
    }
   ],
   "source": [
    "df = pd.read_csv(\"Data_for_modeling_VC_BO.csv\")\n",
    "df.head()"
   ]
  },
  {
   "cell_type": "code",
   "execution_count": 28,
   "id": "820c3d1a",
   "metadata": {
    "cell_id": "00008-3fdf1ef0-1010-4935-9f64-c5e61d4b930c",
    "deepnote_cell_type": "code",
    "deepnote_to_be_reexecuted": false,
    "execution_millis": 18,
    "execution_start": 1619550509867,
    "source_hash": "14f60b8f",
    "tags": []
   },
   "outputs": [
    {
     "data": {
      "text/plain": [
       "(1719, 30)"
      ]
     },
     "execution_count": 28,
     "metadata": {},
     "output_type": "execute_result"
    }
   ],
   "source": [
    "df.shape"
   ]
  },
  {
   "cell_type": "code",
   "execution_count": 29,
   "id": "5782be5e",
   "metadata": {},
   "outputs": [
    {
     "data": {
      "text/plain": [
       "(661, 2)"
      ]
     },
     "execution_count": 29,
     "metadata": {},
     "output_type": "execute_result"
    }
   ],
   "source": [
    "df_vc_s = pd.read_csv(\"VC.csv\")\n",
    "df_vc_s = df_vc_s.drop(['Unnamed: 0'], axis =1)\n",
    "df_vc_s.shape"
   ]
  },
  {
   "cell_type": "code",
   "execution_count": 30,
   "id": "ee88c201",
   "metadata": {},
   "outputs": [],
   "source": [
    "df = df.merge(df_vc_s, how=\"inner\", on=[\"Fund_Id\"])"
   ]
  },
  {
   "cell_type": "code",
   "execution_count": 31,
   "id": "04c242f4",
   "metadata": {
    "cell_id": "00009-9debd4b6-75bf-45fa-8119-7d4d9a568739",
    "deepnote_cell_type": "code",
    "deepnote_to_be_reexecuted": false,
    "execution_millis": 41,
    "execution_start": 1619550509896,
    "source_hash": "d794f466",
    "tags": []
   },
   "outputs": [
    {
     "data": {
      "text/plain": [
       "Fund_Id                           0\n",
       "Fund_Name                         0\n",
       "Firm_Name                         0\n",
       "Fund_Type                         0\n",
       "Fund_Size                         0\n",
       "Fund_Number_Overall               0\n",
       "Fund_Number_Series                0\n",
       "Called_Pcent                      0\n",
       "Distr_DPI_Pcent                   0\n",
       "Value_RVPI_Pcent                  0\n",
       "Multiple                          0\n",
       "Net_IRR_Pcent                     0\n",
       "GDP_yoy                           0\n",
       "TR_10yrs                          0\n",
       "yoy_MSCI                          0\n",
       "Firm_Age                          0\n",
       "Funds_Raised_Last_Year            0\n",
       "Pcent_Increase_Funds_Last_Year    0\n",
       "Fund_Type_Buyout                  0\n",
       "Fund_Type_Venture_Cap             0\n",
       "Local_Currency_USD                0\n",
       "Local_Currency_EUR                0\n",
       "Fund_Status_Closed                0\n",
       "Fund_Status_Liquidated            0\n",
       "Fund_Focus_US                     0\n",
       "Fund_Focus_Europe                 0\n",
       "Fund_Focus_Asia                   0\n",
       "Geographic_Scope_Diversified      0\n",
       "Industry_Diversified              0\n",
       "PME                               0\n",
       "VC_Specialized                    0\n",
       "dtype: int64"
      ]
     },
     "execution_count": 31,
     "metadata": {},
     "output_type": "execute_result"
    }
   ],
   "source": [
    "df.isna().sum()"
   ]
  },
  {
   "cell_type": "markdown",
   "id": "6620988b",
   "metadata": {
    "cell_id": "00012-c92046ee-0925-4c5a-acea-1a9d1c40466d",
    "deepnote_cell_type": "markdown",
    "tags": []
   },
   "source": [
    "# Dropping Columns "
   ]
  },
  {
   "cell_type": "code",
   "execution_count": 32,
   "id": "2ee0ad30",
   "metadata": {},
   "outputs": [],
   "source": [
    "# Dropping columns \n",
    "df.drop([\"Fund_Id\",\"Fund_Type\", \"Fund_Name\",\"Firm_Name\", \"Net_IRR_Pcent\", \n",
    "\"Called_Pcent\", \"Distr_DPI_Pcent\", \"Value_RVPI_Pcent\", \"Multiple\", \n",
    "\"Fund_Status_Closed\", \"Fund_Status_Liquidated\" ], axis=1, inplace=True)"
   ]
  },
  {
   "cell_type": "code",
   "execution_count": 33,
   "id": "35f6d7cc",
   "metadata": {
    "cell_id": "00014-6c9fad9d-017f-4fe9-9048-2aa3dd48a4dd",
    "deepnote_cell_type": "code",
    "deepnote_to_be_reexecuted": false,
    "execution_millis": 40,
    "execution_start": 1619550509897,
    "source_hash": "3a0c6f16",
    "tags": []
   },
   "outputs": [
    {
     "data": {
      "text/plain": [
       "Fund_Size                         661\n",
       "Fund_Number_Overall               661\n",
       "Fund_Number_Series                661\n",
       "GDP_yoy                           661\n",
       "TR_10yrs                          661\n",
       "yoy_MSCI                          661\n",
       "Firm_Age                          661\n",
       "Funds_Raised_Last_Year            661\n",
       "Pcent_Increase_Funds_Last_Year    661\n",
       "Fund_Type_Buyout                  661\n",
       "Fund_Type_Venture_Cap             661\n",
       "Local_Currency_USD                661\n",
       "Local_Currency_EUR                661\n",
       "Fund_Focus_US                     661\n",
       "Fund_Focus_Europe                 661\n",
       "Fund_Focus_Asia                   661\n",
       "Geographic_Scope_Diversified      661\n",
       "Industry_Diversified              661\n",
       "PME                               661\n",
       "VC_Specialized                    661\n",
       "dtype: int64"
      ]
     },
     "execution_count": 33,
     "metadata": {},
     "output_type": "execute_result"
    }
   ],
   "source": [
    "df[df.Fund_Type_Buyout != 1].count()"
   ]
  },
  {
   "cell_type": "markdown",
   "id": "41824ffe",
   "metadata": {
    "cell_id": "00016-ebefe2df-c499-4a2b-9a3e-72f0418289b8",
    "deepnote_cell_type": "markdown",
    "tags": []
   },
   "source": [
    "# Division of data set into two as per Buyout and venture capital"
   ]
  },
  {
   "cell_type": "code",
   "execution_count": 34,
   "id": "54dde0c9",
   "metadata": {
    "cell_id": "00017-fa98708a-2f80-4aae-b11a-54d3993a6de7",
    "deepnote_cell_type": "code",
    "deepnote_to_be_reexecuted": false,
    "execution_millis": 2,
    "execution_start": 1619550509911,
    "source_hash": "907cffc3",
    "tags": []
   },
   "outputs": [],
   "source": [
    "df = df[df.Fund_Type_Buyout == 0]"
   ]
  },
  {
   "cell_type": "markdown",
   "id": "1a21fea5",
   "metadata": {
    "cell_id": "00018-49895ae5-90eb-44ed-aff7-b036002c33b9",
    "deepnote_cell_type": "markdown",
    "tags": []
   },
   "source": [
    "# Target Variable"
   ]
  },
  {
   "cell_type": "code",
   "execution_count": 35,
   "id": "2b9354a2",
   "metadata": {
    "cell_id": "00019-e830c07b-7f38-403c-8b85-ae557ea84b80",
    "deepnote_cell_type": "code",
    "deepnote_to_be_reexecuted": false,
    "execution_millis": 26,
    "execution_start": 1619550509914,
    "source_hash": "429aeb59",
    "tags": []
   },
   "outputs": [
    {
     "data": {
      "text/plain": [
       "count    661.000000\n",
       "mean       1.156664\n",
       "std        1.302218\n",
       "min        0.000000\n",
       "25%        0.639918\n",
       "50%        0.948741\n",
       "75%        1.335887\n",
       "max       17.974445\n",
       "Name: PME, dtype: float64"
      ]
     },
     "execution_count": 35,
     "metadata": {},
     "output_type": "execute_result"
    }
   ],
   "source": [
    "df['PME'].describe()"
   ]
  },
  {
   "cell_type": "code",
   "execution_count": 36,
   "id": "742e1ab5",
   "metadata": {
    "cell_id": "00020-f3af38a2-676e-4ad6-851e-4d9a6649c370",
    "deepnote_cell_type": "code",
    "deepnote_to_be_reexecuted": false,
    "execution_millis": 175,
    "execution_start": 1619550509929,
    "source_hash": "ca6ea7b8",
    "tags": []
   },
   "outputs": [
    {
     "data": {
      "text/plain": [
       "<AxesSubplot:>"
      ]
     },
     "execution_count": 36,
     "metadata": {},
     "output_type": "execute_result"
    },
    {
     "data": {
      "image/png": "[encoded data removed]",
      "text/plain": [
       "<Figure size 432x288 with 1 Axes>"
      ]
     },
     "metadata": {
      "needs_background": "light"
     },
     "output_type": "display_data"
    }
   ],
   "source": [
    "df[\"PME\"].plot()"
   ]
  },
  {
   "cell_type": "code",
   "execution_count": 37,
   "id": "fbbce5ab",
   "metadata": {
    "cell_id": "00021-398006b9-f3af-481f-9cc1-039cb2ac7046",
    "deepnote_cell_type": "code",
    "deepnote_to_be_reexecuted": false,
    "execution_millis": 0,
    "execution_start": 1619550510150,
    "source_hash": "d4142568",
    "tags": []
   },
   "outputs": [],
   "source": [
    "df[\"PME\"]=   df[\"PME\"].apply(lambda x: float(int(1) if x >= 1 else int(0)))"
   ]
  },
  {
   "cell_type": "code",
   "execution_count": 38,
   "id": "f1ce7dff",
   "metadata": {
    "cell_id": "00022-d83db58f-eb61-450c-bce1-7aa6b48426e5",
    "deepnote_cell_type": "code",
    "deepnote_to_be_reexecuted": false,
    "execution_millis": 20,
    "execution_start": 1619550510151,
    "source_hash": "6cd8acfd"
   },
   "outputs": [
    {
     "data": {
      "text/html": [
       "<div>\n",
       "<style scoped>\n",
       "    .dataframe tbody tr th:only-of-type {\n",
       "        vertical-align: middle;\n",
       "    }\n",
       "\n",
       "    .dataframe tbody tr th {\n",
       "        vertical-align: top;\n",
       "    }\n",
       "\n",
       "    .dataframe thead th {\n",
       "        text-align: right;\n",
       "    }\n",
       "</style>\n",
       "<table border=\"1\" class=\"dataframe\">\n",
       "  <thead>\n",
       "    <tr style=\"text-align: right;\">\n",
       "      <th></th>\n",
       "      <th>Fund_Size</th>\n",
       "      <th>Fund_Number_Overall</th>\n",
       "      <th>Fund_Number_Series</th>\n",
       "      <th>GDP_yoy</th>\n",
       "      <th>TR_10yrs</th>\n",
       "      <th>yoy_MSCI</th>\n",
       "      <th>Firm_Age</th>\n",
       "      <th>Funds_Raised_Last_Year</th>\n",
       "      <th>Pcent_Increase_Funds_Last_Year</th>\n",
       "      <th>Fund_Type_Buyout</th>\n",
       "      <th>Fund_Type_Venture_Cap</th>\n",
       "      <th>Local_Currency_USD</th>\n",
       "      <th>Local_Currency_EUR</th>\n",
       "      <th>Fund_Focus_US</th>\n",
       "      <th>Fund_Focus_Europe</th>\n",
       "      <th>Fund_Focus_Asia</th>\n",
       "      <th>Geographic_Scope_Diversified</th>\n",
       "      <th>Industry_Diversified</th>\n",
       "      <th>PME</th>\n",
       "      <th>VC_Specialized</th>\n",
       "    </tr>\n",
       "  </thead>\n",
       "  <tbody>\n",
       "    <tr>\n",
       "      <th>0</th>\n",
       "      <td>250.0</td>\n",
       "      <td>1</td>\n",
       "      <td>1</td>\n",
       "      <td>6.25</td>\n",
       "      <td>7.085181</td>\n",
       "      <td>3.357416</td>\n",
       "      <td>5</td>\n",
       "      <td>176</td>\n",
       "      <td>0.454545</td>\n",
       "      <td>0</td>\n",
       "      <td>1</td>\n",
       "      <td>1</td>\n",
       "      <td>0</td>\n",
       "      <td>1</td>\n",
       "      <td>0</td>\n",
       "      <td>0</td>\n",
       "      <td>0</td>\n",
       "      <td>0</td>\n",
       "      <td>0.0</td>\n",
       "      <td>0</td>\n",
       "    </tr>\n",
       "    <tr>\n",
       "      <th>1</th>\n",
       "      <td>225.0</td>\n",
       "      <td>5</td>\n",
       "      <td>3</td>\n",
       "      <td>6.46</td>\n",
       "      <td>6.030279</td>\n",
       "      <td>-14.049835</td>\n",
       "      <td>28</td>\n",
       "      <td>827</td>\n",
       "      <td>0.554511</td>\n",
       "      <td>0</td>\n",
       "      <td>1</td>\n",
       "      <td>1</td>\n",
       "      <td>0</td>\n",
       "      <td>0</td>\n",
       "      <td>1</td>\n",
       "      <td>0</td>\n",
       "      <td>0</td>\n",
       "      <td>0</td>\n",
       "      <td>0.0</td>\n",
       "      <td>0</td>\n",
       "    </tr>\n",
       "  </tbody>\n",
       "</table>\n",
       "</div>"
      ],
      "text/plain": [
       "   Fund_Size  Fund_Number_Overall  Fund_Number_Series  GDP_yoy  TR_10yrs  \\\n",
       "0      250.0                    1                   1     6.25  7.085181   \n",
       "1      225.0                    5                   3     6.46  6.030279   \n",
       "\n",
       "    yoy_MSCI  Firm_Age  Funds_Raised_Last_Year  \\\n",
       "0   3.357416         5                     176   \n",
       "1 -14.049835        28                     827   \n",
       "\n",
       "   Pcent_Increase_Funds_Last_Year  Fund_Type_Buyout  Fund_Type_Venture_Cap  \\\n",
       "0                        0.454545                 0                      1   \n",
       "1                        0.554511                 0                      1   \n",
       "\n",
       "   Local_Currency_USD  Local_Currency_EUR  Fund_Focus_US  Fund_Focus_Europe  \\\n",
       "0                   1                   0              1                  0   \n",
       "1                   1                   0              0                  1   \n",
       "\n",
       "   Fund_Focus_Asia  Geographic_Scope_Diversified  Industry_Diversified  PME  \\\n",
       "0                0                             0                     0  0.0   \n",
       "1                0                             0                     0  0.0   \n",
       "\n",
       "   VC_Specialized  \n",
       "0               0  \n",
       "1               0  "
      ]
     },
     "execution_count": 38,
     "metadata": {},
     "output_type": "execute_result"
    }
   ],
   "source": [
    "df.head(2)"
   ]
  },
  {
   "cell_type": "code",
   "execution_count": 39,
   "id": "31b67a19",
   "metadata": {
    "cell_id": "00025-2546c420-8f21-4f7f-b4b6-37790026958a",
    "deepnote_cell_type": "code",
    "deepnote_to_be_reexecuted": false,
    "execution_millis": 2,
    "execution_start": 1619550510163,
    "source_hash": "14dcc914",
    "tags": []
   },
   "outputs": [],
   "source": [
    "# Numerical columns\n",
    "num_cols = [\"Fund_Size\", \"GDP_yoy\", \"TR_10yrs\", \"yoy_MSCI\", \"Firm_Age\", \n",
    "\"Funds_Raised_Last_Year\", \"Pcent_Increase_Funds_Last_Year\"]"
   ]
  },
  {
   "cell_type": "code",
   "execution_count": 40,
   "id": "5aa61a79",
   "metadata": {
    "cell_id": "00026-575e9631-e13b-403b-b619-ddad90f0e297",
    "deepnote_cell_type": "code",
    "deepnote_to_be_reexecuted": false,
    "execution_millis": 7,
    "execution_start": 1619550510168,
    "source_hash": "90a6147e"
   },
   "outputs": [],
   "source": [
    "from sklearn.preprocessing import StandardScaler\n",
    "scaler = StandardScaler()\n",
    "df[num_cols] = scaler.fit_transform(df[num_cols])"
   ]
  },
  {
   "cell_type": "code",
   "execution_count": 41,
   "id": "ad6b99d7",
   "metadata": {
    "cell_id": "00027-776b0f23-cc09-49c9-a7b7-f323bec87755",
    "deepnote_cell_type": "code",
    "deepnote_to_be_reexecuted": false,
    "execution_millis": 60,
    "execution_start": 1619550510222,
    "source_hash": "6cd8acfd"
   },
   "outputs": [
    {
     "data": {
      "text/html": [
       "<div>\n",
       "<style scoped>\n",
       "    .dataframe tbody tr th:only-of-type {\n",
       "        vertical-align: middle;\n",
       "    }\n",
       "\n",
       "    .dataframe tbody tr th {\n",
       "        vertical-align: top;\n",
       "    }\n",
       "\n",
       "    .dataframe thead th {\n",
       "        text-align: right;\n",
       "    }\n",
       "</style>\n",
       "<table border=\"1\" class=\"dataframe\">\n",
       "  <thead>\n",
       "    <tr style=\"text-align: right;\">\n",
       "      <th></th>\n",
       "      <th>Fund_Size</th>\n",
       "      <th>Fund_Number_Overall</th>\n",
       "      <th>Fund_Number_Series</th>\n",
       "      <th>GDP_yoy</th>\n",
       "      <th>TR_10yrs</th>\n",
       "      <th>yoy_MSCI</th>\n",
       "      <th>Firm_Age</th>\n",
       "      <th>Funds_Raised_Last_Year</th>\n",
       "      <th>Pcent_Increase_Funds_Last_Year</th>\n",
       "      <th>Fund_Type_Buyout</th>\n",
       "      <th>Fund_Type_Venture_Cap</th>\n",
       "      <th>Local_Currency_USD</th>\n",
       "      <th>Local_Currency_EUR</th>\n",
       "      <th>Fund_Focus_US</th>\n",
       "      <th>Fund_Focus_Europe</th>\n",
       "      <th>Fund_Focus_Asia</th>\n",
       "      <th>Geographic_Scope_Diversified</th>\n",
       "      <th>Industry_Diversified</th>\n",
       "      <th>PME</th>\n",
       "      <th>VC_Specialized</th>\n",
       "    </tr>\n",
       "  </thead>\n",
       "  <tbody>\n",
       "    <tr>\n",
       "      <th>0</th>\n",
       "      <td>-0.222539</td>\n",
       "      <td>1</td>\n",
       "      <td>1</td>\n",
       "      <td>0.656718</td>\n",
       "      <td>1.414006</td>\n",
       "      <td>-0.379895</td>\n",
       "      <td>-0.681453</td>\n",
       "      <td>-1.372205</td>\n",
       "      <td>1.072021</td>\n",
       "      <td>0</td>\n",
       "      <td>1</td>\n",
       "      <td>1</td>\n",
       "      <td>0</td>\n",
       "      <td>1</td>\n",
       "      <td>0</td>\n",
       "      <td>0</td>\n",
       "      <td>0</td>\n",
       "      <td>0</td>\n",
       "      <td>0.0</td>\n",
       "      <td>0</td>\n",
       "    </tr>\n",
       "    <tr>\n",
       "      <th>1</th>\n",
       "      <td>-0.294924</td>\n",
       "      <td>5</td>\n",
       "      <td>3</td>\n",
       "      <td>0.775701</td>\n",
       "      <td>0.759936</td>\n",
       "      <td>-1.437382</td>\n",
       "      <td>1.577624</td>\n",
       "      <td>0.081859</td>\n",
       "      <td>1.486475</td>\n",
       "      <td>0</td>\n",
       "      <td>1</td>\n",
       "      <td>1</td>\n",
       "      <td>0</td>\n",
       "      <td>0</td>\n",
       "      <td>1</td>\n",
       "      <td>0</td>\n",
       "      <td>0</td>\n",
       "      <td>0</td>\n",
       "      <td>0.0</td>\n",
       "      <td>0</td>\n",
       "    </tr>\n",
       "  </tbody>\n",
       "</table>\n",
       "</div>"
      ],
      "text/plain": [
       "   Fund_Size  Fund_Number_Overall  Fund_Number_Series   GDP_yoy  TR_10yrs  \\\n",
       "0  -0.222539                    1                   1  0.656718  1.414006   \n",
       "1  -0.294924                    5                   3  0.775701  0.759936   \n",
       "\n",
       "   yoy_MSCI  Firm_Age  Funds_Raised_Last_Year  Pcent_Increase_Funds_Last_Year  \\\n",
       "0 -0.379895 -0.681453               -1.372205                        1.072021   \n",
       "1 -1.437382  1.577624                0.081859                        1.486475   \n",
       "\n",
       "   Fund_Type_Buyout  Fund_Type_Venture_Cap  Local_Currency_USD  \\\n",
       "0                 0                      1                   1   \n",
       "1                 0                      1                   1   \n",
       "\n",
       "   Local_Currency_EUR  Fund_Focus_US  Fund_Focus_Europe  Fund_Focus_Asia  \\\n",
       "0                   0              1                  0                0   \n",
       "1                   0              0                  1                0   \n",
       "\n",
       "   Geographic_Scope_Diversified  Industry_Diversified  PME  VC_Specialized  \n",
       "0                             0                     0  0.0               0  \n",
       "1                             0                     0  0.0               0  "
      ]
     },
     "execution_count": 41,
     "metadata": {},
     "output_type": "execute_result"
    }
   ],
   "source": [
    "df.head(2)"
   ]
  },
  {
   "cell_type": "code",
   "execution_count": 42,
   "id": "bf3ff03c",
   "metadata": {},
   "outputs": [],
   "source": [
    "# Dropping columns \n",
    "df.drop([\"Fund_Type_Buyout\", \"Fund_Type_Venture_Cap\"], axis=1, inplace=True)"
   ]
  },
  {
   "cell_type": "code",
   "execution_count": 43,
   "id": "fcf0c99e",
   "metadata": {},
   "outputs": [],
   "source": [
    "df.to_csv(\"Data_VC.csv\", index = False)"
   ]
  },
  {
   "cell_type": "code",
   "execution_count": 44,
   "id": "5975eb21",
   "metadata": {
    "cell_id": "00029-1263adda-1293-497d-b24d-dd8c0c8f8618",
    "deepnote_cell_type": "code",
    "deepnote_to_be_reexecuted": false,
    "execution_millis": 0,
    "execution_start": 1619550510274,
    "source_hash": "3ecdcd62"
   },
   "outputs": [],
   "source": [
    "feature_cols = df.columns[df.columns != \"PME\"]\n",
    "X = df[feature_cols]\n",
    "Y = df[\"PME\"]\n",
    "# X_train, X_test, y_train, y_test = train_test_split(X,y, test_size=0.25, stratify=y)"
   ]
  },
  {
   "cell_type": "code",
   "execution_count": 45,
   "id": "34c2c3db",
   "metadata": {
    "cell_id": "00030-cdbb5dbd-6b87-43e3-8cd1-57d36f7725fa",
    "deepnote_cell_type": "code",
    "deepnote_to_be_reexecuted": false,
    "execution_millis": 0,
    "execution_start": 1619550510275,
    "source_hash": "6fb8c7c4"
   },
   "outputs": [],
   "source": [
    "from sklearn import model_selection\n",
    "from sklearn.linear_model import LogisticRegression\n",
    "from sklearn.tree import DecisionTreeClassifier\n",
    "from sklearn.neighbors import KNeighborsClassifier\n",
    "from sklearn.discriminant_analysis import LinearDiscriminantAnalysis\n",
    "from sklearn.discriminant_analysis import QuadraticDiscriminantAnalysis\n",
    "from sklearn.naive_bayes import GaussianNB\n",
    "from sklearn.svm import SVC"
   ]
  },
  {
   "cell_type": "code",
   "execution_count": 46,
   "id": "0caa7966",
   "metadata": {
    "cell_id": "00031-ce7abc8f-0df3-485b-8b89-4b33d22b23f8",
    "deepnote_cell_type": "code",
    "deepnote_to_be_reexecuted": false,
    "execution_millis": 0,
    "execution_start": 1619550510275,
    "source_hash": "5589bb03"
   },
   "outputs": [],
   "source": [
    "# prepare models\n",
    "models = []\n",
    "models.append(('LR', LogisticRegression()))\n",
    "models.append(('LDA', LinearDiscriminantAnalysis()))\n",
    "models.append(('KNN', KNeighborsClassifier()))\n",
    "models.append(('CART', DecisionTreeClassifier()))\n",
    "models.append(('NB', GaussianNB()))\n",
    "models.append(('SVM', SVC()))\n",
    "models.append(('QDA', QuadraticDiscriminantAnalysis()))"
   ]
  },
  {
   "cell_type": "markdown",
   "id": "7165c9fb",
   "metadata": {
    "cell_id": "00032-fe52dfc5-e8ca-4748-a7e0-e1f73a960e4e",
    "deepnote_cell_type": "markdown"
   },
   "source": [
    "# Compairing Accuracy"
   ]
  },
  {
   "cell_type": "code",
   "execution_count": 47,
   "id": "ad898ff8",
   "metadata": {
    "cell_id": "00033-676ee373-5c38-4325-b16b-146d23710156",
    "deepnote_cell_type": "code",
    "deepnote_to_be_reexecuted": false,
    "execution_millis": 3081,
    "execution_start": 1619550510279,
    "source_hash": "3c6b7cf9"
   },
   "outputs": [
    {
     "name": "stderr",
     "output_type": "stream",
     "text": [
      "C:\\Users\\rishi\\.conda\\envs\\jupLab\\lib\\site-packages\\sklearn\\linear_model\\_logistic.py:763: ConvergenceWarning: lbfgs failed to converge (status=1):\n",
      "STOP: TOTAL NO. of ITERATIONS REACHED LIMIT.\n",
      "\n",
      "Increase the number of iterations (max_iter) or scale the data as shown in:\n",
      "    https://scikit-learn.org/stable/modules/preprocessing.html\n",
      "Please also refer to the documentation for alternative solver options:\n",
      "    https://scikit-learn.org/stable/modules/linear_model.html#logistic-regression\n",
      "  n_iter_i = _check_optimize_result(\n"
     ]
    },
    {
     "name": "stdout",
     "output_type": "stream",
     "text": [
      "LR: 0.532451 (0.073525)\n",
      "LDA: 0.524921 (0.070064)\n",
      "KNN: 0.568815 (0.075313)\n",
      "CART: 0.555360 (0.054958)\n",
      "NB: 0.594482 (0.047364)\n",
      "SVM: 0.583967 (0.073017)\n",
      "QDA: 0.493171 (0.097632)\n"
     ]
    },
    {
     "data": {
      "image/png": "[encoded data removed]",
      "text/plain": [
       "<Figure size 432x288 with 1 Axes>"
      ]
     },
     "metadata": {
      "needs_background": "light"
     },
     "output_type": "display_data"
    }
   ],
   "source": [
    "seed = 42\n",
    "# evaluate each model in turn\n",
    "results = []\n",
    "names = []\n",
    "scoring = 'accuracy'\n",
    "for name, model in models:\n",
    "\tkfold = model_selection.KFold(n_splits=10)\n",
    "\tcv_results = model_selection.cross_val_score(model, X, Y, cv=kfold, scoring=scoring)\n",
    "\tresults.append(cv_results)\n",
    "\tnames.append(name)\n",
    "\tmsg = \"%s: %f (%f)\" % (name, cv_results.mean(), cv_results.std())\n",
    "\tprint(msg)\n",
    "# boxplot algorithm comparison\n",
    "fig = plt.figure()\n",
    "fig.suptitle('Algorithm Comparison')\n",
    "ax = fig.add_subplot(111)\n",
    "plt.boxplot(results)\n",
    "ax.set_xticklabels(names)\n",
    "plt.show()"
   ]
  },
  {
   "cell_type": "markdown",
   "id": "4481da1d",
   "metadata": {
    "cell_id": "00034-5b02af15-0813-46e2-a2d3-23b7d6ba1fc9",
    "deepnote_cell_type": "markdown"
   },
   "source": [
    "# compairing Precision"
   ]
  },
  {
   "cell_type": "code",
   "execution_count": 48,
   "id": "a06195db",
   "metadata": {
    "cell_id": "00035-c17f5fa0-9a90-4d59-9360-c564ceb0fa09",
    "deepnote_cell_type": "code",
    "deepnote_to_be_reexecuted": false,
    "execution_millis": 2958,
    "execution_start": 1619550513366,
    "source_hash": "ae27c531"
   },
   "outputs": [
    {
     "name": "stderr",
     "output_type": "stream",
     "text": [
      "C:\\Users\\rishi\\.conda\\envs\\jupLab\\lib\\site-packages\\sklearn\\linear_model\\_logistic.py:763: ConvergenceWarning: lbfgs failed to converge (status=1):\n",
      "STOP: TOTAL NO. of ITERATIONS REACHED LIMIT.\n",
      "\n",
      "Increase the number of iterations (max_iter) or scale the data as shown in:\n",
      "    https://scikit-learn.org/stable/modules/preprocessing.html\n",
      "Please also refer to the documentation for alternative solver options:\n",
      "    https://scikit-learn.org/stable/modules/linear_model.html#logistic-regression\n",
      "  n_iter_i = _check_optimize_result(\n"
     ]
    },
    {
     "name": "stdout",
     "output_type": "stream",
     "text": [
      "LR: 0.485555 (0.109587)\n",
      "LDA: 0.473831 (0.113294)\n",
      "KNN: 0.540709 (0.100503)\n",
      "CART: 0.504450 (0.102738)\n",
      "NB: 0.582698 (0.132154)\n",
      "SVM: 0.585398 (0.135452)\n",
      "QDA: 0.465518 (0.089511)\n"
     ]
    },
    {
     "data": {
      "image/png": "[encoded data removed]",
      "text/plain": [
       "<Figure size 432x288 with 1 Axes>"
      ]
     },
     "metadata": {
      "needs_background": "light"
     },
     "output_type": "display_data"
    }
   ],
   "source": [
    "seed = 42\n",
    "# evaluate each model in turn\n",
    "results = []\n",
    "names = []\n",
    "scoring = 'precision'\n",
    "for name, model in models:\n",
    "\tkfold = model_selection.KFold(n_splits=10)\n",
    "\tcv_results = model_selection.cross_val_score(model, X, Y, cv=kfold, scoring=scoring)\n",
    "\tresults.append(cv_results)\n",
    "\tnames.append(name)\n",
    "\tmsg = \"%s: %f (%f)\" % (name, cv_results.mean(), cv_results.std())\n",
    "\tprint(msg)\n",
    "# boxplot algorithm comparison\n",
    "fig = plt.figure()\n",
    "fig.suptitle('Algorithm Comparison')\n",
    "ax = fig.add_subplot(111)\n",
    "plt.boxplot(results)\n",
    "ax.set_xticklabels(names)\n",
    "plt.show()"
   ]
  },
  {
   "cell_type": "markdown",
   "id": "93f70339",
   "metadata": {
    "cell_id": "00036-bab531f6-825d-4903-b022-9d852ea3a03c",
    "deepnote_cell_type": "markdown"
   },
   "source": [
    "# Neural network"
   ]
  },
  {
   "cell_type": "code",
   "execution_count": 49,
   "id": "4036ff23",
   "metadata": {
    "cell_id": "00037-1809dc1c-11ac-4834-a08f-fa7e1f8ab47b",
    "deepnote_cell_type": "code",
    "deepnote_to_be_reexecuted": false,
    "execution_millis": 3,
    "execution_start": 1619550516328,
    "source_hash": "8dc37e86"
   },
   "outputs": [],
   "source": [
    "feature_cols = df.columns[df.columns != \"PME\"]\n",
    "X = df[feature_cols]\n",
    "y = df[\"PME\"]\n",
    "X_train, X_test, y_train, y_test = train_test_split(X,y, test_size=0.25, stratify=y)"
   ]
  },
  {
   "cell_type": "code",
   "execution_count": 50,
   "id": "467f6809",
   "metadata": {
    "cell_id": "00038-80bdeb93-0d76-475b-b5ac-e7dc03b34d3e",
    "deepnote_cell_type": "code",
    "deepnote_to_be_reexecuted": false,
    "execution_millis": 659,
    "execution_start": 1619550516335,
    "source_hash": "543e29f3"
   },
   "outputs": [
    {
     "name": "stderr",
     "output_type": "stream",
     "text": [
      "C:\\Users\\rishi\\.conda\\envs\\jupLab\\lib\\site-packages\\sklearn\\neural_network\\_multilayer_perceptron.py:614: ConvergenceWarning: Stochastic Optimizer: Maximum iterations (200) reached and the optimization hasn't converged yet.\n",
      "  warnings.warn(\n"
     ]
    }
   ],
   "source": [
    "from sklearn.neural_network import MLPClassifier\n",
    "mlp = MLPClassifier(hidden_layer_sizes=(30,30,30))\n",
    "mlp.fit(X_train, y_train)\n",
    "mlp_predictions = mlp.predict(X_test)\n"
   ]
  },
  {
   "cell_type": "code",
   "execution_count": 51,
   "id": "74bf922e",
   "metadata": {
    "cell_id": "00039-0d7efa30-813b-436d-bdce-45bb4913159a",
    "deepnote_cell_type": "code",
    "deepnote_to_be_reexecuted": false,
    "execution_millis": 27,
    "execution_start": 1619550516967,
    "source_hash": "aa07e3f1"
   },
   "outputs": [
    {
     "data": {
      "text/plain": [
       "array([[57, 32],\n",
       "       [38, 39]], dtype=int64)"
      ]
     },
     "execution_count": 51,
     "metadata": {},
     "output_type": "execute_result"
    }
   ],
   "source": [
    "confusion_matrix(y_test,mlp_predictions)"
   ]
  },
  {
   "cell_type": "code",
   "execution_count": 52,
   "id": "759f7df6",
   "metadata": {
    "cell_id": "00040-d2d24e05-2f67-465a-975c-4ba8564003c0",
    "deepnote_cell_type": "code",
    "deepnote_to_be_reexecuted": false,
    "execution_millis": 28,
    "execution_start": 1619550516974,
    "source_hash": "79580c4a"
   },
   "outputs": [
    {
     "name": "stdout",
     "output_type": "stream",
     "text": [
      "              precision    recall  f1-score   support\n",
      "\n",
      "         0.0       0.60      0.64      0.62        89\n",
      "         1.0       0.55      0.51      0.53        77\n",
      "\n",
      "    accuracy                           0.58       166\n",
      "   macro avg       0.57      0.57      0.57       166\n",
      "weighted avg       0.58      0.58      0.58       166\n",
      "\n"
     ]
    }
   ],
   "source": [
    "print(classification_report(y_test, mlp_predictions))"
   ]
  }
 ],
 "metadata": {
  "deepnote": {},
  "deepnote_execution_queue": [],
  "deepnote_notebook_id": "3c8d118a-fffc-4d29-b849-89a8ae56bab6",
  "kernelspec": {
   "display_name": "Python 3",
   "language": "python",
   "name": "python3"
  },
  "language_info": {
   "codemirror_mode": {
    "name": "ipython",
    "version": 3
   },
   "file_extension": ".py",
   "mimetype": "text/x-python",
   "name": "python",
   "nbconvert_exporter": "python",
   "pygments_lexer": "ipython3",
   "version": "3.9.2"
  }
 },
 "nbformat": 4,
 "nbformat_minor": 5
}
