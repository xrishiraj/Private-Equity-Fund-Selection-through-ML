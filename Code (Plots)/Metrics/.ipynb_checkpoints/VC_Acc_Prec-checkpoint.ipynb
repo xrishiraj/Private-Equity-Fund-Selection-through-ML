{
 "cells": [
  {
   "cell_type": "code",
   "execution_count": 13,
   "id": "14b74886",
   "metadata": {
    "cell_id": "00000-ec3ddc1a-284b-46d6-814f-d32df0ecad31",
    "deepnote_cell_type": "code",
    "deepnote_to_be_reexecuted": false,
    "execution_millis": 2204,
    "execution_start": 1619550136643,
    "source_hash": "940d52f2"
   },
   "outputs": [],
   "source": [
    "import numpy as np\n",
    "import pandas as pd \n",
    "import statsmodels.api as sm\n",
    "import seaborn as sns\n",
    "import matplotlib.pyplot as plt\n",
    "from sklearn.preprocessing import scale, StandardScaler\n",
    "from sklearn.model_selection import train_test_split, GridSearchCV, cross_val_score\n",
    "from sklearn.metrics import confusion_matrix, accuracy_score, mean_squared_error, r2_score, roc_auc_score, roc_curve, classification_report\n",
    "%matplotlib inline\n",
    "from sklearn.datasets import make_classification\n",
    "from sklearn.metrics import roc_curve, auc\n",
    "from sklearn.metrics import roc_auc_score\n",
    "from sklearn import model_selection\n",
    "from sklearn.discriminant_analysis import LinearDiscriminantAnalysis\n",
    "from sklearn.discriminant_analysis import QuadraticDiscriminantAnalysis\n",
    "from sklearn.naive_bayes import GaussianNB\n",
    "from sklearn.linear_model import LogisticRegression\n",
    "from sklearn.neighbors import KNeighborsClassifier\n",
    "from sklearn.svm import SVC\n",
    "from sklearn.neural_network import MLPClassifier\n",
    "from sklearn.tree import DecisionTreeClassifier\n",
    "from sklearn.ensemble import RandomForestClassifier\n",
    "from sklearn.ensemble import GradientBoostingClassifier\n"
   ]
  },
  {
   "cell_type": "code",
   "execution_count": 14,
   "id": "4a604f6e",
   "metadata": {},
   "outputs": [
    {
     "data": {
      "text/html": [
       "<div>\n",
       "<style scoped>\n",
       "    .dataframe tbody tr th:only-of-type {\n",
       "        vertical-align: middle;\n",
       "    }\n",
       "\n",
       "    .dataframe tbody tr th {\n",
       "        vertical-align: top;\n",
       "    }\n",
       "\n",
       "    .dataframe thead th {\n",
       "        text-align: right;\n",
       "    }\n",
       "</style>\n",
       "<table border=\"1\" class=\"dataframe\">\n",
       "  <thead>\n",
       "    <tr style=\"text-align: right;\">\n",
       "      <th></th>\n",
       "      <th>Final_Size_USD</th>\n",
       "      <th>Fund_Number_Overall</th>\n",
       "      <th>Fund_Number_Series</th>\n",
       "      <th>GDP_yoy</th>\n",
       "      <th>TR_10yrs</th>\n",
       "      <th>yoy_MSCI</th>\n",
       "      <th>Firm_Age</th>\n",
       "      <th>Funds_Raised_Last_Year</th>\n",
       "      <th>Pcent_Increase_Funds_Last_Year</th>\n",
       "      <th>Local_Currency_USD</th>\n",
       "      <th>Local_Currency_EUR</th>\n",
       "      <th>Fund_Focus_US</th>\n",
       "      <th>Fund_Focus_Europe</th>\n",
       "      <th>Fund_Focus_Asia</th>\n",
       "      <th>Geographic_Scope_Diversified</th>\n",
       "      <th>Industry_Diversified</th>\n",
       "      <th>PME</th>\n",
       "      <th>VC_Specialized</th>\n",
       "    </tr>\n",
       "  </thead>\n",
       "  <tbody>\n",
       "    <tr>\n",
       "      <th>0</th>\n",
       "      <td>-0.223341</td>\n",
       "      <td>1</td>\n",
       "      <td>1</td>\n",
       "      <td>0.655172</td>\n",
       "      <td>1.413158</td>\n",
       "      <td>-0.382939</td>\n",
       "      <td>-0.681793</td>\n",
       "      <td>-1.371857</td>\n",
       "      <td>1.071139</td>\n",
       "      <td>1</td>\n",
       "      <td>0</td>\n",
       "      <td>1</td>\n",
       "      <td>0</td>\n",
       "      <td>0</td>\n",
       "      <td>0</td>\n",
       "      <td>0</td>\n",
       "      <td>0.0</td>\n",
       "      <td>0</td>\n",
       "    </tr>\n",
       "    <tr>\n",
       "      <th>1</th>\n",
       "      <td>-0.295691</td>\n",
       "      <td>5</td>\n",
       "      <td>3</td>\n",
       "      <td>0.774167</td>\n",
       "      <td>0.759574</td>\n",
       "      <td>-1.441856</td>\n",
       "      <td>1.575977</td>\n",
       "      <td>0.081253</td>\n",
       "      <td>1.486316</td>\n",
       "      <td>1</td>\n",
       "      <td>0</td>\n",
       "      <td>0</td>\n",
       "      <td>1</td>\n",
       "      <td>0</td>\n",
       "      <td>0</td>\n",
       "      <td>0</td>\n",
       "      <td>0.0</td>\n",
       "      <td>0</td>\n",
       "    </tr>\n",
       "  </tbody>\n",
       "</table>\n",
       "</div>"
      ],
      "text/plain": [
       "   Final_Size_USD  Fund_Number_Overall  Fund_Number_Series   GDP_yoy  \\\n",
       "0       -0.223341                    1                   1  0.655172   \n",
       "1       -0.295691                    5                   3  0.774167   \n",
       "\n",
       "   TR_10yrs  yoy_MSCI  Firm_Age  Funds_Raised_Last_Year  \\\n",
       "0  1.413158 -0.382939 -0.681793               -1.371857   \n",
       "1  0.759574 -1.441856  1.575977                0.081253   \n",
       "\n",
       "   Pcent_Increase_Funds_Last_Year  Local_Currency_USD  Local_Currency_EUR  \\\n",
       "0                        1.071139                   1                   0   \n",
       "1                        1.486316                   1                   0   \n",
       "\n",
       "   Fund_Focus_US  Fund_Focus_Europe  Fund_Focus_Asia  \\\n",
       "0              1                  0                0   \n",
       "1              0                  1                0   \n",
       "\n",
       "   Geographic_Scope_Diversified  Industry_Diversified  PME  VC_Specialized  \n",
       "0                             0                     0  0.0               0  \n",
       "1                             0                     0  0.0               0  "
      ]
     },
     "execution_count": 14,
     "metadata": {},
     "output_type": "execute_result"
    }
   ],
   "source": [
    "df = pd.read_csv(\"Data_VC.csv\")\n",
    "df.head(2)"
   ]
  },
  {
   "cell_type": "code",
   "execution_count": 15,
   "id": "410ed880",
   "metadata": {
    "cell_id": "00017-4d51e7f7-ca05-4dc1-b2b2-f537ac42d676",
    "deepnote_cell_type": "code",
    "deepnote_to_be_reexecuted": false,
    "execution_millis": 3,
    "execution_start": 1619550139932,
    "source_hash": "3ecdcd62"
   },
   "outputs": [],
   "source": [
    "feature_cols = df.columns[df.columns != \"PME\"]\n",
    "X = df[feature_cols]\n",
    "y = df[\"PME\"]\n",
    "# X_train, X_test, y_train, y_test = train_test_split(X,y, test_size=0.25, stratify=y)"
   ]
  },
  {
   "cell_type": "code",
   "execution_count": 16,
   "id": "d35c78c3",
   "metadata": {
    "cell_id": "00018-a2258b82-c043-4241-b6dd-b7a575cc85b5",
    "deepnote_cell_type": "code",
    "deepnote_to_be_reexecuted": false,
    "execution_millis": 17,
    "execution_start": 1619550139938,
    "source_hash": "6fb8c7c4"
   },
   "outputs": [],
   "source": [
    "from sklearn import model_selection\n",
    "from sklearn.linear_model import LogisticRegression\n",
    "from sklearn.tree import DecisionTreeClassifier\n",
    "from sklearn.neighbors import KNeighborsClassifier\n",
    "from sklearn.discriminant_analysis import LinearDiscriminantAnalysis\n",
    "from sklearn.discriminant_analysis import QuadraticDiscriminantAnalysis\n",
    "from sklearn.naive_bayes import GaussianNB\n",
    "from sklearn.svm import SVC"
   ]
  },
  {
   "cell_type": "code",
   "execution_count": 17,
   "id": "086b3c07",
   "metadata": {
    "cell_id": "00019-61b9a157-4f78-48d4-94a9-1256f381fada",
    "deepnote_cell_type": "code",
    "deepnote_to_be_reexecuted": false,
    "execution_millis": 2,
    "execution_start": 1619550139958,
    "source_hash": "5589bb03"
   },
   "outputs": [],
   "source": [
    "# prepare models\n",
    "models = []\n",
    "models.append(('LR', LogisticRegression(random_state=0)))\n",
    "models.append(('LDA', LinearDiscriminantAnalysis()))\n",
    "#models.append(('CART', DecisionTreeClassifier()))\n",
    "#models.append(('NB', GaussianNB()))\n",
    "models.append(('QDA', QuadraticDiscriminantAnalysis()))\n",
    "models.append(('SVC', SVC(kernel='linear', probability=True, random_state=0)))\n",
    "models.append(('KNN', KNeighborsClassifier()))\n",
    "models.append(('MLP', MLPClassifier(hidden_layer_sizes=(30,30,30))))"
   ]
  },
  {
   "cell_type": "markdown",
   "id": "c64136c8",
   "metadata": {
    "cell_id": "00020-d1cfb673-e8f7-4e7d-ba92-9f2e9a963ab4",
    "deepnote_cell_type": "markdown"
   },
   "source": [
    "# Compairing Accuracy"
   ]
  },
  {
   "cell_type": "code",
   "execution_count": 18,
   "id": "464b5ec6",
   "metadata": {
    "cell_id": "00021-090ae49f-2e82-45fd-b8b0-55ca22ecf354",
    "deepnote_cell_type": "code",
    "deepnote_to_be_reexecuted": false,
    "execution_millis": 3774,
    "execution_start": 1619550139964,
    "source_hash": "3c6b7cf9"
   },
   "outputs": [
    {
     "name": "stderr",
     "output_type": "stream",
     "text": [
      "C:\\Users\\rishi\\.conda\\envs\\jupLab\\lib\\site-packages\\sklearn\\linear_model\\_logistic.py:763: ConvergenceWarning: lbfgs failed to converge (status=1):\n",
      "STOP: TOTAL NO. of ITERATIONS REACHED LIMIT.\n",
      "\n",
      "Increase the number of iterations (max_iter) or scale the data as shown in:\n",
      "    https://scikit-learn.org/stable/modules/preprocessing.html\n",
      "Please also refer to the documentation for alternative solver options:\n",
      "    https://scikit-learn.org/stable/modules/linear_model.html#logistic-regression\n",
      "  n_iter_i = _check_optimize_result(\n"
     ]
    },
    {
     "name": "stdout",
     "output_type": "stream",
     "text": [
      "LR: 0.553030 (0.029883)\n",
      "LDA: 0.545455 (0.035983)\n",
      "QDA: 0.484848 (0.031782)\n",
      "SVC: 0.554545 (0.040316)\n",
      "KNN: 0.584848 (0.037727)\n"
     ]
    },
    {
     "name": "stderr",
     "output_type": "stream",
     "text": [
      "C:\\Users\\rishi\\.conda\\envs\\jupLab\\lib\\site-packages\\sklearn\\neural_network\\_multilayer_perceptron.py:614: ConvergenceWarning: Stochastic Optimizer: Maximum iterations (200) reached and the optimization hasn't converged yet.\n",
      "  warnings.warn(\n",
      "C:\\Users\\rishi\\.conda\\envs\\jupLab\\lib\\site-packages\\sklearn\\neural_network\\_multilayer_perceptron.py:614: ConvergenceWarning: Stochastic Optimizer: Maximum iterations (200) reached and the optimization hasn't converged yet.\n",
      "  warnings.warn(\n",
      "C:\\Users\\rishi\\.conda\\envs\\jupLab\\lib\\site-packages\\sklearn\\neural_network\\_multilayer_perceptron.py:614: ConvergenceWarning: Stochastic Optimizer: Maximum iterations (200) reached and the optimization hasn't converged yet.\n",
      "  warnings.warn(\n",
      "C:\\Users\\rishi\\.conda\\envs\\jupLab\\lib\\site-packages\\sklearn\\neural_network\\_multilayer_perceptron.py:614: ConvergenceWarning: Stochastic Optimizer: Maximum iterations (200) reached and the optimization hasn't converged yet.\n",
      "  warnings.warn(\n",
      "C:\\Users\\rishi\\.conda\\envs\\jupLab\\lib\\site-packages\\sklearn\\neural_network\\_multilayer_perceptron.py:614: ConvergenceWarning: Stochastic Optimizer: Maximum iterations (200) reached and the optimization hasn't converged yet.\n",
      "  warnings.warn(\n"
     ]
    },
    {
     "name": "stdout",
     "output_type": "stream",
     "text": [
      "MLP: 0.587879 (0.024431)\n"
     ]
    },
    {
     "name": "stderr",
     "output_type": "stream",
     "text": [
      "C:\\Users\\rishi\\.conda\\envs\\jupLab\\lib\\site-packages\\sklearn\\neural_network\\_multilayer_perceptron.py:614: ConvergenceWarning: Stochastic Optimizer: Maximum iterations (200) reached and the optimization hasn't converged yet.\n",
      "  warnings.warn(\n"
     ]
    },
    {
     "data": {
      "image/png": "[encoded data removed]",
      "text/plain": [
       "<Figure size 432x288 with 1 Axes>"
      ]
     },
     "metadata": {
      "needs_background": "light"
     },
     "output_type": "display_data"
    }
   ],
   "source": [
    "seed = 42\n",
    "# evaluate each model in turn\n",
    "results = []\n",
    "names = []\n",
    "scoring = 'accuracy'\n",
    "for name, model in models:\n",
    "\tkfold = model_selection.KFold(n_splits=6, shuffle= True, random_state=0)\n",
    "\tcv_results = model_selection.cross_val_score(model, X, y, cv=kfold, scoring=scoring)\n",
    "\tresults.append(cv_results)\n",
    "\tnames.append(name)\n",
    "\tmsg = \"%s: %f (%f)\" % (name, cv_results.mean(), cv_results.std())\n",
    "\tprint(msg)\n",
    "# boxplot algorithm comparison\n",
    "fig = plt.figure()\n",
    "fig.suptitle('Algorithm Accuracy Comparison')\n",
    "ax = fig.add_subplot(111)\n",
    "plt.boxplot(results)\n",
    "ax.set_xticklabels(names)\n",
    "plt.xlabel('Models')\n",
    "plt.ylabel('Accuracy in decimal')\n",
    "plt.savefig(\"Accuracy_comp_VC\")\n",
    "plt.show()"
   ]
  },
  {
   "cell_type": "markdown",
   "id": "754c554c",
   "metadata": {
    "cell_id": "00022-574c2dfb-57ba-427c-b00c-f794f8de025d",
    "deepnote_cell_type": "markdown"
   },
   "source": [
    "# compairing Precision"
   ]
  },
  {
   "cell_type": "code",
   "execution_count": 19,
   "id": "d0dde467",
   "metadata": {
    "cell_id": "00023-72f0b558-97b7-4a80-a9e7-4f1ee1977f4e",
    "deepnote_cell_type": "code",
    "deepnote_to_be_reexecuted": false,
    "execution_millis": 3951,
    "execution_start": 1619550143743,
    "source_hash": "ae27c531"
   },
   "outputs": [
    {
     "name": "stderr",
     "output_type": "stream",
     "text": [
      "C:\\Users\\rishi\\.conda\\envs\\jupLab\\lib\\site-packages\\sklearn\\linear_model\\_logistic.py:763: ConvergenceWarning: lbfgs failed to converge (status=1):\n",
      "STOP: TOTAL NO. of ITERATIONS REACHED LIMIT.\n",
      "\n",
      "Increase the number of iterations (max_iter) or scale the data as shown in:\n",
      "    https://scikit-learn.org/stable/modules/preprocessing.html\n",
      "Please also refer to the documentation for alternative solver options:\n",
      "    https://scikit-learn.org/stable/modules/linear_model.html#logistic-regression\n",
      "  n_iter_i = _check_optimize_result(\n"
     ]
    },
    {
     "name": "stdout",
     "output_type": "stream",
     "text": [
      "LR: 0.524462 (0.024194)\n",
      "LDA: 0.511507 (0.032059)\n",
      "QDA: 0.466740 (0.030297)\n",
      "SVC: 0.537048 (0.059618)\n",
      "KNN: 0.559050 (0.067897)\n"
     ]
    },
    {
     "name": "stderr",
     "output_type": "stream",
     "text": [
      "C:\\Users\\rishi\\.conda\\envs\\jupLab\\lib\\site-packages\\sklearn\\neural_network\\_multilayer_perceptron.py:614: ConvergenceWarning: Stochastic Optimizer: Maximum iterations (200) reached and the optimization hasn't converged yet.\n",
      "  warnings.warn(\n",
      "C:\\Users\\rishi\\.conda\\envs\\jupLab\\lib\\site-packages\\sklearn\\neural_network\\_multilayer_perceptron.py:614: ConvergenceWarning: Stochastic Optimizer: Maximum iterations (200) reached and the optimization hasn't converged yet.\n",
      "  warnings.warn(\n",
      "C:\\Users\\rishi\\.conda\\envs\\jupLab\\lib\\site-packages\\sklearn\\neural_network\\_multilayer_perceptron.py:614: ConvergenceWarning: Stochastic Optimizer: Maximum iterations (200) reached and the optimization hasn't converged yet.\n",
      "  warnings.warn(\n",
      "C:\\Users\\rishi\\.conda\\envs\\jupLab\\lib\\site-packages\\sklearn\\neural_network\\_multilayer_perceptron.py:614: ConvergenceWarning: Stochastic Optimizer: Maximum iterations (200) reached and the optimization hasn't converged yet.\n",
      "  warnings.warn(\n",
      "C:\\Users\\rishi\\.conda\\envs\\jupLab\\lib\\site-packages\\sklearn\\neural_network\\_multilayer_perceptron.py:614: ConvergenceWarning: Stochastic Optimizer: Maximum iterations (200) reached and the optimization hasn't converged yet.\n",
      "  warnings.warn(\n"
     ]
    },
    {
     "name": "stdout",
     "output_type": "stream",
     "text": [
      "MLP: 0.550190 (0.052504)\n"
     ]
    },
    {
     "name": "stderr",
     "output_type": "stream",
     "text": [
      "C:\\Users\\rishi\\.conda\\envs\\jupLab\\lib\\site-packages\\sklearn\\neural_network\\_multilayer_perceptron.py:614: ConvergenceWarning: Stochastic Optimizer: Maximum iterations (200) reached and the optimization hasn't converged yet.\n",
      "  warnings.warn(\n"
     ]
    },
    {
     "data": {
      "image/png": "[encoded data removed]",
      "text/plain": [
       "<Figure size 432x288 with 1 Axes>"
      ]
     },
     "metadata": {
      "needs_background": "light"
     },
     "output_type": "display_data"
    }
   ],
   "source": [
    "seed = 42\n",
    "# evaluate each model in turn\n",
    "results = []\n",
    "names = []\n",
    "scoring = 'precision'\n",
    "for name, model in models:\n",
    "\tkfold = model_selection.KFold(n_splits=6,shuffle=True, random_state=0)\n",
    "\tcv_results = model_selection.cross_val_score(model, X, y, cv=kfold, scoring=scoring)\n",
    "\tresults.append(cv_results)\n",
    "\tnames.append(name)\n",
    "\tmsg = \"%s: %f (%f)\" % (name, cv_results.mean(), cv_results.std())\n",
    "\tprint(msg)\n",
    "# boxplot algorithm comparison\n",
    "fig = plt.figure()\n",
    "fig.suptitle('Algorithm Precision Comparison')\n",
    "ax = fig.add_subplot(111)\n",
    "plt.boxplot(results)\n",
    "ax.set_xticklabels(names)\n",
    "plt.xlabel('Models')\n",
    "plt.ylabel('Precision in decimal')\n",
    "plt.savefig(\"Precision_comp_VC\")\n",
    "plt.show()"
   ]
  },
  {
   "cell_type": "markdown",
   "id": "db6492c0",
   "metadata": {
    "cell_id": "00024-facdf8d6-a3ed-4051-b38a-c21bd40d646d",
    "deepnote_cell_type": "markdown"
   },
   "source": [
    "# Neural network"
   ]
  },
  {
   "cell_type": "code",
   "execution_count": 20,
   "id": "10e17155",
   "metadata": {
    "cell_id": "00025-b3fab518-cb4b-4080-8f72-2da7cc2a9c21",
    "deepnote_cell_type": "code",
    "deepnote_to_be_reexecuted": false,
    "execution_millis": 5,
    "execution_start": 1619550147696,
    "source_hash": "8dc37e86"
   },
   "outputs": [],
   "source": [
    "feature_cols = df.columns[df.columns != \"PME\"]\n",
    "X = df[feature_cols]\n",
    "y = df[\"PME\"]\n",
    "X_train, X_test, y_train, y_test = train_test_split(X,y, test_size=0.25, stratify=y)"
   ]
  },
  {
   "cell_type": "code",
   "execution_count": 21,
   "id": "c43447bb",
   "metadata": {
    "cell_id": "00026-e6da96e8-902e-44c3-997e-8dbc045ce1d9",
    "deepnote_cell_type": "code",
    "deepnote_to_be_reexecuted": false,
    "execution_millis": 837,
    "execution_start": 1619550147705,
    "source_hash": "543e29f3"
   },
   "outputs": [
    {
     "name": "stderr",
     "output_type": "stream",
     "text": [
      "C:\\Users\\rishi\\.conda\\envs\\jupLab\\lib\\site-packages\\sklearn\\neural_network\\_multilayer_perceptron.py:614: ConvergenceWarning: Stochastic Optimizer: Maximum iterations (200) reached and the optimization hasn't converged yet.\n",
      "  warnings.warn(\n"
     ]
    }
   ],
   "source": [
    "from sklearn.neural_network import MLPClassifier\n",
    "mlp = MLPClassifier(hidden_layer_sizes=(30,30,30))\n",
    "mlp.fit(X_train, y_train)\n",
    "mlp_predictions = mlp.predict(X_test)\n"
   ]
  },
  {
   "cell_type": "code",
   "execution_count": 22,
   "id": "b12fee67",
   "metadata": {
    "cell_id": "00027-02301327-c636-4a73-8395-de7f84a25c7e",
    "deepnote_cell_type": "code",
    "deepnote_to_be_reexecuted": false,
    "execution_millis": 24,
    "execution_start": 1619550148518,
    "source_hash": "aa07e3f1"
   },
   "outputs": [
    {
     "data": {
      "text/plain": [
       "array([[56, 33],\n",
       "       [38, 38]], dtype=int64)"
      ]
     },
     "execution_count": 22,
     "metadata": {},
     "output_type": "execute_result"
    }
   ],
   "source": [
    "confusion_matrix(y_test,mlp_predictions)"
   ]
  },
  {
   "cell_type": "code",
   "execution_count": 23,
   "id": "f6056140",
   "metadata": {},
   "outputs": [
    {
     "data": {
      "text/plain": [
       "0.5696969696969697"
      ]
     },
     "execution_count": 23,
     "metadata": {},
     "output_type": "execute_result"
    }
   ],
   "source": [
    "mlp.score(X_test, y_test)"
   ]
  },
  {
   "cell_type": "code",
   "execution_count": 24,
   "id": "f5e7091a",
   "metadata": {
    "cell_id": "00028-77242303-96ac-487e-a500-0192c6199bc3",
    "deepnote_cell_type": "code",
    "deepnote_to_be_reexecuted": false,
    "execution_millis": 23,
    "execution_start": 1619550148523,
    "source_hash": "79580c4a"
   },
   "outputs": [
    {
     "name": "stdout",
     "output_type": "stream",
     "text": [
      "              precision    recall  f1-score   support\n",
      "\n",
      "         0.0       0.60      0.63      0.61        89\n",
      "         1.0       0.54      0.50      0.52        76\n",
      "\n",
      "    accuracy                           0.57       165\n",
      "   macro avg       0.57      0.56      0.56       165\n",
      "weighted avg       0.57      0.57      0.57       165\n",
      "\n"
     ]
    }
   ],
   "source": [
    "print(classification_report(y_test, mlp_predictions))"
   ]
  }
 ],
 "metadata": {
  "deepnote": {},
  "deepnote_execution_queue": [],
  "deepnote_notebook_id": "07e8e139-9029-466a-94f2-a9d13a9707d5",
  "kernelspec": {
   "display_name": "Python 3",
   "language": "python",
   "name": "python3"
  },
  "language_info": {
   "codemirror_mode": {
    "name": "ipython",
    "version": 3
   },
   "file_extension": ".py",
   "mimetype": "text/x-python",
   "name": "python",
   "nbconvert_exporter": "python",
   "pygments_lexer": "ipython3",
   "version": "3.9.2"
  }
 },
 "nbformat": 4,
 "nbformat_minor": 5
}
