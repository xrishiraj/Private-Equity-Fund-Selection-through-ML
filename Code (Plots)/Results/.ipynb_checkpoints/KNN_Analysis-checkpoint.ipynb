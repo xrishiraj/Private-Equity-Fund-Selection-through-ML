{
 "cells": [
  {
   "cell_type": "code",
   "execution_count": 1,
   "id": "a03f1c35",
   "metadata": {
    "cell_id": "00000-ec3ddc1a-284b-46d6-814f-d32df0ecad31",
    "deepnote_cell_type": "code",
    "deepnote_to_be_reexecuted": false,
    "execution_millis": 2204,
    "execution_start": 1619550136643,
    "source_hash": "940d52f2"
   },
   "outputs": [],
   "source": [
    "import numpy as np\n",
    "import pandas as pd \n",
    "import statsmodels.api as sm\n",
    "import seaborn as sns\n",
    "import matplotlib.pyplot as plt\n",
    "from sklearn.preprocessing import scale, StandardScaler\n",
    "from sklearn.model_selection import train_test_split, GridSearchCV, cross_val_score\n",
    "from sklearn.metrics import confusion_matrix, accuracy_score, mean_squared_error, r2_score, roc_auc_score, roc_curve, classification_report\n",
    "%matplotlib inline\n",
    "from sklearn.datasets import make_classification\n",
    "from sklearn.metrics import roc_curve, auc\n",
    "from sklearn.metrics import roc_auc_score\n",
    "from sklearn import model_selection\n",
    "from sklearn.discriminant_analysis import LinearDiscriminantAnalysis\n",
    "from sklearn.discriminant_analysis import QuadraticDiscriminantAnalysis\n",
    "from sklearn.naive_bayes import GaussianNB\n",
    "from sklearn.linear_model import LogisticRegression\n",
    "from sklearn.neighbors import KNeighborsClassifier\n",
    "from sklearn.svm import SVC\n",
    "from sklearn.neural_network import MLPClassifier\n",
    "from sklearn.tree import DecisionTreeClassifier\n",
    "from sklearn.ensemble import RandomForestClassifier\n",
    "from sklearn.ensemble import GradientBoostingClassifier\n"
   ]
  },
  {
   "cell_type": "code",
   "execution_count": 2,
   "id": "61374635",
   "metadata": {},
   "outputs": [
    {
     "data": {
      "text/html": [
       "<div>\n",
       "<style scoped>\n",
       "    .dataframe tbody tr th:only-of-type {\n",
       "        vertical-align: middle;\n",
       "    }\n",
       "\n",
       "    .dataframe tbody tr th {\n",
       "        vertical-align: top;\n",
       "    }\n",
       "\n",
       "    .dataframe thead th {\n",
       "        text-align: right;\n",
       "    }\n",
       "</style>\n",
       "<table border=\"1\" class=\"dataframe\">\n",
       "  <thead>\n",
       "    <tr style=\"text-align: right;\">\n",
       "      <th></th>\n",
       "      <th>Final_Size_USD</th>\n",
       "      <th>Fund_Number_Overall</th>\n",
       "      <th>Fund_Number_Series</th>\n",
       "      <th>GDP_yoy</th>\n",
       "      <th>TR_10yrs</th>\n",
       "      <th>yoy_MSCI</th>\n",
       "      <th>Firm_Age</th>\n",
       "      <th>Funds_Raised_Last_Year</th>\n",
       "      <th>Pcent_Increase_Funds_Last_Year</th>\n",
       "      <th>Local_Currency_USD</th>\n",
       "      <th>Local_Currency_EUR</th>\n",
       "      <th>Fund_Focus_US</th>\n",
       "      <th>Fund_Focus_Europe</th>\n",
       "      <th>Fund_Focus_Asia</th>\n",
       "      <th>Geographic_Scope_Diversified</th>\n",
       "      <th>Industry_Diversified</th>\n",
       "      <th>PME</th>\n",
       "    </tr>\n",
       "  </thead>\n",
       "  <tbody>\n",
       "    <tr>\n",
       "      <th>0</th>\n",
       "      <td>-0.465584</td>\n",
       "      <td>2</td>\n",
       "      <td>2</td>\n",
       "      <td>0.648995</td>\n",
       "      <td>1.779812</td>\n",
       "      <td>-1.012005</td>\n",
       "      <td>-0.771516</td>\n",
       "      <td>-1.778528</td>\n",
       "      <td>3.197683</td>\n",
       "      <td>1</td>\n",
       "      <td>0</td>\n",
       "      <td>1</td>\n",
       "      <td>0</td>\n",
       "      <td>0</td>\n",
       "      <td>0</td>\n",
       "      <td>0</td>\n",
       "      <td>0.0</td>\n",
       "    </tr>\n",
       "    <tr>\n",
       "      <th>1</th>\n",
       "      <td>-0.489999</td>\n",
       "      <td>4</td>\n",
       "      <td>3</td>\n",
       "      <td>0.853648</td>\n",
       "      <td>0.929423</td>\n",
       "      <td>0.944443</td>\n",
       "      <td>-0.202245</td>\n",
       "      <td>-0.882312</td>\n",
       "      <td>0.176394</td>\n",
       "      <td>1</td>\n",
       "      <td>0</td>\n",
       "      <td>1</td>\n",
       "      <td>0</td>\n",
       "      <td>0</td>\n",
       "      <td>0</td>\n",
       "      <td>0</td>\n",
       "      <td>1.0</td>\n",
       "    </tr>\n",
       "  </tbody>\n",
       "</table>\n",
       "</div>"
      ],
      "text/plain": [
       "   Final_Size_USD  Fund_Number_Overall  Fund_Number_Series   GDP_yoy  \\\n",
       "0       -0.465584                    2                   2  0.648995   \n",
       "1       -0.489999                    4                   3  0.853648   \n",
       "\n",
       "   TR_10yrs  yoy_MSCI  Firm_Age  Funds_Raised_Last_Year  \\\n",
       "0  1.779812 -1.012005 -0.771516               -1.778528   \n",
       "1  0.929423  0.944443 -0.202245               -0.882312   \n",
       "\n",
       "   Pcent_Increase_Funds_Last_Year  Local_Currency_USD  Local_Currency_EUR  \\\n",
       "0                        3.197683                   1                   0   \n",
       "1                        0.176394                   1                   0   \n",
       "\n",
       "   Fund_Focus_US  Fund_Focus_Europe  Fund_Focus_Asia  \\\n",
       "0              1                  0                0   \n",
       "1              1                  0                0   \n",
       "\n",
       "   Geographic_Scope_Diversified  Industry_Diversified  PME  \n",
       "0                             0                     0  0.0  \n",
       "1                             0                     0  1.0  "
      ]
     },
     "execution_count": 2,
     "metadata": {},
     "output_type": "execute_result"
    }
   ],
   "source": [
    "df = pd.read_csv(\"Data_BO.csv\")\n",
    "df.head(2)"
   ]
  },
  {
   "cell_type": "code",
   "execution_count": 3,
   "id": "7343b0f3",
   "metadata": {
    "cell_id": "00017-4d51e7f7-ca05-4dc1-b2b2-f537ac42d676",
    "deepnote_cell_type": "code",
    "deepnote_to_be_reexecuted": false,
    "execution_millis": 3,
    "execution_start": 1619550139932,
    "source_hash": "3ecdcd62"
   },
   "outputs": [],
   "source": [
    "feature_cols = df.columns[df.columns != \"PME\"]\n",
    "X = df[feature_cols]\n",
    "y = df[\"PME\"]\n",
    "X_train, X_test, y_train, y_test = train_test_split(X,y, test_size=0.25, stratify=y, random_state=0)"
   ]
  },
  {
   "cell_type": "code",
   "execution_count": 4,
   "id": "0555533e",
   "metadata": {},
   "outputs": [],
   "source": [
    "# try K=1 through K=50 and record testing accuracy\n",
    "k_range = range(1, 50)\n",
    "\n",
    "# We can create Python dictionary using [] or dict()\n",
    "scores = []\n",
    "\n",
    "# We use a loop through the range 1 to 26\n",
    "# We append the scores in the dictionary\n",
    "for k in k_range:\n",
    "    knn = KNeighborsClassifier(n_neighbors=k)\n",
    "    knn.fit(X_train, y_train)\n",
    "    y_pred = knn.predict(X_test)\n",
    "    scores.append(accuracy_score(y_test, y_pred))"
   ]
  },
  {
   "cell_type": "code",
   "execution_count": 5,
   "id": "5fcf26a6",
   "metadata": {},
   "outputs": [
    {
     "data": {
      "image/png": "[encoded data removed]",
      "text/plain": [
       "<Figure size 432x288 with 1 Axes>"
      ]
     },
     "metadata": {
      "needs_background": "light"
     },
     "output_type": "display_data"
    }
   ],
   "source": [
    "# import Matplotlib (scientific plotting library)\n",
    "import matplotlib.pyplot as plt\n",
    "\n",
    "# allow plots to appear within the notebook\n",
    "%matplotlib inline\n",
    "\n",
    "# plot the relationship between K and testing accuracy\n",
    "# plt.plot(x_axis, y_axis)\n",
    "plt.plot(k_range, scores)\n",
    "plt.xlabel('Value of K for KNN')\n",
    "plt.ylabel('Testing Accuracy BO')\n",
    "plt.savefig(\"KNN_comp_BO\")\n",
    "plt.show()"
   ]
  },
  {
   "cell_type": "code",
   "execution_count": 6,
   "id": "fab320ae",
   "metadata": {},
   "outputs": [],
   "source": [
    "df = pd.read_csv(\"Data_VC.csv\")\n",
    "feature_cols = df.columns[df.columns != \"PME\"]\n",
    "X = df[feature_cols]\n",
    "y = df[\"PME\"]\n",
    "X_train, X_test, y_train, y_test = train_test_split(X,y, test_size=0.25, stratify=y,random_state=0)"
   ]
  },
  {
   "cell_type": "code",
   "execution_count": 7,
   "id": "40cbf13e",
   "metadata": {},
   "outputs": [],
   "source": [
    "# try K=1 through K=50 and record testing accuracy\n",
    "k_range = range(1, 50)\n",
    "\n",
    "# We can create Python dictionary using [] or dict()\n",
    "scores = []\n",
    "\n",
    "# We use a loop through the range 1 to 26\n",
    "# We append the scores in the dictionary\n",
    "for k in k_range:\n",
    "    knn = KNeighborsClassifier(n_neighbors=k)\n",
    "    knn.fit(X_train, y_train)\n",
    "    y_pred = knn.predict(X_test)\n",
    "    scores.append(accuracy_score(y_test, y_pred))"
   ]
  },
  {
   "cell_type": "code",
   "execution_count": 8,
   "id": "5352c4f3",
   "metadata": {},
   "outputs": [
    {
     "data": {
      "image/png": "[encoded data removed]",
      "text/plain": [
       "<Figure size 432x288 with 1 Axes>"
      ]
     },
     "metadata": {
      "needs_background": "light"
     },
     "output_type": "display_data"
    }
   ],
   "source": [
    "# import Matplotlib (scientific plotting library)\n",
    "import matplotlib.pyplot as plt\n",
    "\n",
    "# allow plots to appear within the notebook\n",
    "%matplotlib inline\n",
    "\n",
    "# plot the relationship between K and testing accuracy\n",
    "# plt.plot(x_axis, y_axis)\n",
    "plt.plot(k_range, scores)\n",
    "plt.xlabel('Value of K for KNN')\n",
    "plt.ylabel('Testing Accuracy VC')\n",
    "plt.savefig(\"KNN_comp_VC\")\n",
    "plt.show()"
   ]
  }
 ],
 "metadata": {
  "deepnote": {},
  "deepnote_execution_queue": [],
  "deepnote_notebook_id": "07e8e139-9029-466a-94f2-a9d13a9707d5",
  "kernelspec": {
   "display_name": "Python 3",
   "language": "python",
   "name": "python3"
  },
  "language_info": {
   "codemirror_mode": {
    "name": "ipython",
    "version": 3
   },
   "file_extension": ".py",
   "mimetype": "text/x-python",
   "name": "python",
   "nbconvert_exporter": "python",
   "pygments_lexer": "ipython3",
   "version": "3.9.2"
  }
 },
 "nbformat": 4,
 "nbformat_minor": 5
}
