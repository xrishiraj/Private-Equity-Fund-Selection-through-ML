{
 "cells": [
  {
   "cell_type": "markdown",
   "id": "0d64fc13",
   "metadata": {},
   "source": [
    "# AUC curves Venture Cap compare"
   ]
  },
  {
   "cell_type": "code",
   "execution_count": 5,
   "id": "c3aa3748",
   "metadata": {},
   "outputs": [],
   "source": [
    "import numpy as np\n",
    "import pandas as pd \n",
    "import statsmodels.api as sm\n",
    "import seaborn as sns\n",
    "import matplotlib.pyplot as plt\n",
    "from sklearn.preprocessing import scale, StandardScaler\n",
    "from sklearn.model_selection import train_test_split, GridSearchCV, cross_val_score\n",
    "from sklearn.metrics import confusion_matrix, accuracy_score, mean_squared_error, r2_score, roc_auc_score, roc_curve, classification_report\n",
    "%matplotlib inline\n",
    "from sklearn.datasets import make_classification\n",
    "from sklearn.metrics import roc_curve, auc\n",
    "from sklearn.metrics import roc_auc_score\n",
    "from sklearn import model_selection\n",
    "from sklearn.discriminant_analysis import LinearDiscriminantAnalysis\n",
    "from sklearn.discriminant_analysis import QuadraticDiscriminantAnalysis\n",
    "from sklearn.naive_bayes import GaussianNB\n",
    "from sklearn.linear_model import LogisticRegression\n",
    "from sklearn.neighbors import KNeighborsClassifier\n",
    "from sklearn.svm import SVC\n",
    "from sklearn.neural_network import MLPClassifier\n",
    "from sklearn.tree import DecisionTreeClassifier\n",
    "from sklearn.ensemble import RandomForestClassifier\n",
    "from sklearn.ensemble import GradientBoostingClassifier\n"
   ]
  },
  {
   "cell_type": "code",
   "execution_count": 6,
   "id": "ed1c1be4",
   "metadata": {},
   "outputs": [
    {
     "data": {
      "text/html": [
       "<div>\n",
       "<style scoped>\n",
       "    .dataframe tbody tr th:only-of-type {\n",
       "        vertical-align: middle;\n",
       "    }\n",
       "\n",
       "    .dataframe tbody tr th {\n",
       "        vertical-align: top;\n",
       "    }\n",
       "\n",
       "    .dataframe thead th {\n",
       "        text-align: right;\n",
       "    }\n",
       "</style>\n",
       "<table border=\"1\" class=\"dataframe\">\n",
       "  <thead>\n",
       "    <tr style=\"text-align: right;\">\n",
       "      <th></th>\n",
       "      <th>Final_Size_USD</th>\n",
       "      <th>Fund_Number_Overall</th>\n",
       "      <th>Fund_Number_Series</th>\n",
       "      <th>GDP_yoy</th>\n",
       "      <th>TR_10yrs</th>\n",
       "      <th>yoy_MSCI</th>\n",
       "      <th>Firm_Age</th>\n",
       "      <th>Funds_Raised_Last_Year</th>\n",
       "      <th>Pcent_Increase_Funds_Last_Year</th>\n",
       "      <th>Local_Currency_USD</th>\n",
       "      <th>Local_Currency_EUR</th>\n",
       "      <th>Fund_Focus_US</th>\n",
       "      <th>Fund_Focus_Europe</th>\n",
       "      <th>Fund_Focus_Asia</th>\n",
       "      <th>Geographic_Scope_Diversified</th>\n",
       "      <th>Industry_Diversified</th>\n",
       "      <th>PME</th>\n",
       "      <th>VC_Specialized</th>\n",
       "    </tr>\n",
       "  </thead>\n",
       "  <tbody>\n",
       "    <tr>\n",
       "      <th>0</th>\n",
       "      <td>-0.223341</td>\n",
       "      <td>1</td>\n",
       "      <td>1</td>\n",
       "      <td>0.655172</td>\n",
       "      <td>1.413158</td>\n",
       "      <td>-0.382939</td>\n",
       "      <td>-0.681793</td>\n",
       "      <td>-1.371857</td>\n",
       "      <td>1.071139</td>\n",
       "      <td>1</td>\n",
       "      <td>0</td>\n",
       "      <td>1</td>\n",
       "      <td>0</td>\n",
       "      <td>0</td>\n",
       "      <td>0</td>\n",
       "      <td>0</td>\n",
       "      <td>0.0</td>\n",
       "      <td>0</td>\n",
       "    </tr>\n",
       "    <tr>\n",
       "      <th>1</th>\n",
       "      <td>-0.295691</td>\n",
       "      <td>5</td>\n",
       "      <td>3</td>\n",
       "      <td>0.774167</td>\n",
       "      <td>0.759574</td>\n",
       "      <td>-1.441856</td>\n",
       "      <td>1.575977</td>\n",
       "      <td>0.081253</td>\n",
       "      <td>1.486316</td>\n",
       "      <td>1</td>\n",
       "      <td>0</td>\n",
       "      <td>0</td>\n",
       "      <td>1</td>\n",
       "      <td>0</td>\n",
       "      <td>0</td>\n",
       "      <td>0</td>\n",
       "      <td>0.0</td>\n",
       "      <td>0</td>\n",
       "    </tr>\n",
       "  </tbody>\n",
       "</table>\n",
       "</div>"
      ],
      "text/plain": [
       "   Final_Size_USD  Fund_Number_Overall  Fund_Number_Series   GDP_yoy  \\\n",
       "0       -0.223341                    1                   1  0.655172   \n",
       "1       -0.295691                    5                   3  0.774167   \n",
       "\n",
       "   TR_10yrs  yoy_MSCI  Firm_Age  Funds_Raised_Last_Year  \\\n",
       "0  1.413158 -0.382939 -0.681793               -1.371857   \n",
       "1  0.759574 -1.441856  1.575977                0.081253   \n",
       "\n",
       "   Pcent_Increase_Funds_Last_Year  Local_Currency_USD  Local_Currency_EUR  \\\n",
       "0                        1.071139                   1                   0   \n",
       "1                        1.486316                   1                   0   \n",
       "\n",
       "   Fund_Focus_US  Fund_Focus_Europe  Fund_Focus_Asia  \\\n",
       "0              1                  0                0   \n",
       "1              0                  1                0   \n",
       "\n",
       "   Geographic_Scope_Diversified  Industry_Diversified  PME  VC_Specialized  \n",
       "0                             0                     0  0.0               0  \n",
       "1                             0                     0  0.0               0  "
      ]
     },
     "execution_count": 6,
     "metadata": {},
     "output_type": "execute_result"
    }
   ],
   "source": [
    "df = pd.read_csv(\"Data_VC.csv\")\n",
    "df.head(2)"
   ]
  },
  {
   "cell_type": "code",
   "execution_count": 7,
   "id": "b0395e1e",
   "metadata": {},
   "outputs": [],
   "source": [
    "feature_cols = df.columns[df.columns != \"PME\"]\n",
    "X = df[feature_cols]\n",
    "y = df[\"PME\"]\n",
    "X_train, X_test, y_train, y_test = train_test_split(X,y, test_size=0.25, stratify=y, random_state = 0)"
   ]
  },
  {
   "cell_type": "code",
   "execution_count": 8,
   "id": "ace39c32",
   "metadata": {},
   "outputs": [
    {
     "name": "stderr",
     "output_type": "stream",
     "text": [
      "C:\\Users\\rishi\\.conda\\envs\\jupLab\\lib\\site-packages\\sklearn\\neural_network\\_multilayer_perceptron.py:614: ConvergenceWarning: Stochastic Optimizer: Maximum iterations (200) reached and the optimization hasn't converged yet.\n",
      "  warnings.warn(\n"
     ]
    },
    {
     "data": {
      "image/png": "[encoded data removed]",
      "text/plain": [
       "<Figure size 432x288 with 1 Axes>"
      ]
     },
     "metadata": {
      "needs_background": "light"
     },
     "output_type": "display_data"
    }
   ],
   "source": [
    "#ROC Curve\n",
    "from sklearn.metrics import roc_curve\n",
    "log_reg= LogisticRegression(random_state=0)\n",
    "log_reg.fit(X_train,y_train)\n",
    "y_pred_prob1 = log_reg.predict_proba(X_test)[:,1]\n",
    "fpr1 , tpr1, thresholds1 = roc_curve(y_test, y_pred_prob1)\n",
    "\n",
    "lda = LinearDiscriminantAnalysis()\n",
    "lda.fit(X_train, y_train)\n",
    "y_pred_prob2 = lda.predict_proba(X_test)[:,1]\n",
    "fpr2 , tpr2, thresholds2 = roc_curve(y_test, y_pred_prob2)\n",
    "\n",
    "qda = QuadraticDiscriminantAnalysis()\n",
    "qda.fit(X_train, y_train)\n",
    "y_pred_prob3 = qda.predict_proba(X_test)[:,1]\n",
    "fpr3 , tpr3, thresholds3 = roc_curve(y_test, y_pred_prob3)\n",
    "\n",
    "\n",
    "knn = KNeighborsClassifier()\n",
    "knn.fit(X_train, y_train)\n",
    "y_pred_prob4 = knn.predict_proba(X_test)[:,1]\n",
    "fpr4 , tpr4, thresholds4 = roc_curve(y_test, y_pred_prob4)\n",
    "\n",
    "\n",
    "svc = SVC(kernel='linear', probability=True, random_state=0)\n",
    "svc.fit(X_train, y_train)\n",
    "y_pred_prob5 = svc.predict_proba(X_test)[:,1]\n",
    "fpr5 , tpr5, thresholds5 = roc_curve(y_test, y_pred_prob5)\n",
    "\n",
    "mlp = MLPClassifier(hidden_layer_sizes=(30,30,30))\n",
    "mlp.fit(X_train, y_train)\n",
    "y_pred_prob6 = mlp.predict_proba(X_test)[:,1]\n",
    "fpr6, tpr6, thresholds6 = roc_curve(y_test, y_pred_prob6)\n",
    "\n",
    "plt.plot([0,1],[0,1], 'k--')\n",
    "plt.plot(fpr1, tpr1, label= \"Logistic\")\n",
    "plt.plot(fpr2, tpr2, label= \"LDA\")\n",
    "plt.plot(fpr3, tpr3, label = 'QDA')\n",
    "plt.plot(fpr4, tpr4, label = \"KNN\")\n",
    "plt.plot(fpr5, tpr5, label = 'SVC')\n",
    "plt.plot(fpr6, tpr6, label = 'MLP')\n",
    "plt.legend()\n",
    "plt.xlabel(\"False Positive Rate\")\n",
    "plt.ylabel(\"True Positive Rate\")\n",
    "plt.title('Receiver Operating Characteristic')\n",
    "plt.savefig(\"VC_comp_AUC.png\")\n",
    "plt.show()"
   ]
  }
 ],
 "metadata": {
  "kernelspec": {
   "display_name": "Thesis",
   "language": "python",
   "name": "juplab"
  },
  "language_info": {
   "codemirror_mode": {
    "name": "ipython",
    "version": 3
   },
   "file_extension": ".py",
   "mimetype": "text/x-python",
   "name": "python",
   "nbconvert_exporter": "python",
   "pygments_lexer": "ipython3",
   "version": "3.9.2"
  }
 },
 "nbformat": 4,
 "nbformat_minor": 5
}
